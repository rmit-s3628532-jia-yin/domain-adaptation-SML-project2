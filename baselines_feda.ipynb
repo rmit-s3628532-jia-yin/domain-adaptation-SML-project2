{
 "cells": [
  {
   "cell_type": "code",
   "execution_count": 1,
   "metadata": {},
   "outputs": [],
   "source": [
    "import pandas as pd\n",
    "from sklearn.model_selection import train_test_split\n",
    "import matplotlib.pyplot as plt\n",
    "import seaborn as sns\n",
    "from sklearn.preprocessing import StandardScaler, MinMaxScaler\n",
    "import numpy as np\n",
    "from IPython.display import display, HTML\n",
    "pd.set_option('display.max_columns', 500)\n",
    "\n",
    "male_df = pd.read_csv(\"../Data-Project2/MALE.csv\")\n",
    "female_df = pd.read_csv(\"../Data-Project2/FEMALE.csv\")\n",
    "mixed_df = pd.read_csv(\"../Data-Project2/MIXED.csv\")"
   ]
  },
  {
   "cell_type": "code",
   "execution_count": 2,
   "metadata": {},
   "outputs": [
    {
     "data": {
      "text/html": [
       "<div>\n",
       "<style scoped>\n",
       "    .dataframe tbody tr th:only-of-type {\n",
       "        vertical-align: middle;\n",
       "    }\n",
       "\n",
       "    .dataframe tbody tr th {\n",
       "        vertical-align: top;\n",
       "    }\n",
       "\n",
       "    .dataframe thead th {\n",
       "        text-align: right;\n",
       "    }\n",
       "</style>\n",
       "<table border=\"1\" class=\"dataframe\">\n",
       "  <thead>\n",
       "    <tr style=\"text-align: right;\">\n",
       "      <th></th>\n",
       "      <th>Year</th>\n",
       "      <th>FSM</th>\n",
       "      <th>VR1 Band</th>\n",
       "      <th>VR Band of Student</th>\n",
       "      <th>Ethnic group of student</th>\n",
       "      <th>School denomination</th>\n",
       "      <th>Exam Score</th>\n",
       "    </tr>\n",
       "  </thead>\n",
       "  <tbody>\n",
       "    <tr>\n",
       "      <th>Year</th>\n",
       "      <td>1.000000</td>\n",
       "      <td>0.310356</td>\n",
       "      <td>-0.115156</td>\n",
       "      <td>-0.012401</td>\n",
       "      <td>0.016566</td>\n",
       "      <td>-0.054839</td>\n",
       "      <td>0.030357</td>\n",
       "    </tr>\n",
       "    <tr>\n",
       "      <th>FSM</th>\n",
       "      <td>0.310356</td>\n",
       "      <td>1.000000</td>\n",
       "      <td>-0.663802</td>\n",
       "      <td>-0.057669</td>\n",
       "      <td>0.143429</td>\n",
       "      <td>-0.195003</td>\n",
       "      <td>-0.145205</td>\n",
       "    </tr>\n",
       "    <tr>\n",
       "      <th>VR1 Band</th>\n",
       "      <td>-0.115156</td>\n",
       "      <td>-0.663802</td>\n",
       "      <td>1.000000</td>\n",
       "      <td>0.055520</td>\n",
       "      <td>-0.114039</td>\n",
       "      <td>0.239845</td>\n",
       "      <td>0.189623</td>\n",
       "    </tr>\n",
       "    <tr>\n",
       "      <th>VR Band of Student</th>\n",
       "      <td>-0.012401</td>\n",
       "      <td>-0.057669</td>\n",
       "      <td>0.055520</td>\n",
       "      <td>1.000000</td>\n",
       "      <td>-0.040201</td>\n",
       "      <td>0.015157</td>\n",
       "      <td>0.122282</td>\n",
       "    </tr>\n",
       "    <tr>\n",
       "      <th>Ethnic group of student</th>\n",
       "      <td>0.016566</td>\n",
       "      <td>0.143429</td>\n",
       "      <td>-0.114039</td>\n",
       "      <td>-0.040201</td>\n",
       "      <td>1.000000</td>\n",
       "      <td>0.050347</td>\n",
       "      <td>0.035312</td>\n",
       "    </tr>\n",
       "    <tr>\n",
       "      <th>School denomination</th>\n",
       "      <td>-0.054839</td>\n",
       "      <td>-0.195003</td>\n",
       "      <td>0.239845</td>\n",
       "      <td>0.015157</td>\n",
       "      <td>0.050347</td>\n",
       "      <td>1.000000</td>\n",
       "      <td>0.110279</td>\n",
       "    </tr>\n",
       "    <tr>\n",
       "      <th>Exam Score</th>\n",
       "      <td>0.030357</td>\n",
       "      <td>-0.145205</td>\n",
       "      <td>0.189623</td>\n",
       "      <td>0.122282</td>\n",
       "      <td>0.035312</td>\n",
       "      <td>0.110279</td>\n",
       "      <td>1.000000</td>\n",
       "    </tr>\n",
       "  </tbody>\n",
       "</table>\n",
       "</div>"
      ],
      "text/plain": [
       "                             Year       FSM  VR1 Band  VR Band of Student  \\\n",
       "Year                     1.000000  0.310356 -0.115156           -0.012401   \n",
       "FSM                      0.310356  1.000000 -0.663802           -0.057669   \n",
       "VR1 Band                -0.115156 -0.663802  1.000000            0.055520   \n",
       "VR Band of Student      -0.012401 -0.057669  0.055520            1.000000   \n",
       "Ethnic group of student  0.016566  0.143429 -0.114039           -0.040201   \n",
       "School denomination     -0.054839 -0.195003  0.239845            0.015157   \n",
       "Exam Score               0.030357 -0.145205  0.189623            0.122282   \n",
       "\n",
       "                         Ethnic group of student  School denomination  \\\n",
       "Year                                    0.016566            -0.054839   \n",
       "FSM                                     0.143429            -0.195003   \n",
       "VR1 Band                               -0.114039             0.239845   \n",
       "VR Band of Student                     -0.040201             0.015157   \n",
       "Ethnic group of student                 1.000000             0.050347   \n",
       "School denomination                     0.050347             1.000000   \n",
       "Exam Score                              0.035312             0.110279   \n",
       "\n",
       "                         Exam Score  \n",
       "Year                       0.030357  \n",
       "FSM                       -0.145205  \n",
       "VR1 Band                   0.189623  \n",
       "VR Band of Student         0.122282  \n",
       "Ethnic group of student    0.035312  \n",
       "School denomination        0.110279  \n",
       "Exam Score                 1.000000  "
      ]
     },
     "execution_count": 2,
     "metadata": {},
     "output_type": "execute_result"
    },
    {
     "data": {
      "image/png": "[encoded data removed]",
      "text/plain": [
       "<Figure size 576x576 with 2 Axes>"
      ]
     },
     "metadata": {
      "needs_background": "light"
     },
     "output_type": "display_data"
    }
   ],
   "source": [
    "male_df.head()\n",
    "\n",
    "## correlation matrix\n",
    "corr = mixed_df.corr()\n",
    "plt.figure(figsize = (8,8))\n",
    "\n",
    "ax = sns.heatmap(\n",
    "    corr, \n",
    "    vmin=-1, vmax=1, center=0,\n",
    "    cmap=sns.diverging_palette(20, 220, n=200),\n",
    "    square=True\n",
    ")\n",
    "ax.set_xticklabels(\n",
    "    ax.get_xticklabels(),\n",
    "    rotation=45,\n",
    "    horizontalalignment='right'\n",
    ");\n",
    "# data_copy.dtypes\n",
    "# data_copy.head()\n",
    "mixed_df.corr()"
   ]
  },
  {
   "cell_type": "code",
   "execution_count": 3,
   "metadata": {},
   "outputs": [
    {
     "name": "stdout",
     "output_type": "stream",
     "text": [
      "(7289, 7)\n"
     ]
    }
   ],
   "source": [
    "mixed_df['VR Band of Student'].value_counts()\n",
    "\n",
    "### remove rows where \"VR Band of Student\" is 0, since the meaning of \"0\" is unknown\n",
    "mixed_df.drop(mixed_df[mixed_df['VR Band of Student'] == 0].index, inplace = True) \n",
    "mixed_df['VR Band of Student'].value_counts()\n",
    "\n",
    "print(mixed_df.shape)"
   ]
  },
  {
   "cell_type": "code",
   "execution_count": 4,
   "metadata": {},
   "outputs": [],
   "source": [
    "### one hot encoding a column\n",
    "def one_hot_encoding(df, column):\n",
    "    # Get one hot encoding of column B\n",
    "    one_hot = pd.get_dummies(df[column], prefix=column)\n",
    "    # Drop column B as it is now encoded\n",
    "    new_df = df.drop(column, axis = 1)\n",
    "    # Join the encoded df\n",
    "    return new_df.join(one_hot)  "
   ]
  },
  {
   "cell_type": "code",
   "execution_count": 5,
   "metadata": {},
   "outputs": [
    {
     "data": {
      "text/html": [
       "<div>\n",
       "<style scoped>\n",
       "    .dataframe tbody tr th:only-of-type {\n",
       "        vertical-align: middle;\n",
       "    }\n",
       "\n",
       "    .dataframe tbody tr th {\n",
       "        vertical-align: top;\n",
       "    }\n",
       "\n",
       "    .dataframe thead th {\n",
       "        text-align: right;\n",
       "    }\n",
       "</style>\n",
       "<table border=\"1\" class=\"dataframe\">\n",
       "  <thead>\n",
       "    <tr style=\"text-align: right;\">\n",
       "      <th></th>\n",
       "      <th>Year</th>\n",
       "      <th>VR1 Band</th>\n",
       "      <th>Exam Score</th>\n",
       "      <th>Ethnic group of student_1</th>\n",
       "      <th>Ethnic group of student_2</th>\n",
       "      <th>Ethnic group of student_3</th>\n",
       "      <th>Ethnic group of student_4</th>\n",
       "      <th>Ethnic group of student_5</th>\n",
       "      <th>Ethnic group of student_6</th>\n",
       "      <th>Ethnic group of student_7</th>\n",
       "      <th>Ethnic group of student_8</th>\n",
       "      <th>Ethnic group of student_9</th>\n",
       "      <th>Ethnic group of student_10</th>\n",
       "      <th>Ethnic group of student_11</th>\n",
       "      <th>School denomination_1</th>\n",
       "      <th>School denomination_2</th>\n",
       "      <th>School denomination_3</th>\n",
       "      <th>VR Band of Student_1</th>\n",
       "      <th>VR Band of Student_2</th>\n",
       "      <th>VR Band of Student_3</th>\n",
       "    </tr>\n",
       "  </thead>\n",
       "  <tbody>\n",
       "    <tr>\n",
       "      <th>0</th>\n",
       "      <td>1</td>\n",
       "      <td>21</td>\n",
       "      <td>20</td>\n",
       "      <td>1</td>\n",
       "      <td>0</td>\n",
       "      <td>0</td>\n",
       "      <td>0</td>\n",
       "      <td>0</td>\n",
       "      <td>0</td>\n",
       "      <td>0</td>\n",
       "      <td>0</td>\n",
       "      <td>0</td>\n",
       "      <td>0</td>\n",
       "      <td>0</td>\n",
       "      <td>0</td>\n",
       "      <td>1</td>\n",
       "      <td>0</td>\n",
       "      <td>0</td>\n",
       "      <td>1</td>\n",
       "      <td>0</td>\n",
       "    </tr>\n",
       "    <tr>\n",
       "      <th>1</th>\n",
       "      <td>1</td>\n",
       "      <td>21</td>\n",
       "      <td>12</td>\n",
       "      <td>1</td>\n",
       "      <td>0</td>\n",
       "      <td>0</td>\n",
       "      <td>0</td>\n",
       "      <td>0</td>\n",
       "      <td>0</td>\n",
       "      <td>0</td>\n",
       "      <td>0</td>\n",
       "      <td>0</td>\n",
       "      <td>0</td>\n",
       "      <td>0</td>\n",
       "      <td>0</td>\n",
       "      <td>1</td>\n",
       "      <td>0</td>\n",
       "      <td>0</td>\n",
       "      <td>0</td>\n",
       "      <td>1</td>\n",
       "    </tr>\n",
       "    <tr>\n",
       "      <th>2</th>\n",
       "      <td>1</td>\n",
       "      <td>21</td>\n",
       "      <td>16</td>\n",
       "      <td>1</td>\n",
       "      <td>0</td>\n",
       "      <td>0</td>\n",
       "      <td>0</td>\n",
       "      <td>0</td>\n",
       "      <td>0</td>\n",
       "      <td>0</td>\n",
       "      <td>0</td>\n",
       "      <td>0</td>\n",
       "      <td>0</td>\n",
       "      <td>0</td>\n",
       "      <td>0</td>\n",
       "      <td>1</td>\n",
       "      <td>0</td>\n",
       "      <td>1</td>\n",
       "      <td>0</td>\n",
       "      <td>0</td>\n",
       "    </tr>\n",
       "    <tr>\n",
       "      <th>3</th>\n",
       "      <td>1</td>\n",
       "      <td>21</td>\n",
       "      <td>10</td>\n",
       "      <td>0</td>\n",
       "      <td>0</td>\n",
       "      <td>0</td>\n",
       "      <td>0</td>\n",
       "      <td>1</td>\n",
       "      <td>0</td>\n",
       "      <td>0</td>\n",
       "      <td>0</td>\n",
       "      <td>0</td>\n",
       "      <td>0</td>\n",
       "      <td>0</td>\n",
       "      <td>0</td>\n",
       "      <td>1</td>\n",
       "      <td>0</td>\n",
       "      <td>0</td>\n",
       "      <td>0</td>\n",
       "      <td>1</td>\n",
       "    </tr>\n",
       "    <tr>\n",
       "      <th>4</th>\n",
       "      <td>1</td>\n",
       "      <td>21</td>\n",
       "      <td>9</td>\n",
       "      <td>1</td>\n",
       "      <td>0</td>\n",
       "      <td>0</td>\n",
       "      <td>0</td>\n",
       "      <td>0</td>\n",
       "      <td>0</td>\n",
       "      <td>0</td>\n",
       "      <td>0</td>\n",
       "      <td>0</td>\n",
       "      <td>0</td>\n",
       "      <td>0</td>\n",
       "      <td>0</td>\n",
       "      <td>1</td>\n",
       "      <td>0</td>\n",
       "      <td>0</td>\n",
       "      <td>0</td>\n",
       "      <td>1</td>\n",
       "    </tr>\n",
       "  </tbody>\n",
       "</table>\n",
       "</div>"
      ],
      "text/plain": [
       "   Year  VR1 Band  Exam Score  Ethnic group of student_1  \\\n",
       "0     1        21          20                          1   \n",
       "1     1        21          12                          1   \n",
       "2     1        21          16                          1   \n",
       "3     1        21          10                          0   \n",
       "4     1        21           9                          1   \n",
       "\n",
       "   Ethnic group of student_2  Ethnic group of student_3  \\\n",
       "0                          0                          0   \n",
       "1                          0                          0   \n",
       "2                          0                          0   \n",
       "3                          0                          0   \n",
       "4                          0                          0   \n",
       "\n",
       "   Ethnic group of student_4  Ethnic group of student_5  \\\n",
       "0                          0                          0   \n",
       "1                          0                          0   \n",
       "2                          0                          0   \n",
       "3                          0                          1   \n",
       "4                          0                          0   \n",
       "\n",
       "   Ethnic group of student_6  Ethnic group of student_7  \\\n",
       "0                          0                          0   \n",
       "1                          0                          0   \n",
       "2                          0                          0   \n",
       "3                          0                          0   \n",
       "4                          0                          0   \n",
       "\n",
       "   Ethnic group of student_8  Ethnic group of student_9  \\\n",
       "0                          0                          0   \n",
       "1                          0                          0   \n",
       "2                          0                          0   \n",
       "3                          0                          0   \n",
       "4                          0                          0   \n",
       "\n",
       "   Ethnic group of student_10  Ethnic group of student_11  \\\n",
       "0                           0                           0   \n",
       "1                           0                           0   \n",
       "2                           0                           0   \n",
       "3                           0                           0   \n",
       "4                           0                           0   \n",
       "\n",
       "   School denomination_1  School denomination_2  School denomination_3  \\\n",
       "0                      0                      1                      0   \n",
       "1                      0                      1                      0   \n",
       "2                      0                      1                      0   \n",
       "3                      0                      1                      0   \n",
       "4                      0                      1                      0   \n",
       "\n",
       "   VR Band of Student_1  VR Band of Student_2  VR Band of Student_3  \n",
       "0                     0                     1                     0  \n",
       "1                     0                     0                     1  \n",
       "2                     1                     0                     0  \n",
       "3                     0                     0                     1  \n",
       "4                     0                     0                     1  "
      ]
     },
     "execution_count": 5,
     "metadata": {},
     "output_type": "execute_result"
    }
   ],
   "source": [
    "## one hot encode categorical features\n",
    "male_df = one_hot_encoding(male_df, 'Ethnic group of student')\n",
    "male_df = one_hot_encoding(male_df, 'School denomination')\n",
    "\n",
    "female_df = one_hot_encoding(female_df, 'Ethnic group of student')\n",
    "female_df = one_hot_encoding(female_df, 'School denomination')\n",
    "\n",
    "mixed_df = one_hot_encoding(mixed_df, 'Ethnic group of student')\n",
    "mixed_df = one_hot_encoding(mixed_df, 'School denomination')\n",
    "\n",
    "## one hot encode vr band of student\n",
    "male_df = one_hot_encoding(male_df, 'VR Band of Student')\n",
    "female_df = one_hot_encoding(female_df, 'VR Band of Student')\n",
    "mixed_df = one_hot_encoding(mixed_df, 'VR Band of Student')\n",
    "\n",
    "# drop FSM because it's an irrelevant feature\n",
    "male_df = male_df.drop(columns=['FSM'])\n",
    "female_df = female_df.drop(columns=['FSM'])\n",
    "mixed_df = mixed_df.drop(columns=['FSM'])\n",
    "\n",
    "male_df.head()"
   ]
  },
  {
   "cell_type": "code",
   "execution_count": 6,
   "metadata": {},
   "outputs": [],
   "source": [
    "### split data into training, development and test partitions\n",
    "def split_data(df):\n",
    "    data = {}\n",
    "    \n",
    "    X = df.drop(columns=['Exam Score'])\n",
    "    y = df['Exam Score']\n",
    "    X_train, X_test, y_train, y_test = train_test_split(X, y, test_size=0.1, random_state=1)\n",
    "    X_train, X_dev, y_train, y_dev = train_test_split(X_train, y_train, test_size=0.11, random_state=1)\n",
    "    \n",
    "    data['X_train'] = X_train\n",
    "    data['X_dev'] = X_dev\n",
    "    data['X_test'] = X_test\n",
    "    data['y_train'] = y_train\n",
    "    data['y_dev'] = y_dev\n",
    "    data['y_test'] = y_test\n",
    "    \n",
    "    return data"
   ]
  },
  {
   "cell_type": "code",
   "execution_count": 7,
   "metadata": {},
   "outputs": [
    {
     "name": "stdout",
     "output_type": "stream",
     "text": [
      "(2926, 19)\n",
      "(3527, 19)\n",
      "(5838, 19)\n",
      "(362, 19)\n"
     ]
    },
    {
     "data": {
      "text/html": [
       "<div>\n",
       "<style scoped>\n",
       "    .dataframe tbody tr th:only-of-type {\n",
       "        vertical-align: middle;\n",
       "    }\n",
       "\n",
       "    .dataframe tbody tr th {\n",
       "        vertical-align: top;\n",
       "    }\n",
       "\n",
       "    .dataframe thead th {\n",
       "        text-align: right;\n",
       "    }\n",
       "</style>\n",
       "<table border=\"1\" class=\"dataframe\">\n",
       "  <thead>\n",
       "    <tr style=\"text-align: right;\">\n",
       "      <th></th>\n",
       "      <th>Year</th>\n",
       "      <th>VR1 Band</th>\n",
       "      <th>Ethnic group of student_1</th>\n",
       "      <th>Ethnic group of student_2</th>\n",
       "      <th>Ethnic group of student_3</th>\n",
       "      <th>Ethnic group of student_4</th>\n",
       "      <th>Ethnic group of student_5</th>\n",
       "      <th>Ethnic group of student_6</th>\n",
       "      <th>Ethnic group of student_7</th>\n",
       "      <th>Ethnic group of student_8</th>\n",
       "      <th>Ethnic group of student_9</th>\n",
       "      <th>Ethnic group of student_10</th>\n",
       "      <th>Ethnic group of student_11</th>\n",
       "      <th>School denomination_1</th>\n",
       "      <th>School denomination_2</th>\n",
       "      <th>School denomination_3</th>\n",
       "      <th>VR Band of Student_1</th>\n",
       "      <th>VR Band of Student_2</th>\n",
       "      <th>VR Band of Student_3</th>\n",
       "    </tr>\n",
       "  </thead>\n",
       "  <tbody>\n",
       "    <tr>\n",
       "      <th>2058</th>\n",
       "      <td>1</td>\n",
       "      <td>38</td>\n",
       "      <td>0</td>\n",
       "      <td>0</td>\n",
       "      <td>0</td>\n",
       "      <td>0</td>\n",
       "      <td>1</td>\n",
       "      <td>0</td>\n",
       "      <td>0</td>\n",
       "      <td>0</td>\n",
       "      <td>0</td>\n",
       "      <td>0</td>\n",
       "      <td>0</td>\n",
       "      <td>0</td>\n",
       "      <td>0</td>\n",
       "      <td>1</td>\n",
       "      <td>0</td>\n",
       "      <td>1</td>\n",
       "      <td>0</td>\n",
       "    </tr>\n",
       "    <tr>\n",
       "      <th>1123</th>\n",
       "      <td>2</td>\n",
       "      <td>25</td>\n",
       "      <td>0</td>\n",
       "      <td>0</td>\n",
       "      <td>0</td>\n",
       "      <td>0</td>\n",
       "      <td>1</td>\n",
       "      <td>0</td>\n",
       "      <td>0</td>\n",
       "      <td>0</td>\n",
       "      <td>0</td>\n",
       "      <td>0</td>\n",
       "      <td>0</td>\n",
       "      <td>1</td>\n",
       "      <td>0</td>\n",
       "      <td>0</td>\n",
       "      <td>0</td>\n",
       "      <td>0</td>\n",
       "      <td>1</td>\n",
       "    </tr>\n",
       "    <tr>\n",
       "      <th>766</th>\n",
       "      <td>2</td>\n",
       "      <td>25</td>\n",
       "      <td>1</td>\n",
       "      <td>0</td>\n",
       "      <td>0</td>\n",
       "      <td>0</td>\n",
       "      <td>0</td>\n",
       "      <td>0</td>\n",
       "      <td>0</td>\n",
       "      <td>0</td>\n",
       "      <td>0</td>\n",
       "      <td>0</td>\n",
       "      <td>0</td>\n",
       "      <td>0</td>\n",
       "      <td>0</td>\n",
       "      <td>1</td>\n",
       "      <td>1</td>\n",
       "      <td>0</td>\n",
       "      <td>0</td>\n",
       "    </tr>\n",
       "    <tr>\n",
       "      <th>1510</th>\n",
       "      <td>2</td>\n",
       "      <td>27</td>\n",
       "      <td>0</td>\n",
       "      <td>0</td>\n",
       "      <td>0</td>\n",
       "      <td>0</td>\n",
       "      <td>0</td>\n",
       "      <td>0</td>\n",
       "      <td>0</td>\n",
       "      <td>1</td>\n",
       "      <td>0</td>\n",
       "      <td>0</td>\n",
       "      <td>0</td>\n",
       "      <td>1</td>\n",
       "      <td>0</td>\n",
       "      <td>0</td>\n",
       "      <td>0</td>\n",
       "      <td>0</td>\n",
       "      <td>1</td>\n",
       "    </tr>\n",
       "    <tr>\n",
       "      <th>2380</th>\n",
       "      <td>3</td>\n",
       "      <td>11</td>\n",
       "      <td>0</td>\n",
       "      <td>0</td>\n",
       "      <td>0</td>\n",
       "      <td>0</td>\n",
       "      <td>0</td>\n",
       "      <td>0</td>\n",
       "      <td>0</td>\n",
       "      <td>1</td>\n",
       "      <td>0</td>\n",
       "      <td>0</td>\n",
       "      <td>0</td>\n",
       "      <td>1</td>\n",
       "      <td>0</td>\n",
       "      <td>0</td>\n",
       "      <td>1</td>\n",
       "      <td>0</td>\n",
       "      <td>0</td>\n",
       "    </tr>\n",
       "  </tbody>\n",
       "</table>\n",
       "</div>"
      ],
      "text/plain": [
       "      Year  VR1 Band  Ethnic group of student_1  Ethnic group of student_2  \\\n",
       "2058     1        38                          0                          0   \n",
       "1123     2        25                          0                          0   \n",
       "766      2        25                          1                          0   \n",
       "1510     2        27                          0                          0   \n",
       "2380     3        11                          0                          0   \n",
       "\n",
       "      Ethnic group of student_3  Ethnic group of student_4  \\\n",
       "2058                          0                          0   \n",
       "1123                          0                          0   \n",
       "766                           0                          0   \n",
       "1510                          0                          0   \n",
       "2380                          0                          0   \n",
       "\n",
       "      Ethnic group of student_5  Ethnic group of student_6  \\\n",
       "2058                          1                          0   \n",
       "1123                          1                          0   \n",
       "766                           0                          0   \n",
       "1510                          0                          0   \n",
       "2380                          0                          0   \n",
       "\n",
       "      Ethnic group of student_7  Ethnic group of student_8  \\\n",
       "2058                          0                          0   \n",
       "1123                          0                          0   \n",
       "766                           0                          0   \n",
       "1510                          0                          1   \n",
       "2380                          0                          1   \n",
       "\n",
       "      Ethnic group of student_9  Ethnic group of student_10  \\\n",
       "2058                          0                           0   \n",
       "1123                          0                           0   \n",
       "766                           0                           0   \n",
       "1510                          0                           0   \n",
       "2380                          0                           0   \n",
       "\n",
       "      Ethnic group of student_11  School denomination_1  \\\n",
       "2058                           0                      0   \n",
       "1123                           0                      1   \n",
       "766                            0                      0   \n",
       "1510                           0                      1   \n",
       "2380                           0                      1   \n",
       "\n",
       "      School denomination_2  School denomination_3  VR Band of Student_1  \\\n",
       "2058                      0                      1                     0   \n",
       "1123                      0                      0                     0   \n",
       "766                       0                      1                     1   \n",
       "1510                      0                      0                     0   \n",
       "2380                      0                      0                     1   \n",
       "\n",
       "      VR Band of Student_2  VR Band of Student_3  \n",
       "2058                     1                     0  \n",
       "1123                     0                     1  \n",
       "766                      0                     0  \n",
       "1510                     0                     1  \n",
       "2380                     0                     0  "
      ]
     },
     "execution_count": 7,
     "metadata": {},
     "output_type": "execute_result"
    }
   ],
   "source": [
    "data_dict = {}\n",
    "\n",
    "data_dict['male'] = split_data(male_df)\n",
    "data_dict['female'] = split_data(female_df)\n",
    "data_dict['mixed'] = split_data(mixed_df)\n",
    "\n",
    "\n",
    "print(data_dict['male']['X_train'].shape)\n",
    "print(data_dict['female']['X_train'].shape)\n",
    "print(data_dict['mixed']['X_train'].shape)\n",
    "\n",
    "print(data_dict['male']['X_dev'].shape)\n",
    "\n",
    "\n",
    "# print(data_dict['female']['X_dev'].shape)\n",
    "# print(data_dict['female']['X_test'].shape)\n",
    "\n",
    "# print(data_dict['female']['y_train'].shape)\n",
    "# print(data_dict['female']['y_dev'].shape)\n",
    "# print(data_dict['female']['y_test'].shape)\n",
    "data_dict['male']['X_train'].head()"
   ]
  },
  {
   "cell_type": "code",
   "execution_count": 8,
   "metadata": {},
   "outputs": [],
   "source": [
    "def get_100_instances(target, partition, data_dict):\n",
    "    return data_dict[target][partition].iloc[:100]\n",
    "\n",
    "def get_n_instances(target, partition, data_dict, n_instances):\n",
    "    return data_dict[target][partition].iloc[:n_instances]\n",
    "\n",
    "# add columns for a domain which is member of {general, male, female, mixed}\n",
    "def add_columns_for_one_domain(is_zero_vector, df, domain, column_names):  \n",
    "    \n",
    "    new_df = df.copy()\n",
    "    n_rows = new_df.shape[0]\n",
    "    zero_list = [0] * n_rows\n",
    "    \n",
    "    general_df = new_df[column_names]\n",
    "    \n",
    "    if is_zero_vector == True:\n",
    "        for column in general_df:\n",
    "            new_df = new_df.assign(new_column = pd.Series(zero_list).values)\n",
    "            new_df.rename(columns={'new_column': domain + ' ' + column}, inplace=True)\n",
    "    \n",
    "    else:\n",
    "        for column in general_df:\n",
    "            new_df = new_df.assign(new_column = new_df[column].values)\n",
    "            new_df.rename(columns={'new_column': domain + ' ' + column}, inplace=True)\n",
    "            \n",
    "    return new_df"
   ]
  },
  {
   "cell_type": "code",
   "execution_count": 51,
   "metadata": {},
   "outputs": [],
   "source": [
    "def feda_augment_feature_space(target, src_domains, data_dict):\n",
    "    first_src_domain = src_domains[0]\n",
    "    second_src_domain = src_domains[1]\n",
    "    \n",
    "    n_instances_X_train_target = 100 ############\n",
    "    print(n_instances_X_train_target)\n",
    "    \n",
    "    print(\"first source domain: \", first_src_domain)\n",
    "    print(\"second source domain: \", second_src_domain)\n",
    "    \n",
    "    X_train_first_src_domain = data_dict[first_src_domain]['X_train']\n",
    "    X_train_second_src_domain = data_dict[second_src_domain]['X_train']\n",
    "    X_train_target = get_n_instances(target, 'X_train', data_dict, n_instances_X_train_target)\n",
    "    \n",
    "#     print(X_train_target.shape)\n",
    "    \n",
    "    column_names = list(X_train_first_src_domain.columns.values)\n",
    "#     print(column_names)\n",
    "    \n",
    "    ## expand feature space for the first source domain         \n",
    "    X_train_first_src_domain = add_columns_for_one_domain(False, X_train_first_src_domain, first_src_domain, column_names) \n",
    "    X_train_first_src_domain = add_columns_for_one_domain(True, X_train_first_src_domain, second_src_domain, column_names)\n",
    "    X_train_first_src_domain = add_columns_for_one_domain(True, X_train_first_src_domain, target, column_names) \n",
    "    ## second source domain\n",
    "    X_train_second_src_domain = add_columns_for_one_domain(True, X_train_second_src_domain, first_src_domain, column_names) \n",
    "    X_train_second_src_domain = add_columns_for_one_domain(False, X_train_second_src_domain, second_src_domain, column_names) \n",
    "    X_train_second_src_domain = add_columns_for_one_domain(True, X_train_second_src_domain, target, column_names) \n",
    "    ## target\n",
    "    X_train_target = add_columns_for_one_domain(True, X_train_target, first_src_domain, column_names) \n",
    "    X_train_target = add_columns_for_one_domain(True, X_train_target, second_src_domain, column_names) \n",
    "    X_train_target = add_columns_for_one_domain(False, X_train_target, target, column_names) \n",
    "    ## concatenate domain data\n",
    "    X_train = pd.concat([X_train_target, X_train_first_src_domain, \n",
    "                             X_train_second_src_domain], ignore_index=True, sort=False)\n",
    "    y_train = pd.concat([get_n_instances(target, 'y_train', data_dict, n_instances_X_train_target), data_dict[src_domains[0]]['y_train'], \n",
    "                         data_dict[src_domains[1]]['y_train']], ignore_index=True, sort=False)\n",
    "    \n",
    "    ## augment feature space for development and test \n",
    "    X_dev = get_100_instances(target, 'X_dev', data_dict)\n",
    "    y_dev = get_100_instances(target, 'y_dev', data_dict)\n",
    "    \n",
    "    X_test = data_dict[target]['X_test']\n",
    "    y_test = data_dict[target]['y_test']\n",
    "    \n",
    "    X_dev = add_columns_for_one_domain(True, X_dev, first_src_domain, column_names) \n",
    "    X_dev = add_columns_for_one_domain(True, X_dev, second_src_domain, column_names) \n",
    "    X_dev = add_columns_for_one_domain(False, X_dev, target, column_names) \n",
    "    \n",
    "    X_test = add_columns_for_one_domain(True, X_test, first_src_domain, column_names) \n",
    "    X_test = add_columns_for_one_domain(True, X_test, second_src_domain, column_names) \n",
    "    X_test = add_columns_for_one_domain(False, X_test, target, column_names) \n",
    "\n",
    "    return X_train, y_train, X_dev, y_dev, X_test, y_test"
   ]
  },
  {
   "cell_type": "code",
   "execution_count": null,
   "metadata": {},
   "outputs": [],
   "source": []
  },
  {
   "cell_type": "code",
   "execution_count": 52,
   "metadata": {},
   "outputs": [],
   "source": [
    "### get the data partitions for a given target\n",
    "def get_data_partitions_for_a_target(target, data_dict, baseline):\n",
    "    X_train = None\n",
    "    y_train = None\n",
    "    \n",
    "    domains = [\"male\", \"female\", \"mixed\"]\n",
    "    \n",
    "    src_domains = domains.copy()\n",
    "    src_domains.remove(target)\n",
    "        \n",
    "    assert len(src_domains) == 2\n",
    "    \n",
    "    if baseline == 'FEDA':\n",
    "        X_train, y_train, X_dev, y_dev, X_test, y_test = feda_augment_feature_space(target, src_domains, data_dict)\n",
    "        assert X_train.shape[1] == 76 and X_dev.shape[1] == 76 and X_test.shape[1] == 76\n",
    "        \n",
    "        print(\"# column names: #\")\n",
    "        print(list(X_train.columns.values))\n",
    "\n",
    "#         display(X_train)\n",
    "#         display(X_dev)\n",
    "#         display(X_test)\n",
    "        return X_train, y_train, X_dev, y_dev, X_test, y_test\n",
    "        \n",
    "    if baseline == 'ALL' or baseline == 'WEIGHTED':\n",
    "        X_train = pd.concat([get_100_instances(target, 'X_train', data_dict), data_dict[src_domains[0]]['X_train'], \n",
    "                             data_dict[src_domains[1]]['X_train']], ignore_index=True, sort=False)\n",
    "        y_train = pd.concat([get_100_instances(target, 'y_train', data_dict), data_dict[src_domains[0]]['y_train'], \n",
    "                         data_dict[src_domains[1]]['y_train']], ignore_index=True, sort=False)\n",
    "    \n",
    "    if baseline == 'SRCONLY':\n",
    "        X_train = pd.concat([data_dict[src_domains[0]]['X_train'], \n",
    "                             data_dict[src_domains[1]]['X_train']], ignore_index=True, sort=False)\n",
    "        y_train = pd.concat([data_dict[src_domains[0]]['y_train'], \n",
    "                         data_dict[src_domains[1]]['y_train']], ignore_index=True, sort=False)\n",
    "    \n",
    "    if baseline == 'TGTONLY':\n",
    "        X_train = get_100_instances(target, 'X_train', data_dict)\n",
    "        y_train = get_100_instances(target, 'y_train', data_dict)\n",
    "        \n",
    "    X_dev = get_100_instances(target, 'X_dev', data_dict)\n",
    "    y_dev = get_100_instances(target, 'y_dev', data_dict)\n",
    "    \n",
    "    X_test = data_dict[target]['X_test']\n",
    "    y_test = data_dict[target]['y_test']\n",
    "        \n",
    "    return X_train, y_train, X_dev, y_dev, X_test, y_test"
   ]
  },
  {
   "cell_type": "code",
   "execution_count": 11,
   "metadata": {},
   "outputs": [],
   "source": [
    "### tune parameters\n",
    "def tune_paras_lin_reg(X_train, y_train, X_dev, y_dev, para_grid):\n",
    "    best_model = None\n",
    "    best_mse = float('inf')\n",
    "    best_paras = {\n",
    "        \"alpha\": None,\n",
    "    }\n",
    "    \n",
    "    \n",
    "    for alpha in para_grid[\"alpha\"]:\n",
    "        model = Ridge(alpha = alpha)\n",
    "        model.fit(X_train, y_train)\n",
    "\n",
    "        pred = model.predict(X_dev)\n",
    "\n",
    "        mse = mean_squared_error(y_dev, pred)\n",
    "#         print(mse)\n",
    "\n",
    "        if mse < best_mse:\n",
    "            best_mse = mse\n",
    "            best_paras[\"alpha\"] = alpha\n",
    "    \n",
    "            best_model = model\n",
    "                \n",
    "    return best_model, best_mse, best_paras\n",
    "\n",
    "def tune_paras_weighted_lin_reg(X_train, y_train, X_dev, y_dev, para_grid):\n",
    "    best_model = None\n",
    "    best_mse = float('inf')\n",
    "    best_paras = {\n",
    "        \"alpha\": None,\n",
    "        \"weight\": None\n",
    "    }\n",
    "    \n",
    "    n_src_samples = X_train.shape[0] - 100\n",
    "    \n",
    "    for alpha in para_grid[\"alpha\"]:\n",
    "        for weight in para_grid[\"weight\"]:\n",
    "            \n",
    "            sample_weight = [1] * 100 + [weight] * n_src_samples\n",
    "            \n",
    "            model = Ridge(alpha = alpha)\n",
    "            model.fit(X_train, y_train, sample_weight = sample_weight)\n",
    "\n",
    "            pred = model.predict(X_dev)\n",
    "\n",
    "            mse = mean_squared_error(y_dev, pred)\n",
    "#             print(mse)\n",
    "\n",
    "            if mse < best_mse:\n",
    "                best_mse = mse\n",
    "                best_paras[\"alpha\"] = alpha\n",
    "                best_paras[\"weight\"] = weight\n",
    "\n",
    "                best_model = model\n",
    "                \n",
    "    return best_model, best_mse, best_paras\n",
    "\n",
    "def tune_para_performance_summary(best_mse, best_paras, model):\n",
    "    print(model + \":\")\n",
    "    print(\"best mse: \", best_mse)\n",
    "    print(\"best parameters: \", best_paras, \"\\n\")"
   ]
  },
  {
   "cell_type": "code",
   "execution_count": 12,
   "metadata": {},
   "outputs": [],
   "source": [
    "### tune parameters for decision tree regressor\n",
    "def tune_paras_decision_tree(X_train, y_train, X_dev, y_dev, para_grid):\n",
    "    best_model = None\n",
    "    best_mse = float('inf')\n",
    "    best_paras = {\n",
    "        \"max_depth\": None,\n",
    "        \"min_samples_split\": None,\n",
    "        \"min_samples_leaf\": None\n",
    "    }\n",
    "        \n",
    "    for max_depth in para_grid[\"max_depth\"]:\n",
    "        for min_samples_split in para_grid[\"min_samples_split\"]:\n",
    "            for min_samples_leaf in para_grid[\"min_samples_leaf\"]:\n",
    "            \n",
    "                model = DecisionTreeRegressor(max_depth = max_depth, min_samples_split = min_samples_split, \n",
    "                                              min_samples_leaf = min_samples_leaf)\n",
    "                model.fit(X_train, y_train)\n",
    "\n",
    "                pred = model.predict(X_dev)\n",
    "\n",
    "                mse = mean_squared_error(y_dev, pred)\n",
    "\n",
    "                if mse < best_mse:\n",
    "                    best_mse = mse\n",
    "                    best_paras[\"max_depth\"] = max_depth\n",
    "                    best_paras[\"min_samples_split\"] = min_samples_split\n",
    "                    best_paras[\"min_samples_leaf\"] = min_samples_leaf\n",
    "\n",
    "                    best_model = model\n",
    "                \n",
    "    return best_model, best_mse, best_paras\n",
    "\n",
    "def tune_paras_weighted_decision_tree(X_train, y_train, X_dev, y_dev, para_grid):\n",
    "    best_model = None\n",
    "    best_mse = float('inf')\n",
    "    best_paras = {\n",
    "        \"max_depth\": None,\n",
    "        \"min_samples_split\": None,\n",
    "        \"min_samples_leaf\": None,\n",
    "        \"weight\": None\n",
    "    }\n",
    "    \n",
    "    n_src_samples = X_train.shape[0] - 100\n",
    "        \n",
    "    for max_depth in para_grid[\"max_depth\"]:\n",
    "        for min_samples_split in para_grid[\"min_samples_split\"]:\n",
    "            for min_samples_leaf in para_grid[\"min_samples_leaf\"]:\n",
    "                for weight in para_grid['weight']:\n",
    "                    sample_weight = [1] * 100 + [weight] * n_src_samples\n",
    "            \n",
    "                    model = DecisionTreeRegressor(max_depth = max_depth, min_samples_split = min_samples_split, \n",
    "                                                  min_samples_leaf = min_samples_leaf)\n",
    "                    model.fit(X_train, y_train, sample_weight = sample_weight)\n",
    "\n",
    "                    pred = model.predict(X_dev)\n",
    "\n",
    "                    mse = mean_squared_error(y_dev, pred)\n",
    "\n",
    "                    if mse < best_mse:\n",
    "                        best_mse = mse\n",
    "                        best_paras[\"max_depth\"] = max_depth\n",
    "                        best_paras[\"min_samples_split\"] = min_samples_split\n",
    "                        best_paras[\"min_samples_leaf\"] = min_samples_leaf\n",
    "                        best_paras[\"weight\"] = weight\n",
    "\n",
    "                        best_model = model\n",
    "                \n",
    "    return best_model, best_mse, best_paras"
   ]
  },
  {
   "cell_type": "code",
   "execution_count": 13,
   "metadata": {},
   "outputs": [],
   "source": [
    "### evaluate performance for a given target\n",
    "def evaluate_performance_on_test(model, X_test, y_test, model_type):\n",
    "    pred = model.predict(X_test)\n",
    "    \n",
    "    print(model_type + \": \")\n",
    "    print('Mean squared error of the final model on test data: %.2f'\n",
    "      % mean_squared_error(y_test, pred))\n",
    "    return mean_squared_error(y_test, pred)\n",
    "\n",
    "def pipeline_given_target(target, data_dict, para_grid, baseline):\n",
    "    scaler = MinMaxScaler()\n",
    "    \n",
    "    X_train, y_train, X_dev, y_dev, X_test, y_test = get_data_partitions_for_a_target(target, data_dict, baseline)\n",
    "    \n",
    "    ### standardize data\n",
    "    X_train = scaler.fit_transform(X_train)\n",
    "    X_dev = scaler.transform(X_dev)\n",
    "    X_test = scaler.transform(X_test)\n",
    "    \n",
    "    if baseline == 'WEIGHTED':\n",
    "        best_model_LR, best_mse_LR, best_paras_LR = tune_paras_weighted_lin_reg(X_train, y_train, X_dev, y_dev, para_grid)\n",
    "        best_model_DT, best_mse_DT, best_paras_DT = tune_paras_weighted_decision_tree(X_train, y_train, X_dev, y_dev, para_grid)\n",
    "        \n",
    "    else:\n",
    "        best_model_LR, best_mse_LR, best_paras_LR = tune_paras_lin_reg(X_train, y_train, X_dev, y_dev, para_grid)\n",
    "        best_model_DT, best_mse_DT, best_paras_DT = tune_paras_decision_tree(X_train, y_train, X_dev, y_dev, para_grid)\n",
    "        \n",
    "    tune_para_performance_summary(best_mse_LR, best_paras_LR, 'Linear Regression')\n",
    "    tune_para_performance_summary(best_mse_DT, best_paras_DT, 'Decision Tree')\n",
    "\n",
    "    ### evaluate performance on test data\n",
    "    mse_test_LR = evaluate_performance_on_test(best_model_LR, X_test, y_test, 'Linear Regression')\n",
    "    mse_test_DT = evaluate_performance_on_test(best_model_DT, X_test, y_test, 'Decision Tree')\n",
    "        \n",
    "    return best_model_LR, mse_test_LR, best_model_DT, mse_test_DT\n",
    "\n",
    "def get_train_data_for_linint(X_dev, srconly_model, tgtonly_model):\n",
    "    pred_srconly = srconly_model.predict(X_dev)\n",
    "    pred_tgtonly = tgtonly_model.predict(X_dev)\n",
    "    y1_minus_y2 = list(np.array(pred_srconly) - np.array(pred_tgtonly))\n",
    "    \n",
    "    d = {\n",
    "        'y1': pred_srconly, \n",
    "        'y2': pred_tgtonly,\n",
    "        'y1 - y2': y1_minus_y2\n",
    "    }\n",
    "    \n",
    "    return pd.DataFrame(data=d)\n",
    "\n",
    "def linint_pipeline_given_target(target, data_dict, srconly_model, tgtonly_model):\n",
    "    scaler = MinMaxScaler()\n",
    "    \n",
    "    X_train, y_train, X_dev, y_dev, X_test, y_test = get_data_partitions_for_a_target(target, data_dict, 'ALL')\n",
    "    ### standardize data\n",
    "    X_train = scaler.fit_transform(X_train)\n",
    "    X_dev = scaler.transform(X_dev)\n",
    "    X_test = scaler.transform(X_test)\n",
    "    \n",
    "    X_train = get_train_data_for_linint(X_dev, srconly_model, tgtonly_model)\n",
    "        \n",
    "    model = LinearRegression()\n",
    "    model.fit(X_train, y_dev)\n",
    "    \n",
    "    coefs = model.coef_\n",
    "    intercept = model.intercept_\n",
    "    \n",
    "#     print(model.coef_)\n",
    "#     print(model.intercept_)\n",
    "    \n",
    "    X_train = get_train_data_for_linint(X_test, srconly_model, tgtonly_model)\n",
    "        \n",
    "    y1 = X_train['y1'].tolist() \n",
    "    y2 = X_train['y2'].tolist() \n",
    "    y1_minus_y2 = X_train['y1 - y2'].tolist()\n",
    "    \n",
    "    pred = []\n",
    "    \n",
    "    for i in range(0, len(y1)):\n",
    "        result = coefs[0] * y1[i] + coefs[1] * y2[i] + coefs[2] * y1_minus_y2[i] + intercept\n",
    "        pred.append(result)\n",
    "    \n",
    "    print('Mean squared error of the final model: %.2f'\n",
    "          % mean_squared_error(y_test, pred))  \n",
    "    best_mse = mean_squared_error(y_test, pred)\n",
    "    \n",
    "    return best_mse"
   ]
  },
  {
   "cell_type": "code",
   "execution_count": 14,
   "metadata": {},
   "outputs": [],
   "source": [
    "MSEs_LR = {}\n",
    "MSEs_DT = {}"
   ]
  },
  {
   "cell_type": "code",
   "execution_count": 15,
   "metadata": {},
   "outputs": [
    {
     "name": "stdout",
     "output_type": "stream",
     "text": [
      "# male is target #\n",
      "\n",
      "Linear Regression:\n",
      "best mse:  139.50296934581692\n",
      "best parameters:  {'alpha': 153} \n",
      "\n",
      "Decision Tree:\n",
      "best mse:  135.18528484778213\n",
      "best parameters:  {'max_depth': 14, 'min_samples_split': 18, 'min_samples_leaf': 22} \n",
      "\n",
      "Linear Regression: \n",
      "Mean squared error of the final model on test data: 125.71\n",
      "Decision Tree: \n",
      "Mean squared error of the final model on test data: 127.63\n",
      "\n",
      "# female is target #\n",
      "\n",
      "Linear Regression:\n",
      "best mse:  107.629375\n",
      "best parameters:  {'alpha': 1e-30} \n",
      "\n",
      "Decision Tree:\n",
      "best mse:  114.62215562408866\n",
      "best parameters:  {'max_depth': 13, 'min_samples_split': 165, 'min_samples_leaf': 22} \n",
      "\n",
      "Linear Regression: \n",
      "Mean squared error of the final model on test data: 136.52\n",
      "Decision Tree: \n",
      "Mean squared error of the final model on test data: 142.58\n",
      "\n",
      "# mixed is target #\n",
      "\n",
      "Linear Regression:\n",
      "best mse:  101.121875\n",
      "best parameters:  {'alpha': 0.0} \n",
      "\n",
      "Decision Tree:\n",
      "best mse:  119.27147580333921\n",
      "best parameters:  {'max_depth': 11, 'min_samples_split': 162, 'min_samples_leaf': 19} \n",
      "\n",
      "Linear Regression: \n",
      "Mean squared error of the final model on test data: 102.11\n",
      "Decision Tree: \n",
      "Mean squared error of the final model on test data: 106.64\n"
     ]
    }
   ],
   "source": [
    "###\n",
    "# SRCONLY\n",
    "###\n",
    "from sklearn.linear_model import LinearRegression\n",
    "from sklearn.metrics import mean_squared_error\n",
    "from sklearn.linear_model import Ridge, Lasso, ElasticNet\n",
    "from sklearn.tree import DecisionTreeRegressor\n",
    "\n",
    "mse_LR = {}\n",
    "mse_DT = {}\n",
    "\n",
    "### tune parameters\n",
    "para_grid_male = {\n",
    "    \"alpha\": [140, 145, 146, 147, 148, 149, 150, 151, 152, 153, 154, 155, 156, 160],\n",
    "    \"max_depth\": [10, 11, 12, 13, 14, 15, 16, 17],\n",
    "    \"min_samples_split\": [17, 18, 19, 20, 21, 22, 23],\n",
    "    \"min_samples_leaf\": [19, 20, 21, 22, 23, 24, 25, 26]\n",
    "}\n",
    "\n",
    "para_grid_female = {\n",
    "    \"alpha\": [1e-40, 1e-38, 1e-36, 1e-34, 1e-32, 1e-31, 1e-30, 1e-29, 1e-28, 1e-27, 1e-26, 1e-25, 1e-18],\n",
    "    \"max_depth\": [10, 11, 12, 13, 14, 15],\n",
    "    \"min_samples_split\": [162, 163, 164, 165, 166, 167, 168],\n",
    "    \"min_samples_leaf\": [19, 20, 21, 22, 23, 24]\n",
    "}\n",
    "\n",
    "para_grid_mixed = {\n",
    "    \"alpha\": [1e-1000, 1e-100, 1e-60, 1e-50, 1e-40, 1e-25, 1e-24, 1e-23, 1e-22, 1e-20],\n",
    "    \"max_depth\": [9, 10, 11, 12, 13],\n",
    "    \"min_samples_split\": [162, 163, 164, 165, 166, 167, 168],\n",
    "    \"min_samples_leaf\": [19, 20, 21, 22, 23, 24]\n",
    "}\n",
    "\n",
    "print(\"# male is target #\\n\")\n",
    "srconly_model_male_LR, mse_LR['male'], srconly_model_male_DT, mse_DT['male'] = pipeline_given_target('male', \n",
    "                                                                                                     data_dict, \n",
    "                                                                                                     para_grid_male, \n",
    "                                                                                                     'SRCONLY')\n",
    "\n",
    "print(\"\\n# female is target #\\n\")\n",
    "srconly_model_female_LR, mse_LR['female'], srconly_model_female_DT, mse_DT['female'] = pipeline_given_target('female', \n",
    "                                                                                                             data_dict, \n",
    "                                                                                                             para_grid_female, \n",
    "                                                                                                             'SRCONLY')\n",
    "\n",
    "print(\"\\n# mixed is target #\\n\")\n",
    "srconly_model_mixed_LR, mse_LR['mixed'], srconly_model_mixed_DT, mse_DT['mixed'] = pipeline_given_target('mixed', \n",
    "                                                                                                         data_dict, \n",
    "                                                                                                         para_grid_mixed, \n",
    "                                                                                                         'SRCONLY')\n",
    "\n",
    "MSEs_LR['srconly'] = mse_LR\n",
    "MSEs_DT['srconly'] = mse_DT"
   ]
  },
  {
   "cell_type": "code",
   "execution_count": 16,
   "metadata": {},
   "outputs": [
    {
     "name": "stdout",
     "output_type": "stream",
     "text": [
      "# male is target #\n",
      "\n",
      "Linear Regression:\n",
      "best mse:  156.78986857630704\n",
      "best parameters:  {'alpha': 4.3} \n",
      "\n",
      "Decision Tree:\n",
      "best mse:  145.47125296694813\n",
      "best parameters:  {'max_depth': 5, 'min_samples_split': 18, 'min_samples_leaf': 2} \n",
      "\n",
      "Linear Regression: \n",
      "Mean squared error of the final model on test data: 126.84\n",
      "Decision Tree: \n",
      "Mean squared error of the final model on test data: 141.01\n",
      "\n",
      "# female is target #\n",
      "\n"
     ]
    },
    {
     "name": "stderr",
     "output_type": "stream",
     "text": [
      "C:\\Users\\lenovo\\anaconda3\\lib\\site-packages\\sklearn\\linear_model\\_ridge.py:148: LinAlgWarning: Ill-conditioned matrix (rcond=9.33205e-17): result may not be accurate.\n",
      "  overwrite_a=True).T\n"
     ]
    },
    {
     "name": "stdout",
     "output_type": "stream",
     "text": [
      "Linear Regression:\n",
      "best mse:  107.98779459125828\n",
      "best parameters:  {'alpha': 1e-14} \n",
      "\n",
      "Decision Tree:\n",
      "best mse:  102.86500247503446\n",
      "best parameters:  {'max_depth': 4, 'min_samples_split': 18, 'min_samples_leaf': 9} \n",
      "\n",
      "Linear Regression: \n",
      "Mean squared error of the final model on test data: 129.73\n",
      "Decision Tree: \n",
      "Mean squared error of the final model on test data: 140.41\n",
      "\n",
      "# mixed is target #\n",
      "\n",
      "Linear Regression:\n",
      "best mse:  114.90587061919479\n",
      "best parameters:  {'alpha': 17} \n",
      "\n",
      "Decision Tree:\n",
      "best mse:  113.39635173757296\n",
      "best parameters:  {'max_depth': 2, 'min_samples_split': 27, 'min_samples_leaf': 1} \n",
      "\n",
      "Linear Regression: \n",
      "Mean squared error of the final model on test data: 110.31\n",
      "Decision Tree: \n",
      "Mean squared error of the final model on test data: 113.68\n"
     ]
    }
   ],
   "source": [
    "###\n",
    "#  TGTONLY\n",
    "###\n",
    "\n",
    "mse_LR = {}\n",
    "mse_DT = {}\n",
    "\n",
    "### tune parameters\n",
    "para_grid_male = {\n",
    "    \"alpha\": [3.5, 4, 4.1, 4.2, 4.3, 4.4, 4.5, 4.8, 5, 6, 7, 8, 9, 10],\n",
    "    \"max_depth\": [1, 2, 3, 4, 5, 6, 7, 8, 9, 10],\n",
    "    \"min_samples_split\": [18, 19, 20, 21, 22, 23, 24, 25, 26, 27, 28, 29],\n",
    "    \"min_samples_leaf\": [1, 2, 3, 4, 5, 6, 8, 10]\n",
    "}\n",
    "\n",
    "para_grid_female = {\n",
    "    \"alpha\": [1e-18, 1e-17, 1e-16, 1e-15, 1e-14, 1e-13, 1e-12, 1e-11, 1e-10, 1e-8, 1e-7, 1e-6],\n",
    "    \"max_depth\": [1, 2, 3, 4, 5, 6],\n",
    "    \"min_samples_split\": [18, 19, 20, 21, 22, 23],\n",
    "    \"min_samples_leaf\": [6, 7, 8, 9, 10, 11, 12, 13]\n",
    "}\n",
    "\n",
    "para_grid_mixed = {\n",
    "    \"alpha\": [1, 5, 8, 9, 10, 11, 12, 15, 16, 17, 18, 19, 20],\n",
    "    \"max_depth\": [1, 2, 3, 4, 5, 6, 7, 8, 9, 10],\n",
    "    \"min_samples_split\": [27, 28, 29, 30, 31, 32, 33, 34],\n",
    "    \"min_samples_leaf\": [1, 2, 3, 4, 5]\n",
    "}\n",
    "\n",
    "print(\"# male is target #\\n\")\n",
    "tgtonly_model_male_LR, mse_LR['male'], tgtonly_model_male_DT, mse_DT['male'] = pipeline_given_target('male', \n",
    "                                                                                                     data_dict, \n",
    "                                                                                                     para_grid_male, \n",
    "                                                                                                     'TGTONLY')\n",
    "\n",
    "print(\"\\n# female is target #\\n\")\n",
    "tgtonly_model_female_LR, mse_LR['female'], tgtonly_model_female_DT, mse_DT['female'] = pipeline_given_target('female', \n",
    "                                                                                                             data_dict, \n",
    "                                                                                                             para_grid_female, \n",
    "                                                                                                             'TGTONLY')\n",
    "\n",
    "print(\"\\n# mixed is target #\\n\")\n",
    "tgtonly_model_mixed_LR, mse_LR['mixed'], tgtonly_model_mixed_DT, mse_DT['mixed'] = pipeline_given_target('mixed', \n",
    "                                                                                                         data_dict, \n",
    "                                                                                                         para_grid_mixed, \n",
    "                                                                                                         'TGTONLY')\n",
    "\n",
    "MSEs_LR['tgtonly'] = mse_LR\n",
    "MSEs_DT['tgtonly'] = mse_DT"
   ]
  },
  {
   "cell_type": "code",
   "execution_count": 17,
   "metadata": {},
   "outputs": [
    {
     "name": "stdout",
     "output_type": "stream",
     "text": [
      "# male is target #\n",
      "\n",
      "Linear Regression:\n",
      "best mse:  139.4847258395489\n",
      "best parameters:  {'alpha': 152} \n",
      "\n",
      "Decision Tree:\n",
      "best mse:  131.3202181536756\n",
      "best parameters:  {'max_depth': 9, 'min_samples_split': 70, 'min_samples_leaf': 34} \n",
      "\n",
      "Linear Regression: \n",
      "Mean squared error of the final model on test data: 125.57\n",
      "Decision Tree: \n",
      "Mean squared error of the final model on test data: 125.71\n",
      "\n",
      "# female is target #\n",
      "\n",
      "Linear Regression:\n",
      "best mse:  108.82252311526885\n",
      "best parameters:  {'alpha': 1e-17} \n",
      "\n",
      "Decision Tree:\n",
      "best mse:  116.0047453139656\n",
      "best parameters:  {'max_depth': 11, 'min_samples_split': 191, 'min_samples_leaf': 37} \n",
      "\n",
      "Linear Regression: \n",
      "Mean squared error of the final model on test data: 137.59\n",
      "Decision Tree: \n",
      "Mean squared error of the final model on test data: 140.12\n",
      "\n",
      "# mixed is target #\n",
      "\n",
      "Linear Regression:\n",
      "best mse:  102.33942413052684\n",
      "best parameters:  {'alpha': 1e-12} \n",
      "\n",
      "Decision Tree:\n",
      "best mse:  114.26870433909534\n",
      "best parameters:  {'max_depth': 11, 'min_samples_split': 81, 'min_samples_leaf': 38} \n",
      "\n",
      "Linear Regression: \n",
      "Mean squared error of the final model on test data: 101.37\n",
      "Decision Tree: \n",
      "Mean squared error of the final model on test data: 105.67\n"
     ]
    }
   ],
   "source": [
    "###\n",
    "#  ALL\n",
    "###\n",
    "mse_LR = {}\n",
    "mse_DT = {}\n",
    "\n",
    "### tune parameters\n",
    "para_grid_male = {\n",
    "    \"alpha\": [140, 145, 146, 147, 148, 149, 150, 151, 152, 153, 154, 155, 156, 160],\n",
    "    \"max_depth\": [6, 7, 8, 9, 10, 11, 12, 13, 14, 15, 16, 17, 18, 19, 20],\n",
    "    \"min_samples_split\": [70, 71, 72, 73, 74, 75, 76, 77, 78, 79],\n",
    "    \"min_samples_leaf\": [31, 32, 33, 34, 35, 36, 37]\n",
    "}\n",
    "\n",
    "para_grid_female = {\n",
    "    \"alpha\": [1e-18, 1e-17, 1e-16, 1e-15, 1e-14, 1e-13, 1e-12, 1e-10, 1e-8, 1e-7, 1e-6],\n",
    "    \"max_depth\": [9, 10, 11, 12, 14, 16, 18, 20],\n",
    "    \"min_samples_split\": [189, 190, 191, 192, 193, 194, 195],\n",
    "    \"min_samples_leaf\": [34, 35, 36, 37, 38, 39, 40, 41]\n",
    "}\n",
    "\n",
    "para_grid_mixed = {\n",
    "    \"alpha\": [1e-18, 1e-17, 1e-16, 1e-15, 1e-14, 1e-13, 1e-12, 1e-11, 1e-10, 1e-8, 1e-7, 1e-6],\n",
    "    \"max_depth\": [6, 7, 8, 9, 10, 11, 12, 13, 14],\n",
    "    \"min_samples_split\": [79, 80, 81, 82, 83, 84, 85, 86, 87, 88],\n",
    "    \"min_samples_leaf\": [31, 32, 33, 34, 35, 36, 37, 38]\n",
    "}\n",
    "\n",
    "print(\"# male is target #\\n\")\n",
    "all_model_male_LR, mse_LR['male'], all_model_male_DT, mse_DT['male'] = pipeline_given_target('male', \n",
    "                                                                                             data_dict,\n",
    "                                                                                             para_grid_male, \n",
    "                                                                                             'ALL')\n",
    "\n",
    "print(\"\\n# female is target #\\n\")\n",
    "all_model_female_LR, mse_LR['female'], all_model_female_DT, mse_DT['female'] = pipeline_given_target('female', \n",
    "                                                                                                     data_dict, \n",
    "                                                                                                     para_grid_female, \n",
    "                                                                                                     'ALL')\n",
    "\n",
    "print(\"\\n# mixed is target #\\n\")\n",
    "all_model_mixed_LR, mse_LR['mixed'], all_model_mixed_DT, mse_DT['mixed'] = pipeline_given_target('mixed', \n",
    "                                                                                                 data_dict, \n",
    "                                                                                                 para_grid_mixed, \n",
    "                                                                                                 'ALL')\n",
    "\n",
    "MSEs_LR['all'] = mse_LR\n",
    "MSEs_DT['all'] = mse_DT"
   ]
  },
  {
   "cell_type": "code",
   "execution_count": 18,
   "metadata": {},
   "outputs": [
    {
     "name": "stdout",
     "output_type": "stream",
     "text": [
      "# male is target #\n",
      "\n",
      "Linear Regression:\n",
      "best mse:  139.46455130825711\n",
      "best parameters:  {'alpha': 39, 'weight': 0.26} \n",
      "\n",
      "Decision Tree:\n",
      "best mse:  132.86517672143384\n",
      "best parameters:  {'max_depth': 11, 'min_samples_split': 79, 'min_samples_leaf': 35, 'weight': 0.23} \n",
      "\n",
      "Linear Regression: \n",
      "Mean squared error of the final model on test data: 125.20\n",
      "Decision Tree: \n",
      "Mean squared error of the final model on test data: 122.56\n",
      "\n",
      "# female is target #\n",
      "\n",
      "Linear Regression:\n",
      "best mse:  103.3144620559952\n",
      "best parameters:  {'alpha': 1e-15, 'weight': 0.01} \n",
      "\n",
      "Decision Tree:\n",
      "best mse:  107.53108471480579\n",
      "best parameters:  {'max_depth': 11, 'min_samples_split': 13, 'min_samples_leaf': 12, 'weight': 0.04} \n",
      "\n",
      "Linear Regression: \n",
      "Mean squared error of the final model on test data: 128.00\n",
      "Decision Tree: \n",
      "Mean squared error of the final model on test data: 152.03\n",
      "\n",
      "# mixed is target #\n",
      "\n"
     ]
    },
    {
     "name": "stderr",
     "output_type": "stream",
     "text": [
      "C:\\Users\\lenovo\\anaconda3\\lib\\site-packages\\sklearn\\linear_model\\_ridge.py:148: LinAlgWarning: Ill-conditioned matrix (rcond=7.71156e-17): result may not be accurate.\n",
      "  overwrite_a=True).T\n",
      "C:\\Users\\lenovo\\anaconda3\\lib\\site-packages\\sklearn\\linear_model\\_ridge.py:148: LinAlgWarning: Ill-conditioned matrix (rcond=1.35182e-17): result may not be accurate.\n",
      "  overwrite_a=True).T\n"
     ]
    },
    {
     "name": "stdout",
     "output_type": "stream",
     "text": [
      "Linear Regression:\n",
      "best mse:  102.47456122579362\n",
      "best parameters:  {'alpha': 1e-18, 'weight': 0.5} \n",
      "\n",
      "Decision Tree:\n",
      "best mse:  100.19096059463614\n",
      "best parameters:  {'max_depth': 8, 'min_samples_split': 72, 'min_samples_leaf': 69, 'weight': 0.15} \n",
      "\n",
      "Linear Regression: \n",
      "Mean squared error of the final model on test data: 101.30\n",
      "Decision Tree: \n",
      "Mean squared error of the final model on test data: 104.26\n"
     ]
    }
   ],
   "source": [
    "###\n",
    "#  WEIGHTED\n",
    "###\n",
    "mse_LR = {}\n",
    "mse_DT = {}\n",
    "\n",
    "### tune parameters\n",
    "para_grid_male = {\n",
    "    \"alpha\": [37, 38, 39, 40, 41, 42, 43, 44, 45],\n",
    "    \"max_depth\": [8, 9, 10, 11, 12, 13, 14],\n",
    "    \"min_samples_split\": [70, 71, 72, 73, 74, 75, 76, 77, 78, 79],\n",
    "    \"min_samples_leaf\": [31, 32, 33, 34, 35, 36, 37, 38],\n",
    "    \"weight\": [0.2, 0.21, 0.22, 0.23, 0.24, 0.25, 0.26]\n",
    "}\n",
    "para_grid_female = {\n",
    "    \"alpha\": [1e-50, 1e-40, 1e-18, 1e-17, 1e-16, 1e-15],\n",
    "    \"max_depth\": [1, 2, 3, 4, 5, 6, 8, 9, 10, 11, 12, 13, 14],\n",
    "    \"min_samples_split\": [9, 10, 11, 12, 13, 14, 15, 16, 17],\n",
    "    \"min_samples_leaf\": [5, 8, 9, 10, 11, 12, 13, 14],\n",
    "    \"weight\": [0.01, 0.02, 0.03, 0.04, 0.05, 0.06]\n",
    "}\n",
    "para_grid_mixed = {\n",
    "    \"alpha\": [1e-18, 1e-17, 1e-16, 1e-15, 1e-14, 1e-13, 1e-12, 1e-10, 1e-8, 1e-7, 1e-6],\n",
    "    \"max_depth\": [6, 7, 8, 9, 10, 11, 12, 13, 14],\n",
    "    \"min_samples_split\": [70, 71, 72, 73, 74, 75, 76],\n",
    "    \"min_samples_leaf\": [63, 64, 65, 66, 67, 68, 69, 70, 71],\n",
    "    \"weight\": [0.1, 0.14, 0.15, 0.16, 0.17, 0.2, 0.25, 0.3, 0.4, 0.5]\n",
    "}\n",
    "\n",
    "print(\"# male is target #\\n\")\n",
    "_, mse_LR['male'], _, mse_DT['male'] = pipeline_given_target('male', data_dict, para_grid_male, 'WEIGHTED')\n",
    "\n",
    "print(\"\\n# female is target #\\n\")\n",
    "_, mse_LR['female'], _, mse_DT['female'] = pipeline_given_target('female', data_dict, para_grid_female, 'WEIGHTED')\n",
    "\n",
    "print(\"\\n# mixed is target #\\n\")\n",
    "_, mse_LR['mixed'], _, mse_DT['mixed'] = pipeline_given_target('mixed', data_dict, para_grid_mixed, 'WEIGHTED')\n",
    "\n",
    "MSEs_LR['weighted'] = mse_LR\n",
    "MSEs_DT['weighted'] = mse_DT"
   ]
  },
  {
   "cell_type": "code",
   "execution_count": 19,
   "metadata": {},
   "outputs": [],
   "source": [
    "def pred_pipeline_given_target(target, data_dict, para_grid, srconly_model, model_type):\n",
    "    scaler = MinMaxScaler()\n",
    "    \n",
    "    X_train, y_train, X_dev, y_dev, X_test, y_test = get_data_partitions_for_a_target(target, data_dict, 'TGTONLY')\n",
    "\n",
    "    pred = srconly_model.predict(X_train)\n",
    "    X_train = X_train.assign(predictions = pd.Series(pred).values)\n",
    "    \n",
    "    pred = srconly_model.predict(X_dev)\n",
    "    X_dev = X_dev.assign(predictions = pd.Series(pred).values)\n",
    "    \n",
    "    pred = srconly_model.predict(X_test)\n",
    "    X_test = X_test.assign(predictions = pd.Series(pred).values)\n",
    "    \n",
    "    ### standardize data\n",
    "    X_train = scaler.fit_transform(X_train)\n",
    "    X_dev = scaler.transform(X_dev)\n",
    "    X_test = scaler.transform(X_test)\n",
    "    \n",
    "    if model_type == 'Linear Regression':\n",
    "        best_model, best_mse, best_paras = tune_paras_lin_reg(X_train, y_train, X_dev, y_dev, para_grid)\n",
    "    elif model_type == 'Decision Tree':\n",
    "        best_model, best_mse, best_paras = tune_paras_decision_tree(X_train, y_train, X_dev, y_dev, para_grid)\n",
    "    \n",
    "    tune_para_performance_summary(best_mse, best_paras, model_type)\n",
    "\n",
    "    ### evaluate performance on test data\n",
    "    mse_test = evaluate_performance_on_test(best_model, X_test, y_test, model_type)\n",
    "    \n",
    "    return mse_test"
   ]
  },
  {
   "cell_type": "code",
   "execution_count": 20,
   "metadata": {},
   "outputs": [
    {
     "name": "stdout",
     "output_type": "stream",
     "text": [
      "# male is target #\n",
      "\n",
      "Linear Regression:\n",
      "best mse:  156.7764521554666\n",
      "best parameters:  {'alpha': 4.3} \n",
      "\n",
      "Linear Regression: \n",
      "Mean squared error of the final model on test data: 126.73\n",
      "Decision Tree:\n",
      "best mse:  143.21187035324152\n",
      "best parameters:  {'max_depth': 6, 'min_samples_split': 21, 'min_samples_leaf': 2} \n",
      "\n",
      "Decision Tree: \n",
      "Mean squared error of the final model on test data: 139.61\n",
      "\n",
      "\n",
      "# female is target #\n",
      "\n",
      "Linear Regression:\n",
      "best mse:  105.0480260810622\n",
      "best parameters:  {'alpha': 2.9} \n",
      "\n",
      "Linear Regression: \n",
      "Mean squared error of the final model on test data: 126.77\n",
      "Decision Tree:\n",
      "best mse:  107.6090860969388\n",
      "best parameters:  {'max_depth': 3, 'min_samples_split': 2, 'min_samples_leaf': 17} \n",
      "\n",
      "Decision Tree: \n",
      "Mean squared error of the final model on test data: 136.55\n",
      "\n",
      "\n",
      "# mixed is target #\n",
      "\n",
      "Linear Regression:\n",
      "best mse:  114.23369195415152\n",
      "best parameters:  {'alpha': 17} \n",
      "\n",
      "Linear Regression: \n",
      "Mean squared error of the final model on test data: 109.38\n",
      "Decision Tree:\n",
      "best mse:  113.39635173757296\n",
      "best parameters:  {'max_depth': 2, 'min_samples_split': 2, 'min_samples_leaf': 1} \n",
      "\n",
      "Decision Tree: \n",
      "Mean squared error of the final model on test data: 113.68\n"
     ]
    }
   ],
   "source": [
    "###\n",
    "#  PRED\n",
    "###\n",
    "mse_LR = {}\n",
    "mse_DT = {}\n",
    "\n",
    "para_grid_male = {\n",
    "    \"alpha\": [1, 2, 3, 3.5, 3.6, 3.7, 3.8, 3.9, 4, 4.1, 4.2, 4.3, 4.4, 4.5, 4.6, 5],\n",
    "    \"max_depth\": [1, 2, 3, 4, 5, 6, 7, 8, 9],\n",
    "    \"min_samples_split\": [18, 19, 20, 21, 22, 23, 24, 25, 26, 27, 28, 29],\n",
    "    \"min_samples_leaf\": [1, 2, 3, 4, 5, 6, 8, 10]\n",
    "}\n",
    "\n",
    "para_grid_female = {\n",
    "    \"alpha\": [1, 2, 2.1, 2.2, 2.3, 2.4, 2.5, 2.6, 2.7, 2.8, 2.9, 3, 3.1, 3.2, 3.3, 3.4, 3.5],\n",
    "    \"max_depth\": [1, 2, 3, 4, 5, 6],\n",
    "    \"min_samples_split\": [2, 3, 4, 6, 8, 10, ],\n",
    "    \"min_samples_leaf\": [12, 14, 15, 16, 17, 18, 19, 20, 30, 40]\n",
    "}\n",
    "\n",
    "para_grid_mixed = {\n",
    "    \"alpha\": [3.5, 5, 10, 11, 12, 13, 14, 15, 16, 17, 18, 19, 20],\n",
    "    \"max_depth\": [1, 2, 3, 4, 5, 6, 7, 8, 9],\n",
    "    \"min_samples_split\": [2, 3, 4, 5, 6, 8, 10],\n",
    "    \"min_samples_leaf\": [1, 2, 3, 4, 5, 6, 8, 10]\n",
    "}\n",
    "\n",
    "print(\"# male is target #\\n\")\n",
    "mse_LR['male'] = pred_pipeline_given_target('male', data_dict, para_grid_male, srconly_model_male_LR, 'Linear Regression')\n",
    "mse_DT['male'] = pred_pipeline_given_target('male', data_dict, para_grid_male, srconly_model_male_DT, 'Decision Tree')\n",
    "\n",
    "print(\"\\n\\n# female is target #\\n\")\n",
    "mse_LR['female'] = pred_pipeline_given_target('female', data_dict, para_grid_female, \n",
    "                                              srconly_model_female_LR, 'Linear Regression')\n",
    "mse_DT['female'] = pred_pipeline_given_target('female', data_dict, para_grid_female, srconly_model_female_DT, 'Decision Tree')\n",
    "\n",
    "\n",
    "print(\"\\n\\n# mixed is target #\\n\")\n",
    "mse_LR['mixed'] = pred_pipeline_given_target('mixed', data_dict, para_grid_mixed, \n",
    "                                              srconly_model_mixed_LR, 'Linear Regression')\n",
    "mse_DT['mixed'] = pred_pipeline_given_target('mixed', data_dict, para_grid_mixed, srconly_model_mixed_DT, 'Decision Tree')\n",
    "\n",
    "MSEs_LR['pred'] = mse_LR\n",
    "MSEs_DT['pred'] = mse_DT"
   ]
  },
  {
   "cell_type": "code",
   "execution_count": 21,
   "metadata": {},
   "outputs": [
    {
     "name": "stdout",
     "output_type": "stream",
     "text": [
      "# male is target #\n",
      "\n",
      "Mean squared error of the final model: 128.03\n",
      "Mean squared error of the final model: 125.27\n",
      "\n",
      "\n",
      "# female is target #\n",
      "\n",
      "Mean squared error of the final model: 124.51\n",
      "Mean squared error of the final model: 127.58\n",
      "\n",
      "\n",
      "# mixed is target #\n",
      "\n",
      "Mean squared error of the final model: 108.17\n",
      "Mean squared error of the final model: 105.15\n"
     ]
    }
   ],
   "source": [
    "###\n",
    "#  LININT\n",
    "###\n",
    "mse_LR = {}\n",
    "mse_DT = {}\n",
    "\n",
    "print(\"# male is target #\\n\")\n",
    "mse_LR['male'] = linint_pipeline_given_target('male', data_dict, srconly_model_male_LR, tgtonly_model_male_LR)\n",
    "mse_DT['male'] = linint_pipeline_given_target('male', data_dict, srconly_model_male_DT, tgtonly_model_male_DT)\n",
    "\n",
    "print(\"\\n\\n# female is target #\\n\")\n",
    "mse_LR['female'] = linint_pipeline_given_target('female', data_dict, srconly_model_female_LR, tgtonly_model_female_LR)\n",
    "mse_DT['female'] = linint_pipeline_given_target('female', data_dict, srconly_model_female_DT, tgtonly_model_female_DT)\n",
    "\n",
    "print(\"\\n\\n# mixed is target #\\n\")\n",
    "mse_LR['mixed'] = linint_pipeline_given_target('mixed', data_dict, srconly_model_mixed_LR, tgtonly_model_mixed_LR)\n",
    "mse_DT['mixed'] = linint_pipeline_given_target('mixed', data_dict, srconly_model_mixed_DT, tgtonly_model_mixed_DT)\n",
    "\n",
    "MSEs_LR['linint'] = mse_LR\n",
    "MSEs_DT['linint'] = mse_DT"
   ]
  },
  {
   "cell_type": "code",
   "execution_count": 53,
   "metadata": {},
   "outputs": [
    {
     "name": "stdout",
     "output_type": "stream",
     "text": [
      "# male is target #\n",
      "\n",
      "100\n",
      "first source domain:  female\n",
      "second source domain:  mixed\n",
      "# column names: #\n",
      "['Year', 'VR1 Band', 'Ethnic group of student_1', 'Ethnic group of student_2', 'Ethnic group of student_3', 'Ethnic group of student_4', 'Ethnic group of student_5', 'Ethnic group of student_6', 'Ethnic group of student_7', 'Ethnic group of student_8', 'Ethnic group of student_9', 'Ethnic group of student_10', 'Ethnic group of student_11', 'School denomination_1', 'School denomination_2', 'School denomination_3', 'VR Band of Student_1', 'VR Band of Student_2', 'VR Band of Student_3', 'female Year', 'female VR1 Band', 'female Ethnic group of student_1', 'female Ethnic group of student_2', 'female Ethnic group of student_3', 'female Ethnic group of student_4', 'female Ethnic group of student_5', 'female Ethnic group of student_6', 'female Ethnic group of student_7', 'female Ethnic group of student_8', 'female Ethnic group of student_9', 'female Ethnic group of student_10', 'female Ethnic group of student_11', 'female School denomination_1', 'female School denomination_2', 'female School denomination_3', 'female VR Band of Student_1', 'female VR Band of Student_2', 'female VR Band of Student_3', 'mixed Year', 'mixed VR1 Band', 'mixed Ethnic group of student_1', 'mixed Ethnic group of student_2', 'mixed Ethnic group of student_3', 'mixed Ethnic group of student_4', 'mixed Ethnic group of student_5', 'mixed Ethnic group of student_6', 'mixed Ethnic group of student_7', 'mixed Ethnic group of student_8', 'mixed Ethnic group of student_9', 'mixed Ethnic group of student_10', 'mixed Ethnic group of student_11', 'mixed School denomination_1', 'mixed School denomination_2', 'mixed School denomination_3', 'mixed VR Band of Student_1', 'mixed VR Band of Student_2', 'mixed VR Band of Student_3', 'male Year', 'male VR1 Band', 'male Ethnic group of student_1', 'male Ethnic group of student_2', 'male Ethnic group of student_3', 'male Ethnic group of student_4', 'male Ethnic group of student_5', 'male Ethnic group of student_6', 'male Ethnic group of student_7', 'male Ethnic group of student_8', 'male Ethnic group of student_9', 'male Ethnic group of student_10', 'male Ethnic group of student_11', 'male School denomination_1', 'male School denomination_2', 'male School denomination_3', 'male VR Band of Student_1', 'male VR Band of Student_2', 'male VR Band of Student_3']\n",
      "Linear Regression:\n",
      "best mse:  147.871581130983\n",
      "best parameters:  {'alpha': 113} \n",
      "\n",
      "Decision Tree:\n",
      "best mse:  121.4136568079855\n",
      "best parameters:  {'max_depth': 29, 'min_samples_split': 15, 'min_samples_leaf': 2} \n",
      "\n",
      "Linear Regression: \n",
      "Mean squared error of the final model on test data: 123.67\n",
      "Decision Tree: \n",
      "Mean squared error of the final model on test data: 144.64\n",
      "\n",
      "# female is target #\n",
      "\n",
      "100\n",
      "first source domain:  male\n",
      "second source domain:  mixed\n",
      "# column names: #\n",
      "['Year', 'VR1 Band', 'Ethnic group of student_1', 'Ethnic group of student_2', 'Ethnic group of student_3', 'Ethnic group of student_4', 'Ethnic group of student_5', 'Ethnic group of student_6', 'Ethnic group of student_7', 'Ethnic group of student_8', 'Ethnic group of student_9', 'Ethnic group of student_10', 'Ethnic group of student_11', 'School denomination_1', 'School denomination_2', 'School denomination_3', 'VR Band of Student_1', 'VR Band of Student_2', 'VR Band of Student_3', 'male Year', 'male VR1 Band', 'male Ethnic group of student_1', 'male Ethnic group of student_2', 'male Ethnic group of student_3', 'male Ethnic group of student_4', 'male Ethnic group of student_5', 'male Ethnic group of student_6', 'male Ethnic group of student_7', 'male Ethnic group of student_8', 'male Ethnic group of student_9', 'male Ethnic group of student_10', 'male Ethnic group of student_11', 'male School denomination_1', 'male School denomination_2', 'male School denomination_3', 'male VR Band of Student_1', 'male VR Band of Student_2', 'male VR Band of Student_3', 'mixed Year', 'mixed VR1 Band', 'mixed Ethnic group of student_1', 'mixed Ethnic group of student_2', 'mixed Ethnic group of student_3', 'mixed Ethnic group of student_4', 'mixed Ethnic group of student_5', 'mixed Ethnic group of student_6', 'mixed Ethnic group of student_7', 'mixed Ethnic group of student_8', 'mixed Ethnic group of student_9', 'mixed Ethnic group of student_10', 'mixed Ethnic group of student_11', 'mixed School denomination_1', 'mixed School denomination_2', 'mixed School denomination_3', 'mixed VR Band of Student_1', 'mixed VR Band of Student_2', 'mixed VR Band of Student_3', 'female Year', 'female VR1 Band', 'female Ethnic group of student_1', 'female Ethnic group of student_2', 'female Ethnic group of student_3', 'female Ethnic group of student_4', 'female Ethnic group of student_5', 'female Ethnic group of student_6', 'female Ethnic group of student_7', 'female Ethnic group of student_8', 'female Ethnic group of student_9', 'female Ethnic group of student_10', 'female Ethnic group of student_11', 'female School denomination_1', 'female School denomination_2', 'female School denomination_3', 'female VR Band of Student_1', 'female VR Band of Student_2', 'female VR Band of Student_3']\n",
      "Linear Regression:\n",
      "best mse:  100.90381965932158\n",
      "best parameters:  {'alpha': 10} \n",
      "\n",
      "Decision Tree:\n",
      "best mse:  108.50869791955284\n",
      "best parameters:  {'max_depth': 41, 'min_samples_split': 10, 'min_samples_leaf': 9} \n",
      "\n",
      "Linear Regression: \n",
      "Mean squared error of the final model on test data: 124.34\n",
      "Decision Tree: \n",
      "Mean squared error of the final model on test data: 141.46\n",
      "\n",
      "# mixed is target #\n",
      "\n",
      "100\n",
      "first source domain:  male\n",
      "second source domain:  female\n",
      "# column names: #\n",
      "['Year', 'VR1 Band', 'Ethnic group of student_1', 'Ethnic group of student_2', 'Ethnic group of student_3', 'Ethnic group of student_4', 'Ethnic group of student_5', 'Ethnic group of student_6', 'Ethnic group of student_7', 'Ethnic group of student_8', 'Ethnic group of student_9', 'Ethnic group of student_10', 'Ethnic group of student_11', 'School denomination_1', 'School denomination_2', 'School denomination_3', 'VR Band of Student_1', 'VR Band of Student_2', 'VR Band of Student_3', 'male Year', 'male VR1 Band', 'male Ethnic group of student_1', 'male Ethnic group of student_2', 'male Ethnic group of student_3', 'male Ethnic group of student_4', 'male Ethnic group of student_5', 'male Ethnic group of student_6', 'male Ethnic group of student_7', 'male Ethnic group of student_8', 'male Ethnic group of student_9', 'male Ethnic group of student_10', 'male Ethnic group of student_11', 'male School denomination_1', 'male School denomination_2', 'male School denomination_3', 'male VR Band of Student_1', 'male VR Band of Student_2', 'male VR Band of Student_3', 'female Year', 'female VR1 Band', 'female Ethnic group of student_1', 'female Ethnic group of student_2', 'female Ethnic group of student_3', 'female Ethnic group of student_4', 'female Ethnic group of student_5', 'female Ethnic group of student_6', 'female Ethnic group of student_7', 'female Ethnic group of student_8', 'female Ethnic group of student_9', 'female Ethnic group of student_10', 'female Ethnic group of student_11', 'female School denomination_1', 'female School denomination_2', 'female School denomination_3', 'female VR Band of Student_1', 'female VR Band of Student_2', 'female VR Band of Student_3', 'mixed Year', 'mixed VR1 Band', 'mixed Ethnic group of student_1', 'mixed Ethnic group of student_2', 'mixed Ethnic group of student_3', 'mixed Ethnic group of student_4', 'mixed Ethnic group of student_5', 'mixed Ethnic group of student_6', 'mixed Ethnic group of student_7', 'mixed Ethnic group of student_8', 'mixed Ethnic group of student_9', 'mixed Ethnic group of student_10', 'mixed Ethnic group of student_11', 'mixed School denomination_1', 'mixed School denomination_2', 'mixed School denomination_3', 'mixed VR Band of Student_1', 'mixed VR Band of Student_2', 'mixed VR Band of Student_3']\n",
      "Linear Regression:\n",
      "best mse:  102.54567699445481\n",
      "best parameters:  {'alpha': 111} \n",
      "\n",
      "Decision Tree:\n",
      "best mse:  111.86904041391749\n",
      "best parameters:  {'max_depth': 35, 'min_samples_split': 15, 'min_samples_leaf': 6} \n",
      "\n",
      "Linear Regression: \n",
      "Mean squared error of the final model on test data: 103.47\n",
      "Decision Tree: \n",
      "Mean squared error of the final model on test data: 118.22\n"
     ]
    }
   ],
   "source": [
    "###\n",
    "# FEDA\n",
    "###\n",
    "mse_LR = {}\n",
    "mse_DT = {}\n",
    "\n",
    "para_grid_male = {\n",
    "    \"alpha\": [106, 107, 108, 109, 110, 111, 112, 113, 114, 115, 116, 117, 120, 130],\n",
    "    \"max_depth\": [22, 24, 25, 26, 27, 28, 29, 30, 31],\n",
    "    \"min_samples_split\": [10, 12, 13, 14, 15, 16, 17, 18, 19, 20],\n",
    "    \"min_samples_leaf\": [2, 3, 4, 5, 6, 7]\n",
    "}\n",
    "\n",
    "para_grid_female = {\n",
    "    \"alpha\": [0.1, 1, 2, 3, 4, 5, 6, 7, 8, 9, 10, 11, 12, 13, 14, 15],\n",
    "    \"max_depth\": [35, 36, 37, 38, 39, 40, 41, 42, 43, 44, 45, 46, 47, 48, 49, 50],\n",
    "    \"min_samples_split\": [10, 11, 12, 13, 14, 15, 16, 17, 18, 19, 20],\n",
    "    \"min_samples_leaf\": [2, 3, 4, 5, 6, 7, 8, 9, 10, 11, 12]\n",
    "}\n",
    "para_grid_mixed = {\n",
    "    \"alpha\": [100, 106, 107, 108, 109, 110, 111, 112, 113, 114, 115, 116, 117, 120, 130],\n",
    "    \"max_depth\": [35, 36, 37, 38, 39, 40, 41, 42, 43, 44],\n",
    "    \"min_samples_split\": [10, 11, 12, 13, 14, 15, 16, 17, 18, 19, 20],\n",
    "    \"min_samples_leaf\": [2, 3, 4, 5, 6, 7, 8, 9, 10]\n",
    "}\n",
    "\n",
    "print(\"# male is target #\\n\")\n",
    "feda_model_male_LR, mse_LR['male'], feda_model_male_DT, mse_DT['male'] = pipeline_given_target('male', \n",
    "                                                                                               data_dict, \n",
    "                                                                                               para_grid_male, \n",
    "                                                                                               'FEDA')\n",
    "\n",
    "print(\"\\n# female is target #\\n\")\n",
    "feda_model_female_LR, mse_LR['female'], feda_model_female_DT, mse_DT['female'] = pipeline_given_target('female', \n",
    "                                                                                                       data_dict, \n",
    "                                                                                                       para_grid_female, \n",
    "                                                                                                       'FEDA')\n",
    "\n",
    "print(\"\\n# mixed is target #\\n\")\n",
    "feda_model_mixed_LR, mse_LR['mixed'], feda_model_mixed_DT, mse_DT['mixed'] = pipeline_given_target('mixed', \n",
    "                                                                                                   data_dict,\n",
    "                                                                                                   para_grid_mixed, \n",
    "                                                                                                   'FEDA')\n",
    "\n",
    "MSEs_LR['feda'] = mse_LR\n",
    "MSEs_DT['feda'] = mse_DT"
   ]
  },
  {
   "cell_type": "code",
   "execution_count": 54,
   "metadata": {},
   "outputs": [
    {
     "name": "stdout",
     "output_type": "stream",
     "text": [
      "\n",
      "srconly: \n",
      "\n",
      "male: 125.71414171282676\n",
      "female: 136.51573129251702\n",
      "mixed: 102.10633144718793\n",
      "\n",
      "tgtonly: \n",
      "\n",
      "male: 126.83975877139089\n",
      "female: 129.73387925038682\n",
      "mixed: 110.31032170992508\n",
      "\n",
      "all: \n",
      "\n",
      "male: 125.57144214216547\n",
      "female: 137.59197867612195\n",
      "mixed: 101.37151046279537\n",
      "\n",
      "weighted: \n",
      "\n",
      "male: 125.19969623740863\n",
      "female: 127.999112433373\n",
      "mixed: 101.29585518659934\n",
      "\n",
      "pred: \n",
      "\n",
      "male: 126.73327624445406\n",
      "female: 126.77390804107264\n",
      "mixed: 109.37544784603315\n",
      "\n",
      "linint: \n",
      "\n",
      "male: 128.03276173947054\n",
      "female: 124.51145994515545\n",
      "mixed: 108.1725479074162\n",
      "\n",
      "feda: \n",
      "\n",
      "male: 123.67265198173118\n",
      "female: 124.34169419426604\n",
      "mixed: 103.47154600665553\n"
     ]
    }
   ],
   "source": [
    "###\n",
    "#  MSE summary\n",
    "###\n",
    "\n",
    "## linear regression\n",
    "for key, value in MSEs_LR.items(): \n",
    "    print(\"\\n\" + key + ': \\n')\n",
    "    for target, val in value.items():\n",
    "        print(target + \": \" + str(val))"
   ]
  },
  {
   "cell_type": "code",
   "execution_count": 55,
   "metadata": {},
   "outputs": [
    {
     "name": "stdout",
     "output_type": "stream",
     "text": [
      "\n",
      "srconly: \n",
      "\n",
      "male: 127.63408224636876\n",
      "female: 142.5847805449272\n",
      "mixed: 106.63687096927222\n",
      "\n",
      "tgtonly: \n",
      "\n",
      "male: 141.01239558173333\n",
      "female: 140.41091674958807\n",
      "mixed: 113.68121855573948\n",
      "\n",
      "all: \n",
      "\n",
      "male: 125.71023137081818\n",
      "female: 140.1161744605558\n",
      "mixed: 105.67298695956944\n",
      "\n",
      "weighted: \n",
      "\n",
      "male: 122.56215780517402\n",
      "female: 152.03489993714035\n",
      "mixed: 104.2607397711195\n",
      "\n",
      "pred: \n",
      "\n",
      "male: 139.611828543789\n",
      "female: 136.54625402031562\n",
      "mixed: 113.68121855573948\n",
      "\n",
      "linint: \n",
      "\n",
      "male: 125.26710037272298\n",
      "female: 127.58040492973697\n",
      "mixed: 105.1458105876258\n",
      "\n",
      "feda: \n",
      "\n",
      "male: 144.64359831947675\n",
      "female: 141.45706846321954\n",
      "mixed: 118.21761494727008\n"
     ]
    }
   ],
   "source": [
    "## decision tree\n",
    "for key, value in MSEs_DT.items(): \n",
    "    print(\"\\n\" + key + ': \\n')\n",
    "    for target, val in value.items():\n",
    "        print(target + \": \" + str(val))"
   ]
  },
  {
   "cell_type": "code",
   "execution_count": 56,
   "metadata": {},
   "outputs": [],
   "source": [
    "# ***************************************************************************************\n",
    "# *    Title: Hiton diagram\n",
    "# *    Author: David Warde-Farley\n",
    "# *    Date: 25 May, 2020\n",
    "# *    Code version: NN\n",
    "# *    Availability: https://matplotlib.org/3.1.1/gallery/specialty_plots/hinton_demo.html\n",
    "# *\n",
    "# ***************************************************************************************\n",
    "\n",
    "def hinton(matrix, max_weight=None, ax=None):\n",
    "    \"\"\"Draw Hinton diagram for visualizing a weight matrix.\"\"\"\n",
    "    ax = ax if ax is not None else plt.gca()\n",
    "\n",
    "    if not max_weight:\n",
    "        max_weight = 2 ** np.ceil(np.log(np.abs(matrix).max()) / np.log(2))\n",
    "\n",
    "    ax.patch.set_facecolor('gray')\n",
    "    ax.set_aspect('equal', 'box')\n",
    "    ax.xaxis.set_major_locator(plt.NullLocator())\n",
    "    ax.yaxis.set_major_locator(plt.NullLocator())\n",
    "\n",
    "    for (x, y), w in np.ndenumerate(matrix):\n",
    "        color = 'white' if w > 0 else 'black'\n",
    "        size = np.sqrt(np.abs(w) / max_weight)\n",
    "        rect = plt.Rectangle([x - size / 2, y - size / 2], size, size,\n",
    "                             facecolor=color, edgecolor=color)\n",
    "        ax.add_patch(rect)\n",
    "\n",
    "    ax.autoscale_view()\n",
    "    ax.invert_yaxis()\n"
   ]
  },
  {
   "cell_type": "code",
   "execution_count": 57,
   "metadata": {},
   "outputs": [],
   "source": [
    "## plot coefficients of linear regression model\n",
    "def plot_coefficients_linear_regression(coefs, column_order):\n",
    "    print(\"column order: \", column_order)\n",
    "\n",
    "    column_names = list(male_df.columns.values)\n",
    "    column_names.remove('Exam Score')\n",
    "\n",
    "    increment = len(column_names)\n",
    "    # print(increment)\n",
    "    # print(len(coefs))\n",
    "\n",
    "    for column in column_names:\n",
    "        index = column_names.index(column)\n",
    "        print(column)\n",
    "        ind_list = [index, index + increment, index + 2*increment, index + 3*increment]\n",
    "\n",
    "        corresponding_coefs = [ coefs[i] for i in ind_list]\n",
    "        rounded_coefs = [ round(elem, 2) for elem in corresponding_coefs ]\n",
    "        print(rounded_coefs)\n",
    "        \n",
    "        transformed_coefs = []\n",
    "        for value in corresponding_coefs:\n",
    "            transformed_coefs.append([value])\n",
    "\n",
    "        hinton(transformed_coefs, max_weight=None, ax=None)\n",
    "        plt.show()\n",
    "    #     print(corresponding_coefs)"
   ]
  },
  {
   "cell_type": "code",
   "execution_count": 58,
   "metadata": {},
   "outputs": [
    {
     "name": "stdout",
     "output_type": "stream",
     "text": [
      "column order:  ['general', 'female', 'mixed', 'male']\n",
      "Year\n",
      "[1.45, 1.12, 0.29, -0.44]\n"
     ]
    },
    {
     "data": {
      "image/png": "[encoded data removed]",
      "text/plain": [
       "<Figure size 432x288 with 1 Axes>"
      ]
     },
     "metadata": {},
     "output_type": "display_data"
    },
    {
     "name": "stdout",
     "output_type": "stream",
     "text": [
      "VR1 Band\n",
      "[3.76, 2.2, 1.83, -0.49]\n"
     ]
    },
    {
     "data": {
      "image/png": "[encoded data removed]",
      "text/plain": [
       "<Figure size 432x288 with 1 Axes>"
      ]
     },
     "metadata": {},
     "output_type": "display_data"
    },
    {
     "name": "stdout",
     "output_type": "stream",
     "text": [
      "Ethnic group of student_1\n",
      "[-2.1, -0.78, -1.22, -0.1]\n"
     ]
    },
    {
     "data": {
      "image/png": "[encoded data removed]",
      "text/plain": [
       "<Figure size 432x288 with 1 Axes>"
      ]
     },
     "metadata": {},
     "output_type": "display_data"
    },
    {
     "name": "stdout",
     "output_type": "stream",
     "text": [
      "Ethnic group of student_2\n",
      "[0.24, 0.55, -0.09, -0.22]\n"
     ]
    },
    {
     "data": {
      "image/png": "[encoded data removed]",
      "text/plain": [
       "<Figure size 432x288 with 1 Axes>"
      ]
     },
     "metadata": {},
     "output_type": "display_data"
    },
    {
     "name": "stdout",
     "output_type": "stream",
     "text": [
      "Ethnic group of student_3\n",
      "[0.32, 0.38, -0.05, 0.0]\n"
     ]
    },
    {
     "data": {
      "image/png": "[encoded data removed]",
      "text/plain": [
       "<Figure size 432x288 with 1 Axes>"
      ]
     },
     "metadata": {},
     "output_type": "display_data"
    },
    {
     "name": "stdout",
     "output_type": "stream",
     "text": [
      "Ethnic group of student_4\n",
      "[0.26, 0.75, -0.77, 0.28]\n"
     ]
    },
    {
     "data": {
      "image/png": "[encoded data removed]",
      "text/plain": [
       "<Figure size 432x288 with 1 Axes>"
      ]
     },
     "metadata": {},
     "output_type": "display_data"
    },
    {
     "name": "stdout",
     "output_type": "stream",
     "text": [
      "Ethnic group of student_5\n",
      "[-2.31, -0.9, -1.12, -0.29]\n"
     ]
    },
    {
     "data": {
      "image/png": "[encoded data removed]",
      "text/plain": [
       "<Figure size 432x288 with 1 Axes>"
      ]
     },
     "metadata": {},
     "output_type": "display_data"
    },
    {
     "name": "stdout",
     "output_type": "stream",
     "text": [
      "Ethnic group of student_6\n",
      "[-0.23, 0.5, -0.65, -0.08]\n"
     ]
    },
    {
     "data": {
      "image/png": "[encoded data removed]",
      "text/plain": [
       "<Figure size 432x288 with 1 Axes>"
      ]
     },
     "metadata": {},
     "output_type": "display_data"
    },
    {
     "name": "stdout",
     "output_type": "stream",
     "text": [
      "Ethnic group of student_7\n",
      "[1.92, 0.64, 1.15, 0.14]\n"
     ]
    },
    {
     "data": {
      "image/png": "[encoded data removed]",
      "text/plain": [
       "<Figure size 432x288 with 1 Axes>"
      ]
     },
     "metadata": {},
     "output_type": "display_data"
    },
    {
     "name": "stdout",
     "output_type": "stream",
     "text": [
      "Ethnic group of student_8\n",
      "[0.7, 0.17, 0.57, -0.04]\n"
     ]
    },
    {
     "data": {
      "image/png": "[encoded data removed]",
      "text/plain": [
       "<Figure size 432x288 with 1 Axes>"
      ]
     },
     "metadata": {},
     "output_type": "display_data"
    },
    {
     "name": "stdout",
     "output_type": "stream",
     "text": [
      "Ethnic group of student_9\n",
      "[1.7, -0.0, 1.72, -0.02]\n"
     ]
    },
    {
     "data": {
      "image/png": "[encoded data removed]",
      "text/plain": [
       "<Figure size 432x288 with 1 Axes>"
      ]
     },
     "metadata": {},
     "output_type": "display_data"
    },
    {
     "name": "stdout",
     "output_type": "stream",
     "text": [
      "Ethnic group of student_10\n",
      "[-0.63, -0.17, -0.46, 0.0]\n"
     ]
    },
    {
     "data": {
      "image/png": "[encoded data removed]",
      "text/plain": [
       "<Figure size 432x288 with 1 Axes>"
      ]
     },
     "metadata": {},
     "output_type": "display_data"
    },
    {
     "name": "stdout",
     "output_type": "stream",
     "text": [
      "Ethnic group of student_11\n",
      "[0.12, 0.72, -0.27, -0.32]\n"
     ]
    },
    {
     "data": {
      "image/png": "[encoded data removed]",
      "text/plain": [
       "<Figure size 432x288 with 1 Axes>"
      ]
     },
     "metadata": {},
     "output_type": "display_data"
    },
    {
     "name": "stdout",
     "output_type": "stream",
     "text": [
      "School denomination_1\n",
      "[-0.84, 0.01, -0.61, -0.24]\n"
     ]
    },
    {
     "data": {
      "image/png": "[encoded data removed]",
      "text/plain": [
       "<Figure size 432x288 with 1 Axes>"
      ]
     },
     "metadata": {},
     "output_type": "display_data"
    },
    {
     "name": "stdout",
     "output_type": "stream",
     "text": [
      "School denomination_2\n",
      "[-0.16, 0.76, -0.88, -0.04]\n"
     ]
    },
    {
     "data": {
      "image/png": "[encoded data removed]",
      "text/plain": [
       "<Figure size 432x288 with 1 Axes>"
      ]
     },
     "metadata": {},
     "output_type": "display_data"
    },
    {
     "name": "stdout",
     "output_type": "stream",
     "text": [
      "School denomination_3\n",
      "[1.0, 1.07, 0.29, -0.36]\n"
     ]
    },
    {
     "data": {
      "image/png": "[encoded data removed]",
      "text/plain": [
       "<Figure size 432x288 with 1 Axes>"
      ]
     },
     "metadata": {},
     "output_type": "display_data"
    },
    {
     "name": "stdout",
     "output_type": "stream",
     "text": [
      "VR Band of Student_1\n",
      "[-6.11, -2.64, -2.71, -0.76]\n"
     ]
    },
    {
     "data": {
      "image/png": "[encoded data removed]",
      "text/plain": [
       "<Figure size 432x288 with 1 Axes>"
      ]
     },
     "metadata": {},
     "output_type": "display_data"
    },
    {
     "name": "stdout",
     "output_type": "stream",
     "text": [
      "VR Band of Student_2\n",
      "[6.76, 4.1, 2.35, 0.3]\n"
     ]
    },
    {
     "data": {
      "image/png": "[encoded data removed]",
      "text/plain": [
       "<Figure size 432x288 with 1 Axes>"
      ]
     },
     "metadata": {},
     "output_type": "display_data"
    },
    {
     "name": "stdout",
     "output_type": "stream",
     "text": [
      "VR Band of Student_3\n",
      "[-0.65, 0.38, -0.85, -0.18]\n"
     ]
    },
    {
     "data": {
      "image/png": "[encoded data removed]",
      "text/plain": [
       "<Figure size 432x288 with 1 Axes>"
      ]
     },
     "metadata": {},
     "output_type": "display_data"
    }
   ],
   "source": [
    "###\n",
    "#  plot coefficients of linear regression model\n",
    "###\n",
    "\n",
    "## male is target\n",
    "\n",
    "coefs = feda_model_male_LR.coef_\n",
    "column_order = ['general', 'female', 'mixed', 'male']\n",
    "\n",
    "plot_coefficients_linear_regression(coefs, column_order)\n"
   ]
  },
  {
   "cell_type": "code",
   "execution_count": 59,
   "metadata": {},
   "outputs": [
    {
     "name": "stdout",
     "output_type": "stream",
     "text": [
      "column order:  ['general', 'male', 'mixed', 'female']\n",
      "Year\n",
      "[2.03, -0.74, -0.21, 2.3]\n"
     ]
    },
    {
     "data": {
      "image/png": "[encoded data removed]",
      "text/plain": [
       "<Figure size 432x288 with 1 Axes>"
      ]
     },
     "metadata": {},
     "output_type": "display_data"
    },
    {
     "name": "stdout",
     "output_type": "stream",
     "text": [
      "VR1 Band\n",
      "[5.26, 1.76, 1.91, 1.35]\n"
     ]
    },
    {
     "data": {
      "image/png": "[encoded data removed]",
      "text/plain": [
       "<Figure size 432x288 with 1 Axes>"
      ]
     },
     "metadata": {},
     "output_type": "display_data"
    },
    {
     "name": "stdout",
     "output_type": "stream",
     "text": [
      "Ethnic group of student_1\n",
      "[-2.73, -1.39, -0.74, -0.6]\n"
     ]
    },
    {
     "data": {
      "image/png": "[encoded data removed]",
      "text/plain": [
       "<Figure size 432x288 with 1 Axes>"
      ]
     },
     "metadata": {},
     "output_type": "display_data"
    },
    {
     "name": "stdout",
     "output_type": "stream",
     "text": [
      "Ethnic group of student_2\n",
      "[-0.77, -0.78, 0.76, -0.75]\n"
     ]
    },
    {
     "data": {
      "image/png": "[encoded data removed]",
      "text/plain": [
       "<Figure size 432x288 with 1 Axes>"
      ]
     },
     "metadata": {},
     "output_type": "display_data"
    },
    {
     "name": "stdout",
     "output_type": "stream",
     "text": [
      "Ethnic group of student_3\n",
      "[-0.8, -1.35, 0.7, -0.15]\n"
     ]
    },
    {
     "data": {
      "image/png": "[encoded data removed]",
      "text/plain": [
       "<Figure size 432x288 with 1 Axes>"
      ]
     },
     "metadata": {},
     "output_type": "display_data"
    },
    {
     "name": "stdout",
     "output_type": "stream",
     "text": [
      "Ethnic group of student_4\n",
      "[0.21, 1.72, -1.51, 0.0]\n"
     ]
    },
    {
     "data": {
      "image/png": "[encoded data removed]",
      "text/plain": [
       "<Figure size 432x288 with 1 Axes>"
      ]
     },
     "metadata": {},
     "output_type": "display_data"
    },
    {
     "name": "stdout",
     "output_type": "stream",
     "text": [
      "Ethnic group of student_5\n",
      "[-2.78, -2.69, -0.76, 0.66]\n"
     ]
    },
    {
     "data": {
      "image/png": "[encoded data removed]",
      "text/plain": [
       "<Figure size 432x288 with 1 Axes>"
      ]
     },
     "metadata": {},
     "output_type": "display_data"
    },
    {
     "name": "stdout",
     "output_type": "stream",
     "text": [
      "Ethnic group of student_6\n",
      "[0.04, 1.83, -1.79, 0.0]\n"
     ]
    },
    {
     "data": {
      "image/png": "[encoded data removed]",
      "text/plain": [
       "<Figure size 432x288 with 1 Axes>"
      ]
     },
     "metadata": {},
     "output_type": "display_data"
    },
    {
     "name": "stdout",
     "output_type": "stream",
     "text": [
      "Ethnic group of student_7\n",
      "[2.14, 0.75, 1.85, -0.46]\n"
     ]
    },
    {
     "data": {
      "image/png": "[encoded data removed]",
      "text/plain": [
       "<Figure size 432x288 with 1 Axes>"
      ]
     },
     "metadata": {},
     "output_type": "display_data"
    },
    {
     "name": "stdout",
     "output_type": "stream",
     "text": [
      "Ethnic group of student_8\n",
      "[2.42, 1.7, -0.05, 0.77]\n"
     ]
    },
    {
     "data": {
      "image/png": "[encoded data removed]",
      "text/plain": [
       "<Figure size 432x288 with 1 Axes>"
      ]
     },
     "metadata": {},
     "output_type": "display_data"
    },
    {
     "name": "stdout",
     "output_type": "stream",
     "text": [
      "Ethnic group of student_9\n",
      "[3.51, 2.14, 1.37, 0.0]\n"
     ]
    },
    {
     "data": {
      "image/png": "[encoded data removed]",
      "text/plain": [
       "<Figure size 432x288 with 1 Axes>"
      ]
     },
     "metadata": {},
     "output_type": "display_data"
    },
    {
     "name": "stdout",
     "output_type": "stream",
     "text": [
      "Ethnic group of student_10\n",
      "[-0.62, -0.95, -0.9, 1.22]\n"
     ]
    },
    {
     "data": {
      "image/png": "[encoded data removed]",
      "text/plain": [
       "<Figure size 432x288 with 1 Axes>"
      ]
     },
     "metadata": {},
     "output_type": "display_data"
    },
    {
     "name": "stdout",
     "output_type": "stream",
     "text": [
      "Ethnic group of student_11\n",
      "[-0.61, -0.74, 0.24, -0.11]\n"
     ]
    },
    {
     "data": {
      "image/png": "[encoded data removed]",
      "text/plain": [
       "<Figure size 432x288 with 1 Axes>"
      ]
     },
     "metadata": {},
     "output_type": "display_data"
    },
    {
     "name": "stdout",
     "output_type": "stream",
     "text": [
      "School denomination_1\n",
      "[-0.83, 0.37, -0.42, -0.78]\n"
     ]
    },
    {
     "data": {
      "image/png": "[encoded data removed]",
      "text/plain": [
       "<Figure size 432x288 with 1 Axes>"
      ]
     },
     "metadata": {},
     "output_type": "display_data"
    },
    {
     "name": "stdout",
     "output_type": "stream",
     "text": [
      "School denomination_2\n",
      "[0.58, 1.65, -1.55, 0.49]\n"
     ]
    },
    {
     "data": {
      "image/png": "[encoded data removed]",
      "text/plain": [
       "<Figure size 432x288 with 1 Axes>"
      ]
     },
     "metadata": {},
     "output_type": "display_data"
    },
    {
     "name": "stdout",
     "output_type": "stream",
     "text": [
      "School denomination_3\n",
      "[0.25, -1.78, 1.15, 0.88]\n"
     ]
    },
    {
     "data": {
      "image/png": "[encoded data removed]",
      "text/plain": [
       "<Figure size 432x288 with 1 Axes>"
      ]
     },
     "metadata": {},
     "output_type": "display_data"
    },
    {
     "name": "stdout",
     "output_type": "stream",
     "text": [
      "VR Band of Student_1\n",
      "[-6.41, -1.82, -2.43, -2.15]\n"
     ]
    },
    {
     "data": {
      "image/png": "[encoded data removed]",
      "text/plain": [
       "<Figure size 432x288 with 1 Axes>"
      ]
     },
     "metadata": {},
     "output_type": "display_data"
    },
    {
     "name": "stdout",
     "output_type": "stream",
     "text": [
      "VR Band of Student_2\n",
      "[6.97, 2.29, 2.4, 2.29]\n"
     ]
    },
    {
     "data": {
      "image/png": "[encoded data removed]",
      "text/plain": [
       "<Figure size 432x288 with 1 Axes>"
      ]
     },
     "metadata": {},
     "output_type": "display_data"
    },
    {
     "name": "stdout",
     "output_type": "stream",
     "text": [
      "VR Band of Student_3\n",
      "[-0.57, -0.23, -0.8, 0.46]\n"
     ]
    },
    {
     "data": {
      "image/png": "[encoded data removed]",
      "text/plain": [
       "<Figure size 432x288 with 1 Axes>"
      ]
     },
     "metadata": {},
     "output_type": "display_data"
    }
   ],
   "source": [
    "## female is target\n",
    "\n",
    "coefs = feda_model_female_LR.coef_\n",
    "column_order = ['general', 'male', 'mixed', 'female']\n",
    "\n",
    "plot_coefficients_linear_regression(coefs, column_order)\n"
   ]
  },
  {
   "cell_type": "code",
   "execution_count": 60,
   "metadata": {},
   "outputs": [
    {
     "name": "stdout",
     "output_type": "stream",
     "text": [
      "column order:  ['general', 'male', 'female', 'mixed']\n",
      "Year\n",
      "[1.29, -0.06, 1.2, -0.28]\n"
     ]
    },
    {
     "data": {
      "image/png": "[encoded data removed]",
      "text/plain": [
       "<Figure size 432x288 with 1 Axes>"
      ]
     },
     "metadata": {},
     "output_type": "display_data"
    },
    {
     "name": "stdout",
     "output_type": "stream",
     "text": [
      "VR1 Band\n",
      "[3.47, 1.14, 2.38, -0.21]\n"
     ]
    },
    {
     "data": {
      "image/png": "[encoded data removed]",
      "text/plain": [
       "<Figure size 432x288 with 1 Axes>"
      ]
     },
     "metadata": {},
     "output_type": "display_data"
    },
    {
     "name": "stdout",
     "output_type": "stream",
     "text": [
      "Ethnic group of student_1\n",
      "[-2.36, -1.18, -0.67, -0.51]\n"
     ]
    },
    {
     "data": {
      "image/png": "[encoded data removed]",
      "text/plain": [
       "<Figure size 432x288 with 1 Axes>"
      ]
     },
     "metadata": {},
     "output_type": "display_data"
    },
    {
     "name": "stdout",
     "output_type": "stream",
     "text": [
      "Ethnic group of student_2\n",
      "[0.01, -0.49, 0.58, -0.08]\n"
     ]
    },
    {
     "data": {
      "image/png": "[encoded data removed]",
      "text/plain": [
       "<Figure size 432x288 with 1 Axes>"
      ]
     },
     "metadata": {},
     "output_type": "display_data"
    },
    {
     "name": "stdout",
     "output_type": "stream",
     "text": [
      "Ethnic group of student_3\n",
      "[0.06, -0.32, 0.38, 0.0]\n"
     ]
    },
    {
     "data": {
      "image/png": "[encoded data removed]",
      "text/plain": [
       "<Figure size 432x288 with 1 Axes>"
      ]
     },
     "metadata": {},
     "output_type": "display_data"
    },
    {
     "name": "stdout",
     "output_type": "stream",
     "text": [
      "Ethnic group of student_4\n",
      "[1.04, 0.37, 0.43, 0.24]\n"
     ]
    },
    {
     "data": {
      "image/png": "[encoded data removed]",
      "text/plain": [
       "<Figure size 432x288 with 1 Axes>"
      ]
     },
     "metadata": {},
     "output_type": "display_data"
    },
    {
     "name": "stdout",
     "output_type": "stream",
     "text": [
      "Ethnic group of student_5\n",
      "[-2.86, -2.03, -0.58, -0.24]\n"
     ]
    },
    {
     "data": {
      "image/png": "[encoded data removed]",
      "text/plain": [
       "<Figure size 432x288 with 1 Axes>"
      ]
     },
     "metadata": {},
     "output_type": "display_data"
    },
    {
     "name": "stdout",
     "output_type": "stream",
     "text": [
      "Ethnic group of student_6\n",
      "[0.68, 0.5, 0.14, 0.04]\n"
     ]
    },
    {
     "data": {
      "image/png": "[encoded data removed]",
      "text/plain": [
       "<Figure size 432x288 with 1 Axes>"
      ]
     },
     "metadata": {},
     "output_type": "display_data"
    },
    {
     "name": "stdout",
     "output_type": "stream",
     "text": [
      "Ethnic group of student_7\n",
      "[1.55, 0.87, 0.75, -0.08]\n"
     ]
    },
    {
     "data": {
      "image/png": "[encoded data removed]",
      "text/plain": [
       "<Figure size 432x288 with 1 Axes>"
      ]
     },
     "metadata": {},
     "output_type": "display_data"
    },
    {
     "name": "stdout",
     "output_type": "stream",
     "text": [
      "Ethnic group of student_8\n",
      "[1.32, 1.32, -0.11, 0.1]\n"
     ]
    },
    {
     "data": {
      "image/png": "[encoded data removed]",
      "text/plain": [
       "<Figure size 432x288 with 1 Axes>"
      ]
     },
     "metadata": {},
     "output_type": "display_data"
    },
    {
     "name": "stdout",
     "output_type": "stream",
     "text": [
      "Ethnic group of student_9\n",
      "[1.13, 1.1, 0.1, -0.07]\n"
     ]
    },
    {
     "data": {
      "image/png": "[encoded data removed]",
      "text/plain": [
       "<Figure size 432x288 with 1 Axes>"
      ]
     },
     "metadata": {},
     "output_type": "display_data"
    },
    {
     "name": "stdout",
     "output_type": "stream",
     "text": [
      "Ethnic group of student_10\n",
      "[-0.56, -0.3, -0.26, 0.0]\n"
     ]
    },
    {
     "data": {
      "image/png": "[encoded data removed]",
      "text/plain": [
       "<Figure size 432x288 with 1 Axes>"
      ]
     },
     "metadata": {},
     "output_type": "display_data"
    },
    {
     "name": "stdout",
     "output_type": "stream",
     "text": [
      "Ethnic group of student_11\n",
      "[-0.01, -0.66, 0.73, -0.08]\n"
     ]
    },
    {
     "data": {
      "image/png": "[encoded data removed]",
      "text/plain": [
       "<Figure size 432x288 with 1 Axes>"
      ]
     },
     "metadata": {},
     "output_type": "display_data"
    },
    {
     "name": "stdout",
     "output_type": "stream",
     "text": [
      "School denomination_1\n",
      "[-0.6, -0.28, -0.41, 0.09]\n"
     ]
    },
    {
     "data": {
      "image/png": "[encoded data removed]",
      "text/plain": [
       "<Figure size 432x288 with 1 Axes>"
      ]
     },
     "metadata": {},
     "output_type": "display_data"
    },
    {
     "name": "stdout",
     "output_type": "stream",
     "text": [
      "School denomination_2\n",
      "[0.51, 0.91, 0.11, -0.51]\n"
     ]
    },
    {
     "data": {
      "image/png": "[encoded data removed]",
      "text/plain": [
       "<Figure size 432x288 with 1 Axes>"
      ]
     },
     "metadata": {},
     "output_type": "display_data"
    },
    {
     "name": "stdout",
     "output_type": "stream",
     "text": [
      "School denomination_3\n",
      "[0.09, -1.44, 1.79, -0.26]\n"
     ]
    },
    {
     "data": {
      "image/png": "[encoded data removed]",
      "text/plain": [
       "<Figure size 432x288 with 1 Axes>"
      ]
     },
     "metadata": {},
     "output_type": "display_data"
    },
    {
     "name": "stdout",
     "output_type": "stream",
     "text": [
      "VR Band of Student_1\n",
      "[-5.98, -2.27, -2.89, -0.83]\n"
     ]
    },
    {
     "data": {
      "image/png": "[encoded data removed]",
      "text/plain": [
       "<Figure size 432x288 with 1 Axes>"
      ]
     },
     "metadata": {},
     "output_type": "display_data"
    },
    {
     "name": "stdout",
     "output_type": "stream",
     "text": [
      "VR Band of Student_2\n",
      "[6.71, 1.94, 4.05, 0.72]\n"
     ]
    },
    {
     "data": {
      "image/png": "[encoded data removed]",
      "text/plain": [
       "<Figure size 432x288 with 1 Axes>"
      ]
     },
     "metadata": {},
     "output_type": "display_data"
    },
    {
     "name": "stdout",
     "output_type": "stream",
     "text": [
      "VR Band of Student_3\n",
      "[-0.73, -0.49, 0.34, -0.57]\n"
     ]
    },
    {
     "data": {
      "image/png": "[encoded data removed]",
      "text/plain": [
       "<Figure size 432x288 with 1 Axes>"
      ]
     },
     "metadata": {},
     "output_type": "display_data"
    }
   ],
   "source": [
    "## mixed is target\n",
    "\n",
    "coefs = feda_model_mixed_LR.coef_\n",
    "column_order = ['general', 'male', 'female', 'mixed']\n",
    "\n",
    "plot_coefficients_linear_regression(coefs, column_order)\n"
   ]
  },
  {
   "cell_type": "code",
   "execution_count": 61,
   "metadata": {},
   "outputs": [
    {
     "name": "stdout",
     "output_type": "stream",
     "text": [
      "\n",
      "# female is target #\n",
      "\n",
      "100\n",
      "first source domain:  male\n",
      "second source domain:  mixed\n",
      "# column names: #\n",
      "['Year', 'VR1 Band', 'Ethnic group of student_1', 'Ethnic group of student_2', 'Ethnic group of student_3', 'Ethnic group of student_4', 'Ethnic group of student_5', 'Ethnic group of student_6', 'Ethnic group of student_7', 'Ethnic group of student_8', 'Ethnic group of student_9', 'Ethnic group of student_10', 'Ethnic group of student_11', 'School denomination_1', 'School denomination_2', 'School denomination_3', 'VR Band of Student_1', 'VR Band of Student_2', 'VR Band of Student_3', 'male Year', 'male VR1 Band', 'male Ethnic group of student_1', 'male Ethnic group of student_2', 'male Ethnic group of student_3', 'male Ethnic group of student_4', 'male Ethnic group of student_5', 'male Ethnic group of student_6', 'male Ethnic group of student_7', 'male Ethnic group of student_8', 'male Ethnic group of student_9', 'male Ethnic group of student_10', 'male Ethnic group of student_11', 'male School denomination_1', 'male School denomination_2', 'male School denomination_3', 'male VR Band of Student_1', 'male VR Band of Student_2', 'male VR Band of Student_3', 'mixed Year', 'mixed VR1 Band', 'mixed Ethnic group of student_1', 'mixed Ethnic group of student_2', 'mixed Ethnic group of student_3', 'mixed Ethnic group of student_4', 'mixed Ethnic group of student_5', 'mixed Ethnic group of student_6', 'mixed Ethnic group of student_7', 'mixed Ethnic group of student_8', 'mixed Ethnic group of student_9', 'mixed Ethnic group of student_10', 'mixed Ethnic group of student_11', 'mixed School denomination_1', 'mixed School denomination_2', 'mixed School denomination_3', 'mixed VR Band of Student_1', 'mixed VR Band of Student_2', 'mixed VR Band of Student_3', 'female Year', 'female VR1 Band', 'female Ethnic group of student_1', 'female Ethnic group of student_2', 'female Ethnic group of student_3', 'female Ethnic group of student_4', 'female Ethnic group of student_5', 'female Ethnic group of student_6', 'female Ethnic group of student_7', 'female Ethnic group of student_8', 'female Ethnic group of student_9', 'female Ethnic group of student_10', 'female Ethnic group of student_11', 'female School denomination_1', 'female School denomination_2', 'female School denomination_3', 'female VR Band of Student_1', 'female VR Band of Student_2', 'female VR Band of Student_3']\n",
      "Linear Regression:\n",
      "best mse:  100.90381965932158\n",
      "best parameters:  {'alpha': 10} \n",
      "\n",
      "Decision Tree:\n",
      "best mse:  166.40186912901115\n",
      "best parameters:  {'max_depth': 35, 'min_samples_split': 10, 'min_samples_leaf': 2} \n",
      "\n",
      "Linear Regression: \n",
      "Mean squared error of the final model on test data: 124.34\n",
      "Decision Tree: \n",
      "Mean squared error of the final model on test data: 161.11\n"
     ]
    }
   ],
   "source": [
    "###\n",
    "# experiment the sensitivity to the hyperparameter settings\n",
    "###\n",
    "para_grid_female = {\n",
    "    \"alpha\": [0.1, 1, 2, 3, 4, 5, 6, 7, 8, 9, 10, 11, 12, 13, 14, 15],\n",
    "    \"max_depth\": [35],\n",
    "    \"min_samples_split\": [10],\n",
    "    \"min_samples_leaf\": [2]\n",
    "}\n",
    "\n",
    "print(\"\\n# female is target #\\n\")\n",
    "_, mse_female_LR, _, mse_female_DT = pipeline_given_target('female', data_dict, para_grid_female, 'FEDA')\n"
   ]
  },
  {
   "cell_type": "code",
   "execution_count": 62,
   "metadata": {},
   "outputs": [
    {
     "name": "stdout",
     "output_type": "stream",
     "text": [
      "\n",
      "# female is target #\n",
      "\n",
      "100\n",
      "first source domain:  male\n",
      "second source domain:  mixed\n",
      "# column names: #\n",
      "['Year', 'VR1 Band', 'Ethnic group of student_1', 'Ethnic group of student_2', 'Ethnic group of student_3', 'Ethnic group of student_4', 'Ethnic group of student_5', 'Ethnic group of student_6', 'Ethnic group of student_7', 'Ethnic group of student_8', 'Ethnic group of student_9', 'Ethnic group of student_10', 'Ethnic group of student_11', 'School denomination_1', 'School denomination_2', 'School denomination_3', 'VR Band of Student_1', 'VR Band of Student_2', 'VR Band of Student_3', 'male Year', 'male VR1 Band', 'male Ethnic group of student_1', 'male Ethnic group of student_2', 'male Ethnic group of student_3', 'male Ethnic group of student_4', 'male Ethnic group of student_5', 'male Ethnic group of student_6', 'male Ethnic group of student_7', 'male Ethnic group of student_8', 'male Ethnic group of student_9', 'male Ethnic group of student_10', 'male Ethnic group of student_11', 'male School denomination_1', 'male School denomination_2', 'male School denomination_3', 'male VR Band of Student_1', 'male VR Band of Student_2', 'male VR Band of Student_3', 'mixed Year', 'mixed VR1 Band', 'mixed Ethnic group of student_1', 'mixed Ethnic group of student_2', 'mixed Ethnic group of student_3', 'mixed Ethnic group of student_4', 'mixed Ethnic group of student_5', 'mixed Ethnic group of student_6', 'mixed Ethnic group of student_7', 'mixed Ethnic group of student_8', 'mixed Ethnic group of student_9', 'mixed Ethnic group of student_10', 'mixed Ethnic group of student_11', 'mixed School denomination_1', 'mixed School denomination_2', 'mixed School denomination_3', 'mixed VR Band of Student_1', 'mixed VR Band of Student_2', 'mixed VR Band of Student_3', 'female Year', 'female VR1 Band', 'female Ethnic group of student_1', 'female Ethnic group of student_2', 'female Ethnic group of student_3', 'female Ethnic group of student_4', 'female Ethnic group of student_5', 'female Ethnic group of student_6', 'female Ethnic group of student_7', 'female Ethnic group of student_8', 'female Ethnic group of student_9', 'female Ethnic group of student_10', 'female Ethnic group of student_11', 'female School denomination_1', 'female School denomination_2', 'female School denomination_3', 'female VR Band of Student_1', 'female VR Band of Student_2', 'female VR Band of Student_3']\n",
      "Linear Regression:\n",
      "best mse:  106.97020405953872\n",
      "best parameters:  {'alpha': 0.1} \n",
      "\n",
      "Decision Tree:\n",
      "best mse:  165.70032099364695\n",
      "best parameters:  {'max_depth': 35, 'min_samples_split': 10, 'min_samples_leaf': 2} \n",
      "\n",
      "Linear Regression: \n",
      "Mean squared error of the final model on test data: 127.92\n",
      "Decision Tree: \n",
      "Mean squared error of the final model on test data: 160.50\n",
      "column order:  ['general', 'male', 'mixed', 'female']\n",
      "Year\n",
      "[2.7, -1.78, -1.2, 4.78]\n"
     ]
    },
    {
     "data": {
      "image/png": "[encoded data removed]",
      "text/plain": [
       "<Figure size 432x288 with 1 Axes>"
      ]
     },
     "metadata": {},
     "output_type": "display_data"
    },
    {
     "name": "stdout",
     "output_type": "stream",
     "text": [
      "VR1 Band\n",
      "[6.71, 0.46, 0.59, 5.33]\n"
     ]
    },
    {
     "data": {
      "image/png": "[encoded data removed]",
      "text/plain": [
       "<Figure size 432x288 with 1 Axes>"
      ]
     },
     "metadata": {},
     "output_type": "display_data"
    },
    {
     "name": "stdout",
     "output_type": "stream",
     "text": [
      "Ethnic group of student_1\n",
      "[-2.74, -1.22, -0.51, -1.01]\n"
     ]
    },
    {
     "data": {
      "image/png": "[encoded data removed]",
      "text/plain": [
       "<Figure size 432x288 with 1 Axes>"
      ]
     },
     "metadata": {},
     "output_type": "display_data"
    },
    {
     "name": "stdout",
     "output_type": "stream",
     "text": [
      "Ethnic group of student_2\n",
      "[-2.87, 1.4, 3.16, -7.43]\n"
     ]
    },
    {
     "data": {
      "image/png": "[encoded data removed]",
      "text/plain": [
       "<Figure size 432x288 with 1 Axes>"
      ]
     },
     "metadata": {},
     "output_type": "display_data"
    },
    {
     "name": "stdout",
     "output_type": "stream",
     "text": [
      "Ethnic group of student_3\n",
      "[-0.82, -2.21, 1.13, 0.26]\n"
     ]
    },
    {
     "data": {
      "image/png": "[encoded data removed]",
      "text/plain": [
       "<Figure size 432x288 with 1 Axes>"
      ]
     },
     "metadata": {},
     "output_type": "display_data"
    },
    {
     "name": "stdout",
     "output_type": "stream",
     "text": [
      "Ethnic group of student_4\n",
      "[0.38, 2.01, -1.63, 0.0]\n"
     ]
    },
    {
     "data": {
      "image/png": "[encoded data removed]",
      "text/plain": [
       "<Figure size 432x288 with 1 Axes>"
      ]
     },
     "metadata": {},
     "output_type": "display_data"
    },
    {
     "name": "stdout",
     "output_type": "stream",
     "text": [
      "Ethnic group of student_5\n",
      "[-2.64, -2.66, -0.67, 0.69]\n"
     ]
    },
    {
     "data": {
      "image/png": "[encoded data removed]",
      "text/plain": [
       "<Figure size 432x288 with 1 Axes>"
      ]
     },
     "metadata": {},
     "output_type": "display_data"
    },
    {
     "name": "stdout",
     "output_type": "stream",
     "text": [
      "Ethnic group of student_6\n",
      "[0.24, 2.27, -2.03, 0.0]\n"
     ]
    },
    {
     "data": {
      "image/png": "[encoded data removed]",
      "text/plain": [
       "<Figure size 432x288 with 1 Axes>"
      ]
     },
     "metadata": {},
     "output_type": "display_data"
    },
    {
     "name": "stdout",
     "output_type": "stream",
     "text": [
      "Ethnic group of student_7\n",
      "[1.82, 1.32, 2.57, -2.07]\n"
     ]
    },
    {
     "data": {
      "image/png": "[encoded data removed]",
      "text/plain": [
       "<Figure size 432x288 with 1 Axes>"
      ]
     },
     "metadata": {},
     "output_type": "display_data"
    },
    {
     "name": "stdout",
     "output_type": "stream",
     "text": [
      "Ethnic group of student_8\n",
      "[2.98, 1.58, -0.38, 1.78]\n"
     ]
    },
    {
     "data": {
      "image/png": "[encoded data removed]",
      "text/plain": [
       "<Figure size 432x288 with 1 Axes>"
      ]
     },
     "metadata": {},
     "output_type": "display_data"
    },
    {
     "name": "stdout",
     "output_type": "stream",
     "text": [
      "Ethnic group of student_9\n",
      "[3.95, 2.69, 1.27, 0.0]\n"
     ]
    },
    {
     "data": {
      "image/png": "[encoded data removed]",
      "text/plain": [
       "<Figure size 432x288 with 1 Axes>"
      ]
     },
     "metadata": {},
     "output_type": "display_data"
    },
    {
     "name": "stdout",
     "output_type": "stream",
     "text": [
      "Ethnic group of student_10\n",
      "[0.52, -2.07, -1.91, 4.5]\n"
     ]
    },
    {
     "data": {
      "image/png": "[encoded data removed]",
      "text/plain": [
       "<Figure size 432x288 with 1 Axes>"
      ]
     },
     "metadata": {},
     "output_type": "display_data"
    },
    {
     "name": "stdout",
     "output_type": "stream",
     "text": [
      "Ethnic group of student_11\n",
      "[-0.81, -0.38, 0.67, -1.1]\n"
     ]
    },
    {
     "data": {
      "image/png": "[encoded data removed]",
      "text/plain": [
       "<Figure size 432x288 with 1 Axes>"
      ]
     },
     "metadata": {},
     "output_type": "display_data"
    },
    {
     "name": "stdout",
     "output_type": "stream",
     "text": [
      "School denomination_1\n",
      "[-0.85, 1.21, 0.44, -2.5]\n"
     ]
    },
    {
     "data": {
      "image/png": "[encoded data removed]",
      "text/plain": [
       "<Figure size 432x288 with 1 Axes>"
      ]
     },
     "metadata": {},
     "output_type": "display_data"
    },
    {
     "name": "stdout",
     "output_type": "stream",
     "text": [
      "School denomination_2\n",
      "[0.65, 2.49, -0.79, -1.06]\n"
     ]
    },
    {
     "data": {
      "image/png": "[encoded data removed]",
      "text/plain": [
       "<Figure size 432x288 with 1 Axes>"
      ]
     },
     "metadata": {},
     "output_type": "display_data"
    },
    {
     "name": "stdout",
     "output_type": "stream",
     "text": [
      "School denomination_3\n",
      "[0.21, -0.98, 2.02, -0.84]\n"
     ]
    },
    {
     "data": {
      "image/png": "[encoded data removed]",
      "text/plain": [
       "<Figure size 432x288 with 1 Axes>"
      ]
     },
     "metadata": {},
     "output_type": "display_data"
    },
    {
     "name": "stdout",
     "output_type": "stream",
     "text": [
      "VR Band of Student_1\n",
      "[-6.75, -0.69, -1.27, -4.79]\n"
     ]
    },
    {
     "data": {
      "image/png": "[encoded data removed]",
      "text/plain": [
       "<Figure size 432x288 with 1 Axes>"
      ]
     },
     "metadata": {},
     "output_type": "display_data"
    },
    {
     "name": "stdout",
     "output_type": "stream",
     "text": [
      "VR Band of Student_2\n",
      "[7.24, 2.88, 2.98, 1.37]\n"
     ]
    },
    {
     "data": {
      "image/png": "[encoded data removed]",
      "text/plain": [
       "<Figure size 432x288 with 1 Axes>"
      ]
     },
     "metadata": {},
     "output_type": "display_data"
    },
    {
     "name": "stdout",
     "output_type": "stream",
     "text": [
      "VR Band of Student_3\n",
      "[-0.49, 0.53, -0.05, -0.97]\n"
     ]
    },
    {
     "data": {
      "image/png": "[encoded data removed]",
      "text/plain": [
       "<Figure size 432x288 with 1 Axes>"
      ]
     },
     "metadata": {},
     "output_type": "display_data"
    }
   ],
   "source": [
    "para_grid_female = {\n",
    "    \"alpha\": [0.1],\n",
    "    \"max_depth\": [35],\n",
    "    \"min_samples_split\": [10],\n",
    "    \"min_samples_leaf\": [2]\n",
    "}\n",
    "\n",
    "print(\"\\n# female is target #\\n\")\n",
    "feda_model_LR, _, _, _ = pipeline_given_target('female', data_dict, para_grid_female, 'FEDA')\n",
    "\n",
    "## female is target\n",
    "\n",
    "coefs = feda_model_LR.coef_\n",
    "column_order = ['general', 'male', 'mixed', 'female']\n",
    "\n",
    "plot_coefficients_linear_regression(coefs, column_order)\n"
   ]
  },
  {
   "cell_type": "code",
   "execution_count": 63,
   "metadata": {},
   "outputs": [
    {
     "name": "stdout",
     "output_type": "stream",
     "text": [
      "\n",
      "# female is target #\n",
      "\n",
      "100\n",
      "first source domain:  male\n",
      "second source domain:  mixed\n",
      "# column names: #\n",
      "['Year', 'VR1 Band', 'Ethnic group of student_1', 'Ethnic group of student_2', 'Ethnic group of student_3', 'Ethnic group of student_4', 'Ethnic group of student_5', 'Ethnic group of student_6', 'Ethnic group of student_7', 'Ethnic group of student_8', 'Ethnic group of student_9', 'Ethnic group of student_10', 'Ethnic group of student_11', 'School denomination_1', 'School denomination_2', 'School denomination_3', 'VR Band of Student_1', 'VR Band of Student_2', 'VR Band of Student_3', 'male Year', 'male VR1 Band', 'male Ethnic group of student_1', 'male Ethnic group of student_2', 'male Ethnic group of student_3', 'male Ethnic group of student_4', 'male Ethnic group of student_5', 'male Ethnic group of student_6', 'male Ethnic group of student_7', 'male Ethnic group of student_8', 'male Ethnic group of student_9', 'male Ethnic group of student_10', 'male Ethnic group of student_11', 'male School denomination_1', 'male School denomination_2', 'male School denomination_3', 'male VR Band of Student_1', 'male VR Band of Student_2', 'male VR Band of Student_3', 'mixed Year', 'mixed VR1 Band', 'mixed Ethnic group of student_1', 'mixed Ethnic group of student_2', 'mixed Ethnic group of student_3', 'mixed Ethnic group of student_4', 'mixed Ethnic group of student_5', 'mixed Ethnic group of student_6', 'mixed Ethnic group of student_7', 'mixed Ethnic group of student_8', 'mixed Ethnic group of student_9', 'mixed Ethnic group of student_10', 'mixed Ethnic group of student_11', 'mixed School denomination_1', 'mixed School denomination_2', 'mixed School denomination_3', 'mixed VR Band of Student_1', 'mixed VR Band of Student_2', 'mixed VR Band of Student_3', 'female Year', 'female VR1 Band', 'female Ethnic group of student_1', 'female Ethnic group of student_2', 'female Ethnic group of student_3', 'female Ethnic group of student_4', 'female Ethnic group of student_5', 'female Ethnic group of student_6', 'female Ethnic group of student_7', 'female Ethnic group of student_8', 'female Ethnic group of student_9', 'female Ethnic group of student_10', 'female Ethnic group of student_11', 'female School denomination_1', 'female School denomination_2', 'female School denomination_3', 'female VR Band of Student_1', 'female VR Band of Student_2', 'female VR Band of Student_3']\n",
      "Linear Regression:\n",
      "best mse:  104.8856217788853\n",
      "best parameters:  {'alpha': 0.5} \n",
      "\n",
      "Decision Tree:\n",
      "best mse:  165.54807870969637\n",
      "best parameters:  {'max_depth': 35, 'min_samples_split': 10, 'min_samples_leaf': 2} \n",
      "\n",
      "Linear Regression: \n",
      "Mean squared error of the final model on test data: 125.95\n",
      "Decision Tree: \n",
      "Mean squared error of the final model on test data: 158.82\n",
      "column order:  ['general', 'male', 'mixed', 'female']\n",
      "Year\n",
      "[2.59, -1.6, -1.03, 4.35]\n"
     ]
    },
    {
     "data": {
      "image/png": "[encoded data removed]",
      "text/plain": [
       "<Figure size 432x288 with 1 Axes>"
      ]
     },
     "metadata": {},
     "output_type": "display_data"
    },
    {
     "name": "stdout",
     "output_type": "stream",
     "text": [
      "VR1 Band\n",
      "[6.35, 0.86, 0.95, 4.23]\n"
     ]
    },
    {
     "data": {
      "image/png": "[encoded data removed]",
      "text/plain": [
       "<Figure size 432x288 with 1 Axes>"
      ]
     },
     "metadata": {},
     "output_type": "display_data"
    },
    {
     "name": "stdout",
     "output_type": "stream",
     "text": [
      "Ethnic group of student_1\n",
      "[-2.78, -1.24, -0.53, -1.0]\n"
     ]
    },
    {
     "data": {
      "image/png": "[encoded data removed]",
      "text/plain": [
       "<Figure size 432x288 with 1 Axes>"
      ]
     },
     "metadata": {},
     "output_type": "display_data"
    },
    {
     "name": "stdout",
     "output_type": "stream",
     "text": [
      "Ethnic group of student_2\n",
      "[-2.32, 0.79, 2.54, -5.65]\n"
     ]
    },
    {
     "data": {
      "image/png": "[encoded data removed]",
      "text/plain": [
       "<Figure size 432x288 with 1 Axes>"
      ]
     },
     "metadata": {},
     "output_type": "display_data"
    },
    {
     "name": "stdout",
     "output_type": "stream",
     "text": [
      "Ethnic group of student_3\n",
      "[-0.96, -2.06, 1.2, -0.11]\n"
     ]
    },
    {
     "data": {
      "image/png": "[encoded data removed]",
      "text/plain": [
       "<Figure size 432x288 with 1 Axes>"
      ]
     },
     "metadata": {},
     "output_type": "display_data"
    },
    {
     "name": "stdout",
     "output_type": "stream",
     "text": [
      "Ethnic group of student_4\n",
      "[0.34, 1.98, -1.64, 0.0]\n"
     ]
    },
    {
     "data": {
      "image/png": "[encoded data removed]",
      "text/plain": [
       "<Figure size 432x288 with 1 Axes>"
      ]
     },
     "metadata": {},
     "output_type": "display_data"
    },
    {
     "name": "stdout",
     "output_type": "stream",
     "text": [
      "Ethnic group of student_5\n",
      "[-2.68, -2.68, -0.69, 0.68]\n"
     ]
    },
    {
     "data": {
      "image/png": "[encoded data removed]",
      "text/plain": [
       "<Figure size 432x288 with 1 Axes>"
      ]
     },
     "metadata": {},
     "output_type": "display_data"
    },
    {
     "name": "stdout",
     "output_type": "stream",
     "text": [
      "Ethnic group of student_6\n",
      "[0.2, 2.23, -2.03, 0.0]\n"
     ]
    },
    {
     "data": {
      "image/png": "[encoded data removed]",
      "text/plain": [
       "<Figure size 432x288 with 1 Axes>"
      ]
     },
     "metadata": {},
     "output_type": "display_data"
    },
    {
     "name": "stdout",
     "output_type": "stream",
     "text": [
      "Ethnic group of student_7\n",
      "[1.87, 1.21, 2.45, -1.8]\n"
     ]
    },
    {
     "data": {
      "image/png": "[encoded data removed]",
      "text/plain": [
       "<Figure size 432x288 with 1 Axes>"
      ]
     },
     "metadata": {},
     "output_type": "display_data"
    },
    {
     "name": "stdout",
     "output_type": "stream",
     "text": [
      "Ethnic group of student_8\n",
      "[2.93, 1.56, -0.39, 1.76]\n"
     ]
    },
    {
     "data": {
      "image/png": "[encoded data removed]",
      "text/plain": [
       "<Figure size 432x288 with 1 Axes>"
      ]
     },
     "metadata": {},
     "output_type": "display_data"
    },
    {
     "name": "stdout",
     "output_type": "stream",
     "text": [
      "Ethnic group of student_9\n",
      "[3.9, 2.64, 1.26, 0.0]\n"
     ]
    },
    {
     "data": {
      "image/png": "[encoded data removed]",
      "text/plain": [
       "<Figure size 432x288 with 1 Axes>"
      ]
     },
     "metadata": {},
     "output_type": "display_data"
    },
    {
     "name": "stdout",
     "output_type": "stream",
     "text": [
      "Ethnic group of student_10\n",
      "[0.31, -1.91, -1.75, 3.98]\n"
     ]
    },
    {
     "data": {
      "image/png": "[encoded data removed]",
      "text/plain": [
       "<Figure size 432x288 with 1 Axes>"
      ]
     },
     "metadata": {},
     "output_type": "display_data"
    },
    {
     "name": "stdout",
     "output_type": "stream",
     "text": [
      "Ethnic group of student_11\n",
      "[-0.8, -0.45, 0.6, -0.96]\n"
     ]
    },
    {
     "data": {
      "image/png": "[encoded data removed]",
      "text/plain": [
       "<Figure size 432x288 with 1 Axes>"
      ]
     },
     "metadata": {},
     "output_type": "display_data"
    },
    {
     "name": "stdout",
     "output_type": "stream",
     "text": [
      "School denomination_1\n",
      "[-0.87, 1.01, 0.24, -2.12]\n"
     ]
    },
    {
     "data": {
      "image/png": "[encoded data removed]",
      "text/plain": [
       "<Figure size 432x288 with 1 Axes>"
      ]
     },
     "metadata": {},
     "output_type": "display_data"
    },
    {
     "name": "stdout",
     "output_type": "stream",
     "text": [
      "School denomination_2\n",
      "[0.65, 2.27, -1.01, -0.6]\n"
     ]
    },
    {
     "data": {
      "image/png": "[encoded data removed]",
      "text/plain": [
       "<Figure size 432x288 with 1 Axes>"
      ]
     },
     "metadata": {},
     "output_type": "display_data"
    },
    {
     "name": "stdout",
     "output_type": "stream",
     "text": [
      "School denomination_3\n",
      "[0.22, -1.2, 1.8, -0.37]\n"
     ]
    },
    {
     "data": {
      "image/png": "[encoded data removed]",
      "text/plain": [
       "<Figure size 432x288 with 1 Axes>"
      ]
     },
     "metadata": {},
     "output_type": "display_data"
    },
    {
     "name": "stdout",
     "output_type": "stream",
     "text": [
      "VR Band of Student_1\n",
      "[-6.72, -0.93, -1.51, -4.28]\n"
     ]
    },
    {
     "data": {
      "image/png": "[encoded data removed]",
      "text/plain": [
       "<Figure size 432x288 with 1 Axes>"
      ]
     },
     "metadata": {},
     "output_type": "display_data"
    },
    {
     "name": "stdout",
     "output_type": "stream",
     "text": [
      "VR Band of Student_2\n",
      "[7.23, 2.67, 2.77, 1.78]\n"
     ]
    },
    {
     "data": {
      "image/png": "[encoded data removed]",
      "text/plain": [
       "<Figure size 432x288 with 1 Axes>"
      ]
     },
     "metadata": {},
     "output_type": "display_data"
    },
    {
     "name": "stdout",
     "output_type": "stream",
     "text": [
      "VR Band of Student_3\n",
      "[-0.51, 0.33, -0.24, -0.59]\n"
     ]
    },
    {
     "data": {
      "image/png": "[encoded data removed]",
      "text/plain": [
       "<Figure size 432x288 with 1 Axes>"
      ]
     },
     "metadata": {},
     "output_type": "display_data"
    }
   ],
   "source": [
    "para_grid_female = {\n",
    "    \"alpha\": [0.5],\n",
    "    \"max_depth\": [35],\n",
    "    \"min_samples_split\": [10],\n",
    "    \"min_samples_leaf\": [2]\n",
    "}\n",
    "\n",
    "print(\"\\n# female is target #\\n\")\n",
    "feda_model_LR, _, _, _ = pipeline_given_target('female', data_dict, para_grid_female, 'FEDA')\n",
    "\n",
    "## female is target\n",
    "\n",
    "coefs = feda_model_LR.coef_\n",
    "column_order = ['general', 'male', 'mixed', 'female']\n",
    "\n",
    "plot_coefficients_linear_regression(coefs, column_order)"
   ]
  },
  {
   "cell_type": "code",
   "execution_count": 64,
   "metadata": {},
   "outputs": [
    {
     "name": "stdout",
     "output_type": "stream",
     "text": [
      "\n",
      "# female is target #\n",
      "\n",
      "100\n",
      "first source domain:  male\n",
      "second source domain:  mixed\n",
      "# column names: #\n",
      "['Year', 'VR1 Band', 'Ethnic group of student_1', 'Ethnic group of student_2', 'Ethnic group of student_3', 'Ethnic group of student_4', 'Ethnic group of student_5', 'Ethnic group of student_6', 'Ethnic group of student_7', 'Ethnic group of student_8', 'Ethnic group of student_9', 'Ethnic group of student_10', 'Ethnic group of student_11', 'School denomination_1', 'School denomination_2', 'School denomination_3', 'VR Band of Student_1', 'VR Band of Student_2', 'VR Band of Student_3', 'male Year', 'male VR1 Band', 'male Ethnic group of student_1', 'male Ethnic group of student_2', 'male Ethnic group of student_3', 'male Ethnic group of student_4', 'male Ethnic group of student_5', 'male Ethnic group of student_6', 'male Ethnic group of student_7', 'male Ethnic group of student_8', 'male Ethnic group of student_9', 'male Ethnic group of student_10', 'male Ethnic group of student_11', 'male School denomination_1', 'male School denomination_2', 'male School denomination_3', 'male VR Band of Student_1', 'male VR Band of Student_2', 'male VR Band of Student_3', 'mixed Year', 'mixed VR1 Band', 'mixed Ethnic group of student_1', 'mixed Ethnic group of student_2', 'mixed Ethnic group of student_3', 'mixed Ethnic group of student_4', 'mixed Ethnic group of student_5', 'mixed Ethnic group of student_6', 'mixed Ethnic group of student_7', 'mixed Ethnic group of student_8', 'mixed Ethnic group of student_9', 'mixed Ethnic group of student_10', 'mixed Ethnic group of student_11', 'mixed School denomination_1', 'mixed School denomination_2', 'mixed School denomination_3', 'mixed VR Band of Student_1', 'mixed VR Band of Student_2', 'mixed VR Band of Student_3', 'female Year', 'female VR1 Band', 'female Ethnic group of student_1', 'female Ethnic group of student_2', 'female Ethnic group of student_3', 'female Ethnic group of student_4', 'female Ethnic group of student_5', 'female Ethnic group of student_6', 'female Ethnic group of student_7', 'female Ethnic group of student_8', 'female Ethnic group of student_9', 'female Ethnic group of student_10', 'female Ethnic group of student_11', 'female School denomination_1', 'female School denomination_2', 'female School denomination_3', 'female VR Band of Student_1', 'female VR Band of Student_2', 'female VR Band of Student_3']\n",
      "Linear Regression:\n",
      "best mse:  103.56272481184124\n",
      "best parameters:  {'alpha': 1} \n",
      "\n",
      "Decision Tree:\n",
      "best mse:  166.42006271990206\n",
      "best parameters:  {'max_depth': 35, 'min_samples_split': 10, 'min_samples_leaf': 2} \n",
      "\n",
      "Linear Regression: \n",
      "Mean squared error of the final model on test data: 124.80\n",
      "Decision Tree: \n",
      "Mean squared error of the final model on test data: 163.32\n",
      "column order:  ['general', 'male', 'mixed', 'female']\n",
      "Year\n",
      "[2.49, -1.46, -0.89, 4.0]\n"
     ]
    },
    {
     "data": {
      "image/png": "[encoded data removed]",
      "text/plain": [
       "<Figure size 432x288 with 1 Axes>"
      ]
     },
     "metadata": {},
     "output_type": "display_data"
    },
    {
     "name": "stdout",
     "output_type": "stream",
     "text": [
      "VR1 Band\n",
      "[6.08, 1.14, 1.21, 3.43]\n"
     ]
    },
    {
     "data": {
      "image/png": "[encoded data removed]",
      "text/plain": [
       "<Figure size 432x288 with 1 Axes>"
      ]
     },
     "metadata": {},
     "output_type": "display_data"
    },
    {
     "name": "stdout",
     "output_type": "stream",
     "text": [
      "Ethnic group of student_1\n",
      "[-2.8, -1.26, -0.55, -0.99]\n"
     ]
    },
    {
     "data": {
      "image/png": "[encoded data removed]",
      "text/plain": [
       "<Figure size 432x288 with 1 Axes>"
      ]
     },
     "metadata": {},
     "output_type": "display_data"
    },
    {
     "name": "stdout",
     "output_type": "stream",
     "text": [
      "Ethnic group of student_2\n",
      "[-1.92, 0.34, 2.08, -4.34]\n"
     ]
    },
    {
     "data": {
      "image/png": "[encoded data removed]",
      "text/plain": [
       "<Figure size 432x288 with 1 Axes>"
      ]
     },
     "metadata": {},
     "output_type": "display_data"
    },
    {
     "name": "stdout",
     "output_type": "stream",
     "text": [
      "Ethnic group of student_3\n",
      "[-1.03, -1.96, 1.2, -0.26]\n"
     ]
    },
    {
     "data": {
      "image/png": "[encoded data removed]",
      "text/plain": [
       "<Figure size 432x288 with 1 Axes>"
      ]
     },
     "metadata": {},
     "output_type": "display_data"
    },
    {
     "name": "stdout",
     "output_type": "stream",
     "text": [
      "Ethnic group of student_4\n",
      "[0.31, 1.95, -1.64, 0.0]\n"
     ]
    },
    {
     "data": {
      "image/png": "[encoded data removed]",
      "text/plain": [
       "<Figure size 432x288 with 1 Axes>"
      ]
     },
     "metadata": {},
     "output_type": "display_data"
    },
    {
     "name": "stdout",
     "output_type": "stream",
     "text": [
      "Ethnic group of student_5\n",
      "[-2.72, -2.69, -0.7, 0.67]\n"
     ]
    },
    {
     "data": {
      "image/png": "[encoded data removed]",
      "text/plain": [
       "<Figure size 432x288 with 1 Axes>"
      ]
     },
     "metadata": {},
     "output_type": "display_data"
    },
    {
     "name": "stdout",
     "output_type": "stream",
     "text": [
      "Ethnic group of student_6\n",
      "[0.17, 2.2, -2.03, 0.0]\n"
     ]
    },
    {
     "data": {
      "image/png": "[encoded data removed]",
      "text/plain": [
       "<Figure size 432x288 with 1 Axes>"
      ]
     },
     "metadata": {},
     "output_type": "display_data"
    },
    {
     "name": "stdout",
     "output_type": "stream",
     "text": [
      "Ethnic group of student_7\n",
      "[1.91, 1.12, 2.35, -1.56]\n"
     ]
    },
    {
     "data": {
      "image/png": "[encoded data removed]",
      "text/plain": [
       "<Figure size 432x288 with 1 Axes>"
      ]
     },
     "metadata": {},
     "output_type": "display_data"
    },
    {
     "name": "stdout",
     "output_type": "stream",
     "text": [
      "Ethnic group of student_8\n",
      "[2.87, 1.56, -0.37, 1.67]\n"
     ]
    },
    {
     "data": {
      "image/png": "[encoded data removed]",
      "text/plain": [
       "<Figure size 432x288 with 1 Axes>"
      ]
     },
     "metadata": {},
     "output_type": "display_data"
    },
    {
     "name": "stdout",
     "output_type": "stream",
     "text": [
      "Ethnic group of student_9\n",
      "[3.85, 2.6, 1.26, 0.0]\n"
     ]
    },
    {
     "data": {
      "image/png": "[encoded data removed]",
      "text/plain": [
       "<Figure size 432x288 with 1 Axes>"
      ]
     },
     "metadata": {},
     "output_type": "display_data"
    },
    {
     "name": "stdout",
     "output_type": "stream",
     "text": [
      "Ethnic group of student_10\n",
      "[0.14, -1.76, -1.61, 3.51]\n"
     ]
    },
    {
     "data": {
      "image/png": "[encoded data removed]",
      "text/plain": [
       "<Figure size 432x288 with 1 Axes>"
      ]
     },
     "metadata": {},
     "output_type": "display_data"
    },
    {
     "name": "stdout",
     "output_type": "stream",
     "text": [
      "Ethnic group of student_11\n",
      "[-0.78, -0.51, 0.54, -0.81]\n"
     ]
    },
    {
     "data": {
      "image/png": "[encoded data removed]",
      "text/plain": [
       "<Figure size 432x288 with 1 Axes>"
      ]
     },
     "metadata": {},
     "output_type": "display_data"
    },
    {
     "name": "stdout",
     "output_type": "stream",
     "text": [
      "School denomination_1\n",
      "[-0.88, 0.86, 0.09, -1.82]\n"
     ]
    },
    {
     "data": {
      "image/png": "[encoded data removed]",
      "text/plain": [
       "<Figure size 432x288 with 1 Axes>"
      ]
     },
     "metadata": {},
     "output_type": "display_data"
    },
    {
     "name": "stdout",
     "output_type": "stream",
     "text": [
      "School denomination_2\n",
      "[0.65, 2.1, -1.18, -0.27]\n"
     ]
    },
    {
     "data": {
      "image/png": "[encoded data removed]",
      "text/plain": [
       "<Figure size 432x288 with 1 Axes>"
      ]
     },
     "metadata": {},
     "output_type": "display_data"
    },
    {
     "name": "stdout",
     "output_type": "stream",
     "text": [
      "School denomination_3\n",
      "[0.23, -1.37, 1.63, -0.03]\n"
     ]
    },
    {
     "data": {
      "image/png": "[encoded data removed]",
      "text/plain": [
       "<Figure size 432x288 with 1 Axes>"
      ]
     },
     "metadata": {},
     "output_type": "display_data"
    },
    {
     "name": "stdout",
     "output_type": "stream",
     "text": [
      "VR Band of Student_1\n",
      "[-6.7, -1.12, -1.7, -3.88]\n"
     ]
    },
    {
     "data": {
      "image/png": "[encoded data removed]",
      "text/plain": [
       "<Figure size 432x288 with 1 Axes>"
      ]
     },
     "metadata": {},
     "output_type": "display_data"
    },
    {
     "name": "stdout",
     "output_type": "stream",
     "text": [
      "VR Band of Student_2\n",
      "[7.21, 2.52, 2.63, 2.06]\n"
     ]
    },
    {
     "data": {
      "image/png": "[encoded data removed]",
      "text/plain": [
       "<Figure size 432x288 with 1 Axes>"
      ]
     },
     "metadata": {},
     "output_type": "display_data"
    },
    {
     "name": "stdout",
     "output_type": "stream",
     "text": [
      "VR Band of Student_3\n",
      "[-0.52, 0.18, -0.39, -0.31]\n"
     ]
    },
    {
     "data": {
      "image/png": "[encoded data removed]",
      "text/plain": [
       "<Figure size 432x288 with 1 Axes>"
      ]
     },
     "metadata": {},
     "output_type": "display_data"
    }
   ],
   "source": [
    "para_grid_female = {\n",
    "    \"alpha\": [1],\n",
    "    \"max_depth\": [35],\n",
    "    \"min_samples_split\": [10],\n",
    "    \"min_samples_leaf\": [2]\n",
    "}\n",
    "\n",
    "print(\"\\n# female is target #\\n\")\n",
    "feda_model_LR, _, _, _ = pipeline_given_target('female', data_dict, para_grid_female, 'FEDA')\n",
    "\n",
    "## female is target\n",
    "\n",
    "coefs = feda_model_LR.coef_\n",
    "column_order = ['general', 'male', 'mixed', 'female']\n",
    "\n",
    "plot_coefficients_linear_regression(coefs, column_order)"
   ]
  },
  {
   "cell_type": "code",
   "execution_count": 65,
   "metadata": {},
   "outputs": [
    {
     "name": "stdout",
     "output_type": "stream",
     "text": [
      "\n",
      "# female is target #\n",
      "\n",
      "100\n",
      "first source domain:  male\n",
      "second source domain:  mixed\n",
      "# column names: #\n",
      "['Year', 'VR1 Band', 'Ethnic group of student_1', 'Ethnic group of student_2', 'Ethnic group of student_3', 'Ethnic group of student_4', 'Ethnic group of student_5', 'Ethnic group of student_6', 'Ethnic group of student_7', 'Ethnic group of student_8', 'Ethnic group of student_9', 'Ethnic group of student_10', 'Ethnic group of student_11', 'School denomination_1', 'School denomination_2', 'School denomination_3', 'VR Band of Student_1', 'VR Band of Student_2', 'VR Band of Student_3', 'male Year', 'male VR1 Band', 'male Ethnic group of student_1', 'male Ethnic group of student_2', 'male Ethnic group of student_3', 'male Ethnic group of student_4', 'male Ethnic group of student_5', 'male Ethnic group of student_6', 'male Ethnic group of student_7', 'male Ethnic group of student_8', 'male Ethnic group of student_9', 'male Ethnic group of student_10', 'male Ethnic group of student_11', 'male School denomination_1', 'male School denomination_2', 'male School denomination_3', 'male VR Band of Student_1', 'male VR Band of Student_2', 'male VR Band of Student_3', 'mixed Year', 'mixed VR1 Band', 'mixed Ethnic group of student_1', 'mixed Ethnic group of student_2', 'mixed Ethnic group of student_3', 'mixed Ethnic group of student_4', 'mixed Ethnic group of student_5', 'mixed Ethnic group of student_6', 'mixed Ethnic group of student_7', 'mixed Ethnic group of student_8', 'mixed Ethnic group of student_9', 'mixed Ethnic group of student_10', 'mixed Ethnic group of student_11', 'mixed School denomination_1', 'mixed School denomination_2', 'mixed School denomination_3', 'mixed VR Band of Student_1', 'mixed VR Band of Student_2', 'mixed VR Band of Student_3', 'female Year', 'female VR1 Band', 'female Ethnic group of student_1', 'female Ethnic group of student_2', 'female Ethnic group of student_3', 'female Ethnic group of student_4', 'female Ethnic group of student_5', 'female Ethnic group of student_6', 'female Ethnic group of student_7', 'female Ethnic group of student_8', 'female Ethnic group of student_9', 'female Ethnic group of student_10', 'female Ethnic group of student_11', 'female School denomination_1', 'female School denomination_2', 'female School denomination_3', 'female VR Band of Student_1', 'female VR Band of Student_2', 'female VR Band of Student_3']\n",
      "Linear Regression:\n",
      "best mse:  101.19653328882333\n",
      "best parameters:  {'alpha': 5} \n",
      "\n",
      "Decision Tree:\n",
      "best mse:  165.65044351172722\n",
      "best parameters:  {'max_depth': 35, 'min_samples_split': 10, 'min_samples_leaf': 2} \n",
      "\n",
      "Linear Regression: \n",
      "Mean squared error of the final model on test data: 123.62\n",
      "Decision Tree: \n",
      "Mean squared error of the final model on test data: 160.41\n",
      "column order:  ['general', 'male', 'mixed', 'female']\n",
      "Year\n",
      "[2.18, -0.98, -0.43, 2.86]\n"
     ]
    },
    {
     "data": {
      "image/png": "[encoded data removed]",
      "text/plain": [
       "<Figure size 432x288 with 1 Axes>"
      ]
     },
     "metadata": {},
     "output_type": "display_data"
    },
    {
     "name": "stdout",
     "output_type": "stream",
     "text": [
      "VR1 Band\n",
      "[5.47, 1.69, 1.78, 1.74]\n"
     ]
    },
    {
     "data": {
      "image/png": "[encoded data removed]",
      "text/plain": [
       "<Figure size 432x288 with 1 Axes>"
      ]
     },
     "metadata": {},
     "output_type": "display_data"
    },
    {
     "name": "stdout",
     "output_type": "stream",
     "text": [
      "Ethnic group of student_1\n",
      "[-2.8, -1.34, -0.65, -0.82]\n"
     ]
    },
    {
     "data": {
      "image/png": "[encoded data removed]",
      "text/plain": [
       "<Figure size 432x288 with 1 Axes>"
      ]
     },
     "metadata": {},
     "output_type": "display_data"
    },
    {
     "name": "stdout",
     "output_type": "stream",
     "text": [
      "Ethnic group of student_2\n",
      "[-1.01, -0.61, 1.04, -1.44]\n"
     ]
    },
    {
     "data": {
      "image/png": "[encoded data removed]",
      "text/plain": [
       "<Figure size 432x288 with 1 Axes>"
      ]
     },
     "metadata": {},
     "output_type": "display_data"
    },
    {
     "name": "stdout",
     "output_type": "stream",
     "text": [
      "Ethnic group of student_3\n",
      "[-0.94, -1.63, 0.93, -0.24]\n"
     ]
    },
    {
     "data": {
      "image/png": "[encoded data removed]",
      "text/plain": [
       "<Figure size 432x288 with 1 Axes>"
      ]
     },
     "metadata": {},
     "output_type": "display_data"
    },
    {
     "name": "stdout",
     "output_type": "stream",
     "text": [
      "Ethnic group of student_4\n",
      "[0.23, 1.83, -1.59, 0.0]\n"
     ]
    },
    {
     "data": {
      "image/png": "[encoded data removed]",
      "text/plain": [
       "<Figure size 432x288 with 1 Axes>"
      ]
     },
     "metadata": {},
     "output_type": "display_data"
    },
    {
     "name": "stdout",
     "output_type": "stream",
     "text": [
      "Ethnic group of student_5\n",
      "[-2.78, -2.7, -0.74, 0.66]\n"
     ]
    },
    {
     "data": {
      "image/png": "[encoded data removed]",
      "text/plain": [
       "<Figure size 432x288 with 1 Axes>"
      ]
     },
     "metadata": {},
     "output_type": "display_data"
    },
    {
     "name": "stdout",
     "output_type": "stream",
     "text": [
      "Ethnic group of student_6\n",
      "[0.08, 2.0, -1.92, 0.0]\n"
     ]
    },
    {
     "data": {
      "image/png": "[encoded data removed]",
      "text/plain": [
       "<Figure size 432x288 with 1 Axes>"
      ]
     },
     "metadata": {},
     "output_type": "display_data"
    },
    {
     "name": "stdout",
     "output_type": "stream",
     "text": [
      "Ethnic group of student_7\n",
      "[2.07, 0.84, 2.02, -0.78]\n"
     ]
    },
    {
     "data": {
      "image/png": "[encoded data removed]",
      "text/plain": [
       "<Figure size 432x288 with 1 Axes>"
      ]
     },
     "metadata": {},
     "output_type": "display_data"
    },
    {
     "name": "stdout",
     "output_type": "stream",
     "text": [
      "Ethnic group of student_8\n",
      "[2.58, 1.67, -0.17, 1.08]\n"
     ]
    },
    {
     "data": {
      "image/png": "[encoded data removed]",
      "text/plain": [
       "<Figure size 432x288 with 1 Axes>"
      ]
     },
     "metadata": {},
     "output_type": "display_data"
    },
    {
     "name": "stdout",
     "output_type": "stream",
     "text": [
      "Ethnic group of student_9\n",
      "[3.66, 2.36, 1.3, 0.0]\n"
     ]
    },
    {
     "data": {
      "image/png": "[encoded data removed]",
      "text/plain": [
       "<Figure size 432x288 with 1 Axes>"
      ]
     },
     "metadata": {},
     "output_type": "display_data"
    },
    {
     "name": "stdout",
     "output_type": "stream",
     "text": [
      "Ethnic group of student_10\n",
      "[-0.42, -1.21, -1.11, 1.9]\n"
     ]
    },
    {
     "data": {
      "image/png": "[encoded data removed]",
      "text/plain": [
       "<Figure size 432x288 with 1 Axes>"
      ]
     },
     "metadata": {},
     "output_type": "display_data"
    },
    {
     "name": "stdout",
     "output_type": "stream",
     "text": [
      "Ethnic group of student_11\n",
      "[-0.67, -0.7, 0.32, -0.29]\n"
     ]
    },
    {
     "data": {
      "image/png": "[encoded data removed]",
      "text/plain": [
       "<Figure size 432x288 with 1 Axes>"
      ]
     },
     "metadata": {},
     "output_type": "display_data"
    },
    {
     "name": "stdout",
     "output_type": "stream",
     "text": [
      "School denomination_1\n",
      "[-0.87, 0.48, -0.3, -1.06]\n"
     ]
    },
    {
     "data": {
      "image/png": "[encoded data removed]",
      "text/plain": [
       "<Figure size 432x288 with 1 Axes>"
      ]
     },
     "metadata": {},
     "output_type": "display_data"
    },
    {
     "name": "stdout",
     "output_type": "stream",
     "text": [
      "School denomination_2\n",
      "[0.63, 1.73, -1.51, 0.41]\n"
     ]
    },
    {
     "data": {
      "image/png": "[encoded data removed]",
      "text/plain": [
       "<Figure size 432x288 with 1 Axes>"
      ]
     },
     "metadata": {},
     "output_type": "display_data"
    },
    {
     "name": "stdout",
     "output_type": "stream",
     "text": [
      "School denomination_3\n",
      "[0.24, -1.72, 1.24, 0.72]\n"
     ]
    },
    {
     "data": {
      "image/png": "[encoded data removed]",
      "text/plain": [
       "<Figure size 432x288 with 1 Axes>"
      ]
     },
     "metadata": {},
     "output_type": "display_data"
    },
    {
     "name": "stdout",
     "output_type": "stream",
     "text": [
      "VR Band of Student_1\n",
      "[-6.54, -1.62, -2.22, -2.7]\n"
     ]
    },
    {
     "data": {
      "image/png": "[encoded data removed]",
      "text/plain": [
       "<Figure size 432x288 with 1 Axes>"
      ]
     },
     "metadata": {},
     "output_type": "display_data"
    },
    {
     "name": "stdout",
     "output_type": "stream",
     "text": [
      "VR Band of Student_2\n",
      "[7.1, 2.27, 2.37, 2.45]\n"
     ]
    },
    {
     "data": {
      "image/png": "[encoded data removed]",
      "text/plain": [
       "<Figure size 432x288 with 1 Axes>"
      ]
     },
     "metadata": {},
     "output_type": "display_data"
    },
    {
     "name": "stdout",
     "output_type": "stream",
     "text": [
      "VR Band of Student_3\n",
      "[-0.55, -0.15, -0.72, 0.32]\n"
     ]
    },
    {
     "data": {
      "image/png": "[encoded data removed]",
      "text/plain": [
       "<Figure size 432x288 with 1 Axes>"
      ]
     },
     "metadata": {},
     "output_type": "display_data"
    }
   ],
   "source": [
    "para_grid_female = {\n",
    "    \"alpha\": [5],\n",
    "    \"max_depth\": [35],\n",
    "    \"min_samples_split\": [10],\n",
    "    \"min_samples_leaf\": [2]\n",
    "}\n",
    "\n",
    "print(\"\\n# female is target #\\n\")\n",
    "feda_model_LR, _, _, _ = pipeline_given_target('female', data_dict, para_grid_female, 'FEDA')\n",
    "\n",
    "## female is target\n",
    "\n",
    "coefs = feda_model_LR.coef_\n",
    "column_order = ['general', 'male', 'mixed', 'female']\n",
    "\n",
    "plot_coefficients_linear_regression(coefs, column_order)"
   ]
  },
  {
   "cell_type": "code",
   "execution_count": 66,
   "metadata": {},
   "outputs": [
    {
     "name": "stdout",
     "output_type": "stream",
     "text": [
      "\n",
      "# female is target #\n",
      "\n",
      "100\n",
      "first source domain:  male\n",
      "second source domain:  mixed\n",
      "# column names: #\n",
      "['Year', 'VR1 Band', 'Ethnic group of student_1', 'Ethnic group of student_2', 'Ethnic group of student_3', 'Ethnic group of student_4', 'Ethnic group of student_5', 'Ethnic group of student_6', 'Ethnic group of student_7', 'Ethnic group of student_8', 'Ethnic group of student_9', 'Ethnic group of student_10', 'Ethnic group of student_11', 'School denomination_1', 'School denomination_2', 'School denomination_3', 'VR Band of Student_1', 'VR Band of Student_2', 'VR Band of Student_3', 'male Year', 'male VR1 Band', 'male Ethnic group of student_1', 'male Ethnic group of student_2', 'male Ethnic group of student_3', 'male Ethnic group of student_4', 'male Ethnic group of student_5', 'male Ethnic group of student_6', 'male Ethnic group of student_7', 'male Ethnic group of student_8', 'male Ethnic group of student_9', 'male Ethnic group of student_10', 'male Ethnic group of student_11', 'male School denomination_1', 'male School denomination_2', 'male School denomination_3', 'male VR Band of Student_1', 'male VR Band of Student_2', 'male VR Band of Student_3', 'mixed Year', 'mixed VR1 Band', 'mixed Ethnic group of student_1', 'mixed Ethnic group of student_2', 'mixed Ethnic group of student_3', 'mixed Ethnic group of student_4', 'mixed Ethnic group of student_5', 'mixed Ethnic group of student_6', 'mixed Ethnic group of student_7', 'mixed Ethnic group of student_8', 'mixed Ethnic group of student_9', 'mixed Ethnic group of student_10', 'mixed Ethnic group of student_11', 'mixed School denomination_1', 'mixed School denomination_2', 'mixed School denomination_3', 'mixed VR Band of Student_1', 'mixed VR Band of Student_2', 'mixed VR Band of Student_3', 'female Year', 'female VR1 Band', 'female Ethnic group of student_1', 'female Ethnic group of student_2', 'female Ethnic group of student_3', 'female Ethnic group of student_4', 'female Ethnic group of student_5', 'female Ethnic group of student_6', 'female Ethnic group of student_7', 'female Ethnic group of student_8', 'female Ethnic group of student_9', 'female Ethnic group of student_10', 'female Ethnic group of student_11', 'female School denomination_1', 'female School denomination_2', 'female School denomination_3', 'female VR Band of Student_1', 'female VR Band of Student_2', 'female VR Band of Student_3']\n",
      "Linear Regression:\n",
      "best mse:  100.90381965932158\n",
      "best parameters:  {'alpha': 10} \n",
      "\n",
      "Decision Tree:\n",
      "best mse:  168.0491733728383\n",
      "best parameters:  {'max_depth': 35, 'min_samples_split': 10, 'min_samples_leaf': 2} \n",
      "\n",
      "Linear Regression: \n",
      "Mean squared error of the final model on test data: 124.34\n",
      "Decision Tree: \n",
      "Mean squared error of the final model on test data: 163.95\n",
      "column order:  ['general', 'male', 'mixed', 'female']\n",
      "Year\n",
      "[2.03, -0.74, -0.21, 2.3]\n"
     ]
    },
    {
     "data": {
      "image/png": "[encoded data removed]",
      "text/plain": [
       "<Figure size 432x288 with 1 Axes>"
      ]
     },
     "metadata": {},
     "output_type": "display_data"
    },
    {
     "name": "stdout",
     "output_type": "stream",
     "text": [
      "VR1 Band\n",
      "[5.26, 1.76, 1.91, 1.35]\n"
     ]
    },
    {
     "data": {
      "image/png": "[encoded data removed]",
      "text/plain": [
       "<Figure size 432x288 with 1 Axes>"
      ]
     },
     "metadata": {},
     "output_type": "display_data"
    },
    {
     "name": "stdout",
     "output_type": "stream",
     "text": [
      "Ethnic group of student_1\n",
      "[-2.73, -1.39, -0.74, -0.6]\n"
     ]
    },
    {
     "data": {
      "image/png": "[encoded data removed]",
      "text/plain": [
       "<Figure size 432x288 with 1 Axes>"
      ]
     },
     "metadata": {},
     "output_type": "display_data"
    },
    {
     "name": "stdout",
     "output_type": "stream",
     "text": [
      "Ethnic group of student_2\n",
      "[-0.77, -0.78, 0.76, -0.75]\n"
     ]
    },
    {
     "data": {
      "image/png": "[encoded data removed]",
      "text/plain": [
       "<Figure size 432x288 with 1 Axes>"
      ]
     },
     "metadata": {},
     "output_type": "display_data"
    },
    {
     "name": "stdout",
     "output_type": "stream",
     "text": [
      "Ethnic group of student_3\n",
      "[-0.8, -1.35, 0.7, -0.15]\n"
     ]
    },
    {
     "data": {
      "image/png": "[encoded data removed]",
      "text/plain": [
       "<Figure size 432x288 with 1 Axes>"
      ]
     },
     "metadata": {},
     "output_type": "display_data"
    },
    {
     "name": "stdout",
     "output_type": "stream",
     "text": [
      "Ethnic group of student_4\n",
      "[0.21, 1.72, -1.51, 0.0]\n"
     ]
    },
    {
     "data": {
      "image/png": "[encoded data removed]",
      "text/plain": [
       "<Figure size 432x288 with 1 Axes>"
      ]
     },
     "metadata": {},
     "output_type": "display_data"
    },
    {
     "name": "stdout",
     "output_type": "stream",
     "text": [
      "Ethnic group of student_5\n",
      "[-2.78, -2.69, -0.76, 0.66]\n"
     ]
    },
    {
     "data": {
      "image/png": "[encoded data removed]",
      "text/plain": [
       "<Figure size 432x288 with 1 Axes>"
      ]
     },
     "metadata": {},
     "output_type": "display_data"
    },
    {
     "name": "stdout",
     "output_type": "stream",
     "text": [
      "Ethnic group of student_6\n",
      "[0.04, 1.83, -1.79, 0.0]\n"
     ]
    },
    {
     "data": {
      "image/png": "[encoded data removed]",
      "text/plain": [
       "<Figure size 432x288 with 1 Axes>"
      ]
     },
     "metadata": {},
     "output_type": "display_data"
    },
    {
     "name": "stdout",
     "output_type": "stream",
     "text": [
      "Ethnic group of student_7\n",
      "[2.14, 0.75, 1.85, -0.46]\n"
     ]
    },
    {
     "data": {
      "image/png": "[encoded data removed]",
      "text/plain": [
       "<Figure size 432x288 with 1 Axes>"
      ]
     },
     "metadata": {},
     "output_type": "display_data"
    },
    {
     "name": "stdout",
     "output_type": "stream",
     "text": [
      "Ethnic group of student_8\n",
      "[2.42, 1.7, -0.05, 0.77]\n"
     ]
    },
    {
     "data": {
      "image/png": "[encoded data removed]",
      "text/plain": [
       "<Figure size 432x288 with 1 Axes>"
      ]
     },
     "metadata": {},
     "output_type": "display_data"
    },
    {
     "name": "stdout",
     "output_type": "stream",
     "text": [
      "Ethnic group of student_9\n",
      "[3.51, 2.14, 1.37, 0.0]\n"
     ]
    },
    {
     "data": {
      "image/png": "[encoded data removed]",
      "text/plain": [
       "<Figure size 432x288 with 1 Axes>"
      ]
     },
     "metadata": {},
     "output_type": "display_data"
    },
    {
     "name": "stdout",
     "output_type": "stream",
     "text": [
      "Ethnic group of student_10\n",
      "[-0.62, -0.95, -0.9, 1.22]\n"
     ]
    },
    {
     "data": {
      "image/png": "[encoded data removed]",
      "text/plain": [
       "<Figure size 432x288 with 1 Axes>"
      ]
     },
     "metadata": {},
     "output_type": "display_data"
    },
    {
     "name": "stdout",
     "output_type": "stream",
     "text": [
      "Ethnic group of student_11\n",
      "[-0.61, -0.74, 0.24, -0.11]\n"
     ]
    },
    {
     "data": {
      "image/png": "[encoded data removed]",
      "text/plain": [
       "<Figure size 432x288 with 1 Axes>"
      ]
     },
     "metadata": {},
     "output_type": "display_data"
    },
    {
     "name": "stdout",
     "output_type": "stream",
     "text": [
      "School denomination_1\n",
      "[-0.83, 0.37, -0.42, -0.78]\n"
     ]
    },
    {
     "data": {
      "image/png": "[encoded data removed]",
      "text/plain": [
       "<Figure size 432x288 with 1 Axes>"
      ]
     },
     "metadata": {},
     "output_type": "display_data"
    },
    {
     "name": "stdout",
     "output_type": "stream",
     "text": [
      "School denomination_2\n",
      "[0.58, 1.65, -1.55, 0.49]\n"
     ]
    },
    {
     "data": {
      "image/png": "[encoded data removed]",
      "text/plain": [
       "<Figure size 432x288 with 1 Axes>"
      ]
     },
     "metadata": {},
     "output_type": "display_data"
    },
    {
     "name": "stdout",
     "output_type": "stream",
     "text": [
      "School denomination_3\n",
      "[0.25, -1.78, 1.15, 0.88]\n"
     ]
    },
    {
     "data": {
      "image/png": "[encoded data removed]",
      "text/plain": [
       "<Figure size 432x288 with 1 Axes>"
      ]
     },
     "metadata": {},
     "output_type": "display_data"
    },
    {
     "name": "stdout",
     "output_type": "stream",
     "text": [
      "VR Band of Student_1\n",
      "[-6.41, -1.82, -2.43, -2.15]\n"
     ]
    },
    {
     "data": {
      "image/png": "[encoded data removed]",
      "text/plain": [
       "<Figure size 432x288 with 1 Axes>"
      ]
     },
     "metadata": {},
     "output_type": "display_data"
    },
    {
     "name": "stdout",
     "output_type": "stream",
     "text": [
      "VR Band of Student_2\n",
      "[6.97, 2.29, 2.4, 2.29]\n"
     ]
    },
    {
     "data": {
      "image/png": "[encoded data removed]",
      "text/plain": [
       "<Figure size 432x288 with 1 Axes>"
      ]
     },
     "metadata": {},
     "output_type": "display_data"
    },
    {
     "name": "stdout",
     "output_type": "stream",
     "text": [
      "VR Band of Student_3\n",
      "[-0.57, -0.23, -0.8, 0.46]\n"
     ]
    },
    {
     "data": {
      "image/png": "[encoded data removed]",
      "text/plain": [
       "<Figure size 432x288 with 1 Axes>"
      ]
     },
     "metadata": {},
     "output_type": "display_data"
    }
   ],
   "source": [
    "para_grid_female = {\n",
    "    \"alpha\": [10],\n",
    "    \"max_depth\": [35],\n",
    "    \"min_samples_split\": [10],\n",
    "    \"min_samples_leaf\": [2]\n",
    "}\n",
    "\n",
    "print(\"\\n# female is target #\\n\")\n",
    "feda_model_LR, _, _, _ = pipeline_given_target('female', data_dict, para_grid_female, 'FEDA')\n",
    "\n",
    "## female is target\n",
    "\n",
    "coefs = feda_model_LR.coef_\n",
    "column_order = ['general', 'male', 'mixed', 'female']\n",
    "\n",
    "plot_coefficients_linear_regression(coefs, column_order)"
   ]
  },
  {
   "cell_type": "code",
   "execution_count": 67,
   "metadata": {},
   "outputs": [
    {
     "name": "stdout",
     "output_type": "stream",
     "text": [
      "\n",
      "# female is target #\n",
      "\n",
      "100\n",
      "first source domain:  male\n",
      "second source domain:  mixed\n",
      "# column names: #\n",
      "['Year', 'VR1 Band', 'Ethnic group of student_1', 'Ethnic group of student_2', 'Ethnic group of student_3', 'Ethnic group of student_4', 'Ethnic group of student_5', 'Ethnic group of student_6', 'Ethnic group of student_7', 'Ethnic group of student_8', 'Ethnic group of student_9', 'Ethnic group of student_10', 'Ethnic group of student_11', 'School denomination_1', 'School denomination_2', 'School denomination_3', 'VR Band of Student_1', 'VR Band of Student_2', 'VR Band of Student_3', 'male Year', 'male VR1 Band', 'male Ethnic group of student_1', 'male Ethnic group of student_2', 'male Ethnic group of student_3', 'male Ethnic group of student_4', 'male Ethnic group of student_5', 'male Ethnic group of student_6', 'male Ethnic group of student_7', 'male Ethnic group of student_8', 'male Ethnic group of student_9', 'male Ethnic group of student_10', 'male Ethnic group of student_11', 'male School denomination_1', 'male School denomination_2', 'male School denomination_3', 'male VR Band of Student_1', 'male VR Band of Student_2', 'male VR Band of Student_3', 'mixed Year', 'mixed VR1 Band', 'mixed Ethnic group of student_1', 'mixed Ethnic group of student_2', 'mixed Ethnic group of student_3', 'mixed Ethnic group of student_4', 'mixed Ethnic group of student_5', 'mixed Ethnic group of student_6', 'mixed Ethnic group of student_7', 'mixed Ethnic group of student_8', 'mixed Ethnic group of student_9', 'mixed Ethnic group of student_10', 'mixed Ethnic group of student_11', 'mixed School denomination_1', 'mixed School denomination_2', 'mixed School denomination_3', 'mixed VR Band of Student_1', 'mixed VR Band of Student_2', 'mixed VR Band of Student_3', 'female Year', 'female VR1 Band', 'female Ethnic group of student_1', 'female Ethnic group of student_2', 'female Ethnic group of student_3', 'female Ethnic group of student_4', 'female Ethnic group of student_5', 'female Ethnic group of student_6', 'female Ethnic group of student_7', 'female Ethnic group of student_8', 'female Ethnic group of student_9', 'female Ethnic group of student_10', 'female Ethnic group of student_11', 'female School denomination_1', 'female School denomination_2', 'female School denomination_3', 'female VR Band of Student_1', 'female VR Band of Student_2', 'female VR Band of Student_3']\n",
      "Linear Regression:\n",
      "best mse:  103.63822846956083\n",
      "best parameters:  {'alpha': 50} \n",
      "\n",
      "Decision Tree:\n",
      "best mse:  164.97164142839384\n",
      "best parameters:  {'max_depth': 35, 'min_samples_split': 10, 'min_samples_leaf': 2} \n",
      "\n",
      "Linear Regression: \n",
      "Mean squared error of the final model on test data: 130.36\n",
      "Decision Tree: \n",
      "Mean squared error of the final model on test data: 157.54\n",
      "column order:  ['general', 'male', 'mixed', 'female']\n",
      "Year\n",
      "[1.67, -0.25, 0.2, 1.16]\n"
     ]
    },
    {
     "data": {
      "image/png": "[encoded data removed]",
      "text/plain": [
       "<Figure size 432x288 with 1 Axes>"
      ]
     },
     "metadata": {},
     "output_type": "display_data"
    },
    {
     "name": "stdout",
     "output_type": "stream",
     "text": [
      "VR1 Band\n",
      "[4.56, 1.48, 2.04, 0.84]\n"
     ]
    },
    {
     "data": {
      "image/png": "[encoded data removed]",
      "text/plain": [
       "<Figure size 432x288 with 1 Axes>"
      ]
     },
     "metadata": {},
     "output_type": "display_data"
    },
    {
     "name": "stdout",
     "output_type": "stream",
     "text": [
      "Ethnic group of student_1\n",
      "[-2.4, -1.4, -1.03, 0.03]\n"
     ]
    },
    {
     "data": {
      "image/png": "[encoded data removed]",
      "text/plain": [
       "<Figure size 432x288 with 1 Axes>"
      ]
     },
     "metadata": {},
     "output_type": "display_data"
    },
    {
     "name": "stdout",
     "output_type": "stream",
     "text": [
      "Ethnic group of student_2\n",
      "[-0.4, -0.58, 0.3, -0.13]\n"
     ]
    },
    {
     "data": {
      "image/png": "[encoded data removed]",
      "text/plain": [
       "<Figure size 432x288 with 1 Axes>"
      ]
     },
     "metadata": {},
     "output_type": "display_data"
    },
    {
     "name": "stdout",
     "output_type": "stream",
     "text": [
      "Ethnic group of student_3\n",
      "[-0.37, -0.54, 0.2, -0.03]\n"
     ]
    },
    {
     "data": {
      "image/png": "[encoded data removed]",
      "text/plain": [
       "<Figure size 432x288 with 1 Axes>"
      ]
     },
     "metadata": {},
     "output_type": "display_data"
    },
    {
     "name": "stdout",
     "output_type": "stream",
     "text": [
      "Ethnic group of student_4\n",
      "[0.16, 1.22, -1.06, 0.0]\n"
     ]
    },
    {
     "data": {
      "image/png": "[encoded data removed]",
      "text/plain": [
       "<Figure size 432x288 with 1 Axes>"
      ]
     },
     "metadata": {},
     "output_type": "display_data"
    },
    {
     "name": "stdout",
     "output_type": "stream",
     "text": [
      "Ethnic group of student_5\n",
      "[-2.73, -2.4, -0.8, 0.47]\n"
     ]
    },
    {
     "data": {
      "image/png": "[encoded data removed]",
      "text/plain": [
       "<Figure size 432x288 with 1 Axes>"
      ]
     },
     "metadata": {},
     "output_type": "display_data"
    },
    {
     "name": "stdout",
     "output_type": "stream",
     "text": [
      "Ethnic group of student_6\n",
      "[-0.01, 1.13, -1.14, 0.0]\n"
     ]
    },
    {
     "data": {
      "image/png": "[encoded data removed]",
      "text/plain": [
       "<Figure size 432x288 with 1 Axes>"
      ]
     },
     "metadata": {},
     "output_type": "display_data"
    },
    {
     "name": "stdout",
     "output_type": "stream",
     "text": [
      "Ethnic group of student_7\n",
      "[2.1, 0.74, 1.43, -0.07]\n"
     ]
    },
    {
     "data": {
      "image/png": "[encoded data removed]",
      "text/plain": [
       "<Figure size 432x288 with 1 Axes>"
      ]
     },
     "metadata": {},
     "output_type": "display_data"
    },
    {
     "name": "stdout",
     "output_type": "stream",
     "text": [
      "Ethnic group of student_8\n",
      "[1.99, 1.51, 0.2, 0.28]\n"
     ]
    },
    {
     "data": {
      "image/png": "[encoded data removed]",
      "text/plain": [
       "<Figure size 432x288 with 1 Axes>"
      ]
     },
     "metadata": {},
     "output_type": "display_data"
    },
    {
     "name": "stdout",
     "output_type": "stream",
     "text": [
      "Ethnic group of student_9\n",
      "[2.85, 1.33, 1.51, 0.0]\n"
     ]
    },
    {
     "data": {
      "image/png": "[encoded data removed]",
      "text/plain": [
       "<Figure size 432x288 with 1 Axes>"
      ]
     },
     "metadata": {},
     "output_type": "display_data"
    },
    {
     "name": "stdout",
     "output_type": "stream",
     "text": [
      "Ethnic group of student_10\n",
      "[-0.73, -0.43, -0.6, 0.29]\n"
     ]
    },
    {
     "data": {
      "image/png": "[encoded data removed]",
      "text/plain": [
       "<Figure size 432x288 with 1 Axes>"
      ]
     },
     "metadata": {},
     "output_type": "display_data"
    },
    {
     "name": "stdout",
     "output_type": "stream",
     "text": [
      "Ethnic group of student_11\n",
      "[-0.45, -0.58, 0.1, 0.03]\n"
     ]
    },
    {
     "data": {
      "image/png": "[encoded data removed]",
      "text/plain": [
       "<Figure size 432x288 with 1 Axes>"
      ]
     },
     "metadata": {},
     "output_type": "display_data"
    },
    {
     "name": "stdout",
     "output_type": "stream",
     "text": [
      "School denomination_1\n",
      "[-0.68, 0.17, -0.62, -0.23]\n"
     ]
    },
    {
     "data": {
      "image/png": "[encoded data removed]",
      "text/plain": [
       "<Figure size 432x288 with 1 Axes>"
      ]
     },
     "metadata": {},
     "output_type": "display_data"
    },
    {
     "name": "stdout",
     "output_type": "stream",
     "text": [
      "School denomination_2\n",
      "[0.42, 1.47, -1.37, 0.32]\n"
     ]
    },
    {
     "data": {
      "image/png": "[encoded data removed]",
      "text/plain": [
       "<Figure size 432x288 with 1 Axes>"
      ]
     },
     "metadata": {},
     "output_type": "display_data"
    },
    {
     "name": "stdout",
     "output_type": "stream",
     "text": [
      "School denomination_3\n",
      "[0.26, -1.62, 1.1, 0.78]\n"
     ]
    },
    {
     "data": {
      "image/png": "[encoded data removed]",
      "text/plain": [
       "<Figure size 432x288 with 1 Axes>"
      ]
     },
     "metadata": {},
     "output_type": "display_data"
    },
    {
     "name": "stdout",
     "output_type": "stream",
     "text": [
      "VR Band of Student_1\n",
      "[-5.95, -2.19, -2.85, -0.91]\n"
     ]
    },
    {
     "data": {
      "image/png": "[encoded data removed]",
      "text/plain": [
       "<Figure size 432x288 with 1 Axes>"
      ]
     },
     "metadata": {},
     "output_type": "display_data"
    },
    {
     "name": "stdout",
     "output_type": "stream",
     "text": [
      "VR Band of Student_2\n",
      "[6.54, 2.51, 2.75, 1.28]\n"
     ]
    },
    {
     "data": {
      "image/png": "[encoded data removed]",
      "text/plain": [
       "<Figure size 432x288 with 1 Axes>"
      ]
     },
     "metadata": {},
     "output_type": "display_data"
    },
    {
     "name": "stdout",
     "output_type": "stream",
     "text": [
      "VR Band of Student_3\n",
      "[-0.59, -0.3, -0.79, 0.5]\n"
     ]
    },
    {
     "data": {
      "image/png": "[encoded data removed]",
      "text/plain": [
       "<Figure size 432x288 with 1 Axes>"
      ]
     },
     "metadata": {},
     "output_type": "display_data"
    }
   ],
   "source": [
    "para_grid_female = {\n",
    "    \"alpha\": [50],\n",
    "    \"max_depth\": [35],\n",
    "    \"min_samples_split\": [10],\n",
    "    \"min_samples_leaf\": [2]\n",
    "}\n",
    "\n",
    "print(\"\\n# female is target #\\n\")\n",
    "feda_model_LR, _, _, _ = pipeline_given_target('female', data_dict, para_grid_female, 'FEDA')\n",
    "\n",
    "## female is target\n",
    "\n",
    "coefs = feda_model_LR.coef_\n",
    "column_order = ['general', 'male', 'mixed', 'female']\n",
    "\n",
    "plot_coefficients_linear_regression(coefs, column_order)"
   ]
  },
  {
   "cell_type": "code",
   "execution_count": 68,
   "metadata": {},
   "outputs": [
    {
     "name": "stdout",
     "output_type": "stream",
     "text": [
      "\n",
      "# female is target #\n",
      "\n",
      "100\n",
      "first source domain:  male\n",
      "second source domain:  mixed\n",
      "# column names: #\n",
      "['Year', 'VR1 Band', 'Ethnic group of student_1', 'Ethnic group of student_2', 'Ethnic group of student_3', 'Ethnic group of student_4', 'Ethnic group of student_5', 'Ethnic group of student_6', 'Ethnic group of student_7', 'Ethnic group of student_8', 'Ethnic group of student_9', 'Ethnic group of student_10', 'Ethnic group of student_11', 'School denomination_1', 'School denomination_2', 'School denomination_3', 'VR Band of Student_1', 'VR Band of Student_2', 'VR Band of Student_3', 'male Year', 'male VR1 Band', 'male Ethnic group of student_1', 'male Ethnic group of student_2', 'male Ethnic group of student_3', 'male Ethnic group of student_4', 'male Ethnic group of student_5', 'male Ethnic group of student_6', 'male Ethnic group of student_7', 'male Ethnic group of student_8', 'male Ethnic group of student_9', 'male Ethnic group of student_10', 'male Ethnic group of student_11', 'male School denomination_1', 'male School denomination_2', 'male School denomination_3', 'male VR Band of Student_1', 'male VR Band of Student_2', 'male VR Band of Student_3', 'mixed Year', 'mixed VR1 Band', 'mixed Ethnic group of student_1', 'mixed Ethnic group of student_2', 'mixed Ethnic group of student_3', 'mixed Ethnic group of student_4', 'mixed Ethnic group of student_5', 'mixed Ethnic group of student_6', 'mixed Ethnic group of student_7', 'mixed Ethnic group of student_8', 'mixed Ethnic group of student_9', 'mixed Ethnic group of student_10', 'mixed Ethnic group of student_11', 'mixed School denomination_1', 'mixed School denomination_2', 'mixed School denomination_3', 'mixed VR Band of Student_1', 'mixed VR Band of Student_2', 'mixed VR Band of Student_3', 'female Year', 'female VR1 Band', 'female Ethnic group of student_1', 'female Ethnic group of student_2', 'female Ethnic group of student_3', 'female Ethnic group of student_4', 'female Ethnic group of student_5', 'female Ethnic group of student_6', 'female Ethnic group of student_7', 'female Ethnic group of student_8', 'female Ethnic group of student_9', 'female Ethnic group of student_10', 'female Ethnic group of student_11', 'female School denomination_1', 'female School denomination_2', 'female School denomination_3', 'female VR Band of Student_1', 'female VR Band of Student_2', 'female VR Band of Student_3']\n",
      "Linear Regression:\n",
      "best mse:  110.90404417678765\n",
      "best parameters:  {'alpha': 200} \n",
      "\n",
      "Decision Tree:\n",
      "best mse:  169.0883524828156\n",
      "best parameters:  {'max_depth': 35, 'min_samples_split': 10, 'min_samples_leaf': 2} \n",
      "\n",
      "Linear Regression: \n",
      "Mean squared error of the final model on test data: 140.20\n",
      "Decision Tree: \n",
      "Mean squared error of the final model on test data: 155.85\n",
      "column order:  ['general', 'male', 'mixed', 'female']\n",
      "Year\n",
      "[1.36, -0.01, 0.34, 0.56]\n"
     ]
    },
    {
     "data": {
      "image/png": "[encoded data removed]",
      "text/plain": [
       "<Figure size 432x288 with 1 Axes>"
      ]
     },
     "metadata": {},
     "output_type": "display_data"
    },
    {
     "name": "stdout",
     "output_type": "stream",
     "text": [
      "VR1 Band\n",
      "[3.26, 0.9, 1.77, 0.47]\n"
     ]
    },
    {
     "data": {
      "image/png": "[encoded data removed]",
      "text/plain": [
       "<Figure size 432x288 with 1 Axes>"
      ]
     },
     "metadata": {},
     "output_type": "display_data"
    },
    {
     "name": "stdout",
     "output_type": "stream",
     "text": [
      "Ethnic group of student_1\n",
      "[-1.93, -1.02, -1.12, 0.21]\n"
     ]
    },
    {
     "data": {
      "image/png": "[encoded data removed]",
      "text/plain": [
       "<Figure size 432x288 with 1 Axes>"
      ]
     },
     "metadata": {},
     "output_type": "display_data"
    },
    {
     "name": "stdout",
     "output_type": "stream",
     "text": [
      "Ethnic group of student_2\n",
      "[-0.07, -0.15, 0.1, -0.02]\n"
     ]
    },
    {
     "data": {
      "image/png": "[encoded data removed]",
      "text/plain": [
       "<Figure size 432x288 with 1 Axes>"
      ]
     },
     "metadata": {},
     "output_type": "display_data"
    },
    {
     "name": "stdout",
     "output_type": "stream",
     "text": [
      "Ethnic group of student_3\n",
      "[-0.1, -0.15, 0.06, -0.0]\n"
     ]
    },
    {
     "data": {
      "image/png": "[encoded data removed]",
      "text/plain": [
       "<Figure size 432x288 with 1 Axes>"
      ]
     },
     "metadata": {},
     "output_type": "display_data"
    },
    {
     "name": "stdout",
     "output_type": "stream",
     "text": [
      "Ethnic group of student_4\n",
      "[0.11, 0.59, -0.48, 0.0]\n"
     ]
    },
    {
     "data": {
      "image/png": "[encoded data removed]",
      "text/plain": [
       "<Figure size 432x288 with 1 Axes>"
      ]
     },
     "metadata": {},
     "output_type": "display_data"
    },
    {
     "name": "stdout",
     "output_type": "stream",
     "text": [
      "Ethnic group of student_5\n",
      "[-2.43, -1.81, -0.83, 0.21]\n"
     ]
    },
    {
     "data": {
      "image/png": "[encoded data removed]",
      "text/plain": [
       "<Figure size 432x288 with 1 Axes>"
      ]
     },
     "metadata": {},
     "output_type": "display_data"
    },
    {
     "name": "stdout",
     "output_type": "stream",
     "text": [
      "Ethnic group of student_6\n",
      "[0.04, 0.51, -0.47, 0.0]\n"
     ]
    },
    {
     "data": {
      "image/png": "[encoded data removed]",
      "text/plain": [
       "<Figure size 432x288 with 1 Axes>"
      ]
     },
     "metadata": {},
     "output_type": "display_data"
    },
    {
     "name": "stdout",
     "output_type": "stream",
     "text": [
      "Ethnic group of student_7\n",
      "[1.7, 0.72, 0.98, 0.01]\n"
     ]
    },
    {
     "data": {
      "image/png": "[encoded data removed]",
      "text/plain": [
       "<Figure size 432x288 with 1 Axes>"
      ]
     },
     "metadata": {},
     "output_type": "display_data"
    },
    {
     "name": "stdout",
     "output_type": "stream",
     "text": [
      "Ethnic group of student_8\n",
      "[1.36, 0.99, 0.27, 0.1]\n"
     ]
    },
    {
     "data": {
      "image/png": "[encoded data removed]",
      "text/plain": [
       "<Figure size 432x288 with 1 Axes>"
      ]
     },
     "metadata": {},
     "output_type": "display_data"
    },
    {
     "name": "stdout",
     "output_type": "stream",
     "text": [
      "Ethnic group of student_9\n",
      "[1.88, 0.63, 1.25, 0.0]\n"
     ]
    },
    {
     "data": {
      "image/png": "[encoded data removed]",
      "text/plain": [
       "<Figure size 432x288 with 1 Axes>"
      ]
     },
     "metadata": {},
     "output_type": "display_data"
    },
    {
     "name": "stdout",
     "output_type": "stream",
     "text": [
      "Ethnic group of student_10\n",
      "[-0.43, -0.14, -0.36, 0.07]\n"
     ]
    },
    {
     "data": {
      "image/png": "[encoded data removed]",
      "text/plain": [
       "<Figure size 432x288 with 1 Axes>"
      ]
     },
     "metadata": {},
     "output_type": "display_data"
    },
    {
     "name": "stdout",
     "output_type": "stream",
     "text": [
      "Ethnic group of student_11\n",
      "[-0.14, -0.25, 0.08, 0.02]\n"
     ]
    },
    {
     "data": {
      "image/png": "[encoded data removed]",
      "text/plain": [
       "<Figure size 432x288 with 1 Axes>"
      ]
     },
     "metadata": {},
     "output_type": "display_data"
    },
    {
     "name": "stdout",
     "output_type": "stream",
     "text": [
      "School denomination_1\n",
      "[-0.55, 0.05, -0.66, 0.06]\n"
     ]
    },
    {
     "data": {
      "image/png": "[encoded data removed]",
      "text/plain": [
       "<Figure size 432x288 with 1 Axes>"
      ]
     },
     "metadata": {},
     "output_type": "display_data"
    },
    {
     "name": "stdout",
     "output_type": "stream",
     "text": [
      "School denomination_2\n",
      "[0.23, 1.01, -0.92, 0.14]\n"
     ]
    },
    {
     "data": {
      "image/png": "[encoded data removed]",
      "text/plain": [
       "<Figure size 432x288 with 1 Axes>"
      ]
     },
     "metadata": {},
     "output_type": "display_data"
    },
    {
     "name": "stdout",
     "output_type": "stream",
     "text": [
      "School denomination_3\n",
      "[0.33, -1.16, 1.08, 0.4]\n"
     ]
    },
    {
     "data": {
      "image/png": "[encoded data removed]",
      "text/plain": [
       "<Figure size 432x288 with 1 Axes>"
      ]
     },
     "metadata": {},
     "output_type": "display_data"
    },
    {
     "name": "stdout",
     "output_type": "stream",
     "text": [
      "VR Band of Student_1\n",
      "[-5.43, -2.2, -2.94, -0.28]\n"
     ]
    },
    {
     "data": {
      "image/png": "[encoded data removed]",
      "text/plain": [
       "<Figure size 432x288 with 1 Axes>"
      ]
     },
     "metadata": {},
     "output_type": "display_data"
    },
    {
     "name": "stdout",
     "output_type": "stream",
     "text": [
      "VR Band of Student_2\n",
      "[6.06, 2.46, 3.06, 0.54]\n"
     ]
    },
    {
     "data": {
      "image/png": "[encoded data removed]",
      "text/plain": [
       "<Figure size 432x288 with 1 Axes>"
      ]
     },
     "metadata": {},
     "output_type": "display_data"
    },
    {
     "name": "stdout",
     "output_type": "stream",
     "text": [
      "VR Band of Student_3\n",
      "[-0.64, -0.35, -0.63, 0.34]\n"
     ]
    },
    {
     "data": {
      "image/png": "[encoded data removed]",
      "text/plain": [
       "<Figure size 432x288 with 1 Axes>"
      ]
     },
     "metadata": {},
     "output_type": "display_data"
    }
   ],
   "source": [
    "para_grid_female = {\n",
    "    \"alpha\": [200],\n",
    "    \"max_depth\": [35],\n",
    "    \"min_samples_split\": [10],\n",
    "    \"min_samples_leaf\": [2]\n",
    "}\n",
    "\n",
    "print(\"\\n# female is target #\\n\")\n",
    "feda_model_LR, _, _, _ = pipeline_given_target('female', data_dict, para_grid_female, 'FEDA')\n",
    "\n",
    "## female is target\n",
    "\n",
    "coefs = feda_model_LR.coef_\n",
    "column_order = ['general', 'male', 'mixed', 'female']\n",
    "\n",
    "plot_coefficients_linear_regression(coefs, column_order)"
   ]
  },
  {
   "cell_type": "code",
   "execution_count": 69,
   "metadata": {},
   "outputs": [
    {
     "name": "stdout",
     "output_type": "stream",
     "text": [
      "\n",
      "# female is target #\n",
      "\n",
      "100\n",
      "first source domain:  male\n",
      "second source domain:  mixed\n",
      "# column names: #\n",
      "['Year', 'VR1 Band', 'Ethnic group of student_1', 'Ethnic group of student_2', 'Ethnic group of student_3', 'Ethnic group of student_4', 'Ethnic group of student_5', 'Ethnic group of student_6', 'Ethnic group of student_7', 'Ethnic group of student_8', 'Ethnic group of student_9', 'Ethnic group of student_10', 'Ethnic group of student_11', 'School denomination_1', 'School denomination_2', 'School denomination_3', 'VR Band of Student_1', 'VR Band of Student_2', 'VR Band of Student_3', 'male Year', 'male VR1 Band', 'male Ethnic group of student_1', 'male Ethnic group of student_2', 'male Ethnic group of student_3', 'male Ethnic group of student_4', 'male Ethnic group of student_5', 'male Ethnic group of student_6', 'male Ethnic group of student_7', 'male Ethnic group of student_8', 'male Ethnic group of student_9', 'male Ethnic group of student_10', 'male Ethnic group of student_11', 'male School denomination_1', 'male School denomination_2', 'male School denomination_3', 'male VR Band of Student_1', 'male VR Band of Student_2', 'male VR Band of Student_3', 'mixed Year', 'mixed VR1 Band', 'mixed Ethnic group of student_1', 'mixed Ethnic group of student_2', 'mixed Ethnic group of student_3', 'mixed Ethnic group of student_4', 'mixed Ethnic group of student_5', 'mixed Ethnic group of student_6', 'mixed Ethnic group of student_7', 'mixed Ethnic group of student_8', 'mixed Ethnic group of student_9', 'mixed Ethnic group of student_10', 'mixed Ethnic group of student_11', 'mixed School denomination_1', 'mixed School denomination_2', 'mixed School denomination_3', 'mixed VR Band of Student_1', 'mixed VR Band of Student_2', 'mixed VR Band of Student_3', 'female Year', 'female VR1 Band', 'female Ethnic group of student_1', 'female Ethnic group of student_2', 'female Ethnic group of student_3', 'female Ethnic group of student_4', 'female Ethnic group of student_5', 'female Ethnic group of student_6', 'female Ethnic group of student_7', 'female Ethnic group of student_8', 'female Ethnic group of student_9', 'female Ethnic group of student_10', 'female Ethnic group of student_11', 'female School denomination_1', 'female School denomination_2', 'female School denomination_3', 'female VR Band of Student_1', 'female VR Band of Student_2', 'female VR Band of Student_3']\n",
      "Linear Regression:\n",
      "best mse:  101.06980420663936\n",
      "best parameters:  {'alpha': 15} \n",
      "\n",
      "Decision Tree:\n",
      "best mse:  166.96774105410913\n",
      "best parameters:  {'max_depth': 35, 'min_samples_split': 10, 'min_samples_leaf': 2} \n",
      "\n",
      "Linear Regression: \n",
      "Mean squared error of the final model on test data: 125.24\n",
      "Decision Tree: \n",
      "Mean squared error of the final model on test data: 157.98\n"
     ]
    }
   ],
   "source": [
    "### \n",
    "# test on different sizes of target domain training set\n",
    "###\n",
    "\n",
    "## n = 300\n",
    "para_grid_female = {\n",
    "    \"alpha\": [15, 20, 25, 26, 27, 28, 29, 30, 31, 32, 33, 34, 35, 36, 37, 38, 39, 40, 50, 60],\n",
    "    \"max_depth\": [35],\n",
    "    \"min_samples_split\": [10],\n",
    "    \"min_samples_leaf\": [2]\n",
    "}\n",
    "\n",
    "print(\"\\n# female is target #\\n\")\n",
    "feda_model_LR, _, _, _ = pipeline_given_target('female', data_dict, para_grid_female, 'FEDA')"
   ]
  },
  {
   "cell_type": "code",
   "execution_count": 70,
   "metadata": {},
   "outputs": [
    {
     "name": "stdout",
     "output_type": "stream",
     "text": [
      "\n",
      "# female is target #\n",
      "\n",
      "100\n",
      "first source domain:  male\n",
      "second source domain:  mixed\n",
      "# column names: #\n",
      "['Year', 'VR1 Band', 'Ethnic group of student_1', 'Ethnic group of student_2', 'Ethnic group of student_3', 'Ethnic group of student_4', 'Ethnic group of student_5', 'Ethnic group of student_6', 'Ethnic group of student_7', 'Ethnic group of student_8', 'Ethnic group of student_9', 'Ethnic group of student_10', 'Ethnic group of student_11', 'School denomination_1', 'School denomination_2', 'School denomination_3', 'VR Band of Student_1', 'VR Band of Student_2', 'VR Band of Student_3', 'male Year', 'male VR1 Band', 'male Ethnic group of student_1', 'male Ethnic group of student_2', 'male Ethnic group of student_3', 'male Ethnic group of student_4', 'male Ethnic group of student_5', 'male Ethnic group of student_6', 'male Ethnic group of student_7', 'male Ethnic group of student_8', 'male Ethnic group of student_9', 'male Ethnic group of student_10', 'male Ethnic group of student_11', 'male School denomination_1', 'male School denomination_2', 'male School denomination_3', 'male VR Band of Student_1', 'male VR Band of Student_2', 'male VR Band of Student_3', 'mixed Year', 'mixed VR1 Band', 'mixed Ethnic group of student_1', 'mixed Ethnic group of student_2', 'mixed Ethnic group of student_3', 'mixed Ethnic group of student_4', 'mixed Ethnic group of student_5', 'mixed Ethnic group of student_6', 'mixed Ethnic group of student_7', 'mixed Ethnic group of student_8', 'mixed Ethnic group of student_9', 'mixed Ethnic group of student_10', 'mixed Ethnic group of student_11', 'mixed School denomination_1', 'mixed School denomination_2', 'mixed School denomination_3', 'mixed VR Band of Student_1', 'mixed VR Band of Student_2', 'mixed VR Band of Student_3', 'female Year', 'female VR1 Band', 'female Ethnic group of student_1', 'female Ethnic group of student_2', 'female Ethnic group of student_3', 'female Ethnic group of student_4', 'female Ethnic group of student_5', 'female Ethnic group of student_6', 'female Ethnic group of student_7', 'female Ethnic group of student_8', 'female Ethnic group of student_9', 'female Ethnic group of student_10', 'female Ethnic group of student_11', 'female School denomination_1', 'female School denomination_2', 'female School denomination_3', 'female VR Band of Student_1', 'female VR Band of Student_2', 'female VR Band of Student_3']\n",
      "Linear Regression:\n",
      "best mse:  100.90381965932158\n",
      "best parameters:  {'alpha': 10} \n",
      "\n",
      "Decision Tree:\n",
      "best mse:  166.55474809926687\n",
      "best parameters:  {'max_depth': 35, 'min_samples_split': 10, 'min_samples_leaf': 2} \n",
      "\n",
      "Linear Regression: \n",
      "Mean squared error of the final model on test data: 124.34\n",
      "Decision Tree: \n",
      "Mean squared error of the final model on test data: 160.90\n"
     ]
    }
   ],
   "source": [
    "## n = 500\n",
    "para_grid_female = {\n",
    "    \"alpha\": [0.1, 0.2, 0.5, 0.8, 1, 2, 3, 4, 5, 6, 7, 8, 9, 10, 11, 12, 13, 14, 15, 20],\n",
    "    \"max_depth\": [35],\n",
    "    \"min_samples_split\": [10],\n",
    "    \"min_samples_leaf\": [2]\n",
    "}\n",
    "\n",
    "print(\"\\n# female is target #\\n\")\n",
    "feda_model_LR, _, _, _ = pipeline_given_target('female', data_dict, para_grid_female, 'FEDA')"
   ]
  },
  {
   "cell_type": "code",
   "execution_count": 71,
   "metadata": {},
   "outputs": [
    {
     "name": "stdout",
     "output_type": "stream",
     "text": [
      "\n",
      "# female is target #\n",
      "\n",
      "100\n",
      "first source domain:  male\n",
      "second source domain:  mixed\n",
      "# column names: #\n",
      "['Year', 'VR1 Band', 'Ethnic group of student_1', 'Ethnic group of student_2', 'Ethnic group of student_3', 'Ethnic group of student_4', 'Ethnic group of student_5', 'Ethnic group of student_6', 'Ethnic group of student_7', 'Ethnic group of student_8', 'Ethnic group of student_9', 'Ethnic group of student_10', 'Ethnic group of student_11', 'School denomination_1', 'School denomination_2', 'School denomination_3', 'VR Band of Student_1', 'VR Band of Student_2', 'VR Band of Student_3', 'male Year', 'male VR1 Band', 'male Ethnic group of student_1', 'male Ethnic group of student_2', 'male Ethnic group of student_3', 'male Ethnic group of student_4', 'male Ethnic group of student_5', 'male Ethnic group of student_6', 'male Ethnic group of student_7', 'male Ethnic group of student_8', 'male Ethnic group of student_9', 'male Ethnic group of student_10', 'male Ethnic group of student_11', 'male School denomination_1', 'male School denomination_2', 'male School denomination_3', 'male VR Band of Student_1', 'male VR Band of Student_2', 'male VR Band of Student_3', 'mixed Year', 'mixed VR1 Band', 'mixed Ethnic group of student_1', 'mixed Ethnic group of student_2', 'mixed Ethnic group of student_3', 'mixed Ethnic group of student_4', 'mixed Ethnic group of student_5', 'mixed Ethnic group of student_6', 'mixed Ethnic group of student_7', 'mixed Ethnic group of student_8', 'mixed Ethnic group of student_9', 'mixed Ethnic group of student_10', 'mixed Ethnic group of student_11', 'mixed School denomination_1', 'mixed School denomination_2', 'mixed School denomination_3', 'mixed VR Band of Student_1', 'mixed VR Band of Student_2', 'mixed VR Band of Student_3', 'female Year', 'female VR1 Band', 'female Ethnic group of student_1', 'female Ethnic group of student_2', 'female Ethnic group of student_3', 'female Ethnic group of student_4', 'female Ethnic group of student_5', 'female Ethnic group of student_6', 'female Ethnic group of student_7', 'female Ethnic group of student_8', 'female Ethnic group of student_9', 'female Ethnic group of student_10', 'female Ethnic group of student_11', 'female School denomination_1', 'female School denomination_2', 'female School denomination_3', 'female VR Band of Student_1', 'female VR Band of Student_2', 'female VR Band of Student_3']\n",
      "Linear Regression:\n",
      "best mse:  101.12493595665781\n",
      "best parameters:  {'alpha': 16} \n",
      "\n",
      "Decision Tree:\n",
      "best mse:  164.5373054033709\n",
      "best parameters:  {'max_depth': 35, 'min_samples_split': 10, 'min_samples_leaf': 2} \n",
      "\n",
      "Linear Regression: \n",
      "Mean squared error of the final model on test data: 125.42\n",
      "Decision Tree: \n",
      "Mean squared error of the final model on test data: 161.99\n"
     ]
    }
   ],
   "source": [
    "## n = 800\n",
    "para_grid_female = {\n",
    "    \"alpha\": [16, 18, 20, 21, 22, 23, 24, 25, 26, 27, 28, 29],\n",
    "    \"max_depth\": [35],\n",
    "    \"min_samples_split\": [10],\n",
    "    \"min_samples_leaf\": [2]\n",
    "}\n",
    "\n",
    "print(\"\\n# female is target #\\n\")\n",
    "feda_model_LR, _, _, _ = pipeline_given_target('female', data_dict, para_grid_female, 'FEDA')"
   ]
  },
  {
   "cell_type": "code",
   "execution_count": 72,
   "metadata": {},
   "outputs": [
    {
     "name": "stdout",
     "output_type": "stream",
     "text": [
      "\n",
      "# female is target #\n",
      "\n",
      "100\n",
      "first source domain:  male\n",
      "second source domain:  mixed\n",
      "# column names: #\n",
      "['Year', 'VR1 Band', 'Ethnic group of student_1', 'Ethnic group of student_2', 'Ethnic group of student_3', 'Ethnic group of student_4', 'Ethnic group of student_5', 'Ethnic group of student_6', 'Ethnic group of student_7', 'Ethnic group of student_8', 'Ethnic group of student_9', 'Ethnic group of student_10', 'Ethnic group of student_11', 'School denomination_1', 'School denomination_2', 'School denomination_3', 'VR Band of Student_1', 'VR Band of Student_2', 'VR Band of Student_3', 'male Year', 'male VR1 Band', 'male Ethnic group of student_1', 'male Ethnic group of student_2', 'male Ethnic group of student_3', 'male Ethnic group of student_4', 'male Ethnic group of student_5', 'male Ethnic group of student_6', 'male Ethnic group of student_7', 'male Ethnic group of student_8', 'male Ethnic group of student_9', 'male Ethnic group of student_10', 'male Ethnic group of student_11', 'male School denomination_1', 'male School denomination_2', 'male School denomination_3', 'male VR Band of Student_1', 'male VR Band of Student_2', 'male VR Band of Student_3', 'mixed Year', 'mixed VR1 Band', 'mixed Ethnic group of student_1', 'mixed Ethnic group of student_2', 'mixed Ethnic group of student_3', 'mixed Ethnic group of student_4', 'mixed Ethnic group of student_5', 'mixed Ethnic group of student_6', 'mixed Ethnic group of student_7', 'mixed Ethnic group of student_8', 'mixed Ethnic group of student_9', 'mixed Ethnic group of student_10', 'mixed Ethnic group of student_11', 'mixed School denomination_1', 'mixed School denomination_2', 'mixed School denomination_3', 'mixed VR Band of Student_1', 'mixed VR Band of Student_2', 'mixed VR Band of Student_3', 'female Year', 'female VR1 Band', 'female Ethnic group of student_1', 'female Ethnic group of student_2', 'female Ethnic group of student_3', 'female Ethnic group of student_4', 'female Ethnic group of student_5', 'female Ethnic group of student_6', 'female Ethnic group of student_7', 'female Ethnic group of student_8', 'female Ethnic group of student_9', 'female Ethnic group of student_10', 'female Ethnic group of student_11', 'female School denomination_1', 'female School denomination_2', 'female School denomination_3', 'female VR Band of Student_1', 'female VR Band of Student_2', 'female VR Band of Student_3']\n",
      "Linear Regression:\n",
      "best mse:  101.38281772989905\n",
      "best parameters:  {'alpha': 20} \n",
      "\n",
      "Decision Tree:\n",
      "best mse:  170.2092385854299\n",
      "best parameters:  {'max_depth': 35, 'min_samples_split': 10, 'min_samples_leaf': 2} \n",
      "\n",
      "Linear Regression: \n",
      "Mean squared error of the final model on test data: 126.13\n",
      "Decision Tree: \n",
      "Mean squared error of the final model on test data: 159.29\n"
     ]
    }
   ],
   "source": [
    "## n = 1000\n",
    "para_grid_female = {\n",
    "    \"alpha\": [20, 21, 22, 23, 24, 25, 26, 27, 28, 29, 30, 31, 32, 33, 34, 35],\n",
    "    \"max_depth\": [35],\n",
    "    \"min_samples_split\": [10],\n",
    "    \"min_samples_leaf\": [2]\n",
    "}\n",
    "\n",
    "print(\"\\n# female is target #\\n\")\n",
    "feda_model_LR, _, _, _ = pipeline_given_target('female', data_dict, para_grid_female, 'FEDA')"
   ]
  },
  {
   "cell_type": "code",
   "execution_count": 73,
   "metadata": {},
   "outputs": [
    {
     "name": "stdout",
     "output_type": "stream",
     "text": [
      "\n",
      "# female is target #\n",
      "\n",
      "100\n",
      "first source domain:  male\n",
      "second source domain:  mixed\n",
      "# column names: #\n",
      "['Year', 'VR1 Band', 'Ethnic group of student_1', 'Ethnic group of student_2', 'Ethnic group of student_3', 'Ethnic group of student_4', 'Ethnic group of student_5', 'Ethnic group of student_6', 'Ethnic group of student_7', 'Ethnic group of student_8', 'Ethnic group of student_9', 'Ethnic group of student_10', 'Ethnic group of student_11', 'School denomination_1', 'School denomination_2', 'School denomination_3', 'VR Band of Student_1', 'VR Band of Student_2', 'VR Band of Student_3', 'male Year', 'male VR1 Band', 'male Ethnic group of student_1', 'male Ethnic group of student_2', 'male Ethnic group of student_3', 'male Ethnic group of student_4', 'male Ethnic group of student_5', 'male Ethnic group of student_6', 'male Ethnic group of student_7', 'male Ethnic group of student_8', 'male Ethnic group of student_9', 'male Ethnic group of student_10', 'male Ethnic group of student_11', 'male School denomination_1', 'male School denomination_2', 'male School denomination_3', 'male VR Band of Student_1', 'male VR Band of Student_2', 'male VR Band of Student_3', 'mixed Year', 'mixed VR1 Band', 'mixed Ethnic group of student_1', 'mixed Ethnic group of student_2', 'mixed Ethnic group of student_3', 'mixed Ethnic group of student_4', 'mixed Ethnic group of student_5', 'mixed Ethnic group of student_6', 'mixed Ethnic group of student_7', 'mixed Ethnic group of student_8', 'mixed Ethnic group of student_9', 'mixed Ethnic group of student_10', 'mixed Ethnic group of student_11', 'mixed School denomination_1', 'mixed School denomination_2', 'mixed School denomination_3', 'mixed VR Band of Student_1', 'mixed VR Band of Student_2', 'mixed VR Band of Student_3', 'female Year', 'female VR1 Band', 'female Ethnic group of student_1', 'female Ethnic group of student_2', 'female Ethnic group of student_3', 'female Ethnic group of student_4', 'female Ethnic group of student_5', 'female Ethnic group of student_6', 'female Ethnic group of student_7', 'female Ethnic group of student_8', 'female Ethnic group of student_9', 'female Ethnic group of student_10', 'female Ethnic group of student_11', 'female School denomination_1', 'female School denomination_2', 'female School denomination_3', 'female VR Band of Student_1', 'female VR Band of Student_2', 'female VR Band of Student_3']\n",
      "Linear Regression:\n",
      "best mse:  101.38281772989905\n",
      "best parameters:  {'alpha': 20} \n",
      "\n",
      "Decision Tree:\n",
      "best mse:  165.81023848297312\n",
      "best parameters:  {'max_depth': 35, 'min_samples_split': 10, 'min_samples_leaf': 2} \n",
      "\n",
      "Linear Regression: \n",
      "Mean squared error of the final model on test data: 126.13\n",
      "Decision Tree: \n",
      "Mean squared error of the final model on test data: 159.09\n"
     ]
    }
   ],
   "source": [
    "## n = 1500\n",
    "para_grid_female = {\n",
    "    \"alpha\": [20, 21, 22, 23, 24, 25, 26, 27, 28, 29, 30, 31, 32, 33, 34, 35],\n",
    "    \"max_depth\": [35],\n",
    "    \"min_samples_split\": [10],\n",
    "    \"min_samples_leaf\": [2]\n",
    "}\n",
    "\n",
    "print(\"\\n# female is target #\\n\")\n",
    "feda_model_LR, _, _, _ = pipeline_given_target('female', data_dict, para_grid_female, 'FEDA')"
   ]
  },
  {
   "cell_type": "code",
   "execution_count": 74,
   "metadata": {},
   "outputs": [
    {
     "name": "stdout",
     "output_type": "stream",
     "text": [
      "\n",
      "# female is target #\n",
      "\n",
      "100\n",
      "first source domain:  male\n",
      "second source domain:  mixed\n",
      "# column names: #\n",
      "['Year', 'VR1 Band', 'Ethnic group of student_1', 'Ethnic group of student_2', 'Ethnic group of student_3', 'Ethnic group of student_4', 'Ethnic group of student_5', 'Ethnic group of student_6', 'Ethnic group of student_7', 'Ethnic group of student_8', 'Ethnic group of student_9', 'Ethnic group of student_10', 'Ethnic group of student_11', 'School denomination_1', 'School denomination_2', 'School denomination_3', 'VR Band of Student_1', 'VR Band of Student_2', 'VR Band of Student_3', 'male Year', 'male VR1 Band', 'male Ethnic group of student_1', 'male Ethnic group of student_2', 'male Ethnic group of student_3', 'male Ethnic group of student_4', 'male Ethnic group of student_5', 'male Ethnic group of student_6', 'male Ethnic group of student_7', 'male Ethnic group of student_8', 'male Ethnic group of student_9', 'male Ethnic group of student_10', 'male Ethnic group of student_11', 'male School denomination_1', 'male School denomination_2', 'male School denomination_3', 'male VR Band of Student_1', 'male VR Band of Student_2', 'male VR Band of Student_3', 'mixed Year', 'mixed VR1 Band', 'mixed Ethnic group of student_1', 'mixed Ethnic group of student_2', 'mixed Ethnic group of student_3', 'mixed Ethnic group of student_4', 'mixed Ethnic group of student_5', 'mixed Ethnic group of student_6', 'mixed Ethnic group of student_7', 'mixed Ethnic group of student_8', 'mixed Ethnic group of student_9', 'mixed Ethnic group of student_10', 'mixed Ethnic group of student_11', 'mixed School denomination_1', 'mixed School denomination_2', 'mixed School denomination_3', 'mixed VR Band of Student_1', 'mixed VR Band of Student_2', 'mixed VR Band of Student_3', 'female Year', 'female VR1 Band', 'female Ethnic group of student_1', 'female Ethnic group of student_2', 'female Ethnic group of student_3', 'female Ethnic group of student_4', 'female Ethnic group of student_5', 'female Ethnic group of student_6', 'female Ethnic group of student_7', 'female Ethnic group of student_8', 'female Ethnic group of student_9', 'female Ethnic group of student_10', 'female Ethnic group of student_11', 'female School denomination_1', 'female School denomination_2', 'female School denomination_3', 'female VR Band of Student_1', 'female VR Band of Student_2', 'female VR Band of Student_3']\n",
      "Linear Regression:\n",
      "best mse:  101.38281772989905\n",
      "best parameters:  {'alpha': 20} \n",
      "\n",
      "Decision Tree:\n",
      "best mse:  170.4815786831966\n",
      "best parameters:  {'max_depth': 35, 'min_samples_split': 10, 'min_samples_leaf': 2} \n",
      "\n",
      "Linear Regression: \n",
      "Mean squared error of the final model on test data: 126.13\n",
      "Decision Tree: \n",
      "Mean squared error of the final model on test data: 161.25\n"
     ]
    }
   ],
   "source": [
    "## n = 2000\n",
    "para_grid_female = {\n",
    "    \"alpha\": [20, 21, 22, 23, 24, 25, 26, 27, 28, 29, 30, 31, 32, 33, 34, 35],\n",
    "    \"max_depth\": [35],\n",
    "    \"min_samples_split\": [10],\n",
    "    \"min_samples_leaf\": [2]\n",
    "}\n",
    "\n",
    "print(\"\\n# female is target #\\n\")\n",
    "feda_model_LR, _, _, _ = pipeline_given_target('female', data_dict, para_grid_female, 'FEDA')"
   ]
  },
  {
   "cell_type": "code",
   "execution_count": 75,
   "metadata": {},
   "outputs": [
    {
     "name": "stdout",
     "output_type": "stream",
     "text": [
      "\n",
      "# female is target #\n",
      "\n",
      "100\n",
      "first source domain:  male\n",
      "second source domain:  mixed\n",
      "# column names: #\n",
      "['Year', 'VR1 Band', 'Ethnic group of student_1', 'Ethnic group of student_2', 'Ethnic group of student_3', 'Ethnic group of student_4', 'Ethnic group of student_5', 'Ethnic group of student_6', 'Ethnic group of student_7', 'Ethnic group of student_8', 'Ethnic group of student_9', 'Ethnic group of student_10', 'Ethnic group of student_11', 'School denomination_1', 'School denomination_2', 'School denomination_3', 'VR Band of Student_1', 'VR Band of Student_2', 'VR Band of Student_3', 'male Year', 'male VR1 Band', 'male Ethnic group of student_1', 'male Ethnic group of student_2', 'male Ethnic group of student_3', 'male Ethnic group of student_4', 'male Ethnic group of student_5', 'male Ethnic group of student_6', 'male Ethnic group of student_7', 'male Ethnic group of student_8', 'male Ethnic group of student_9', 'male Ethnic group of student_10', 'male Ethnic group of student_11', 'male School denomination_1', 'male School denomination_2', 'male School denomination_3', 'male VR Band of Student_1', 'male VR Band of Student_2', 'male VR Band of Student_3', 'mixed Year', 'mixed VR1 Band', 'mixed Ethnic group of student_1', 'mixed Ethnic group of student_2', 'mixed Ethnic group of student_3', 'mixed Ethnic group of student_4', 'mixed Ethnic group of student_5', 'mixed Ethnic group of student_6', 'mixed Ethnic group of student_7', 'mixed Ethnic group of student_8', 'mixed Ethnic group of student_9', 'mixed Ethnic group of student_10', 'mixed Ethnic group of student_11', 'mixed School denomination_1', 'mixed School denomination_2', 'mixed School denomination_3', 'mixed VR Band of Student_1', 'mixed VR Band of Student_2', 'mixed VR Band of Student_3', 'female Year', 'female VR1 Band', 'female Ethnic group of student_1', 'female Ethnic group of student_2', 'female Ethnic group of student_3', 'female Ethnic group of student_4', 'female Ethnic group of student_5', 'female Ethnic group of student_6', 'female Ethnic group of student_7', 'female Ethnic group of student_8', 'female Ethnic group of student_9', 'female Ethnic group of student_10', 'female Ethnic group of student_11', 'female School denomination_1', 'female School denomination_2', 'female School denomination_3', 'female VR Band of Student_1', 'female VR Band of Student_2', 'female VR Band of Student_3']\n",
      "Linear Regression:\n",
      "best mse:  105.33218706596398\n",
      "best parameters:  {'alpha': 76} \n",
      "\n",
      "Decision Tree:\n",
      "best mse:  164.84018619206626\n",
      "best parameters:  {'max_depth': 35, 'min_samples_split': 10, 'min_samples_leaf': 2} \n",
      "\n",
      "Linear Regression: \n",
      "Mean squared error of the final model on test data: 132.94\n",
      "Decision Tree: \n",
      "Mean squared error of the final model on test data: 158.69\n"
     ]
    }
   ],
   "source": [
    "## n = 2500\n",
    "para_grid_female = {\n",
    "    \"alpha\": [76, 77, 78, 79, 80, 81, 82, 83, 84, 85, 86, 87],\n",
    "    \"max_depth\": [35],\n",
    "    \"min_samples_split\": [10],\n",
    "    \"min_samples_leaf\": [2]\n",
    "}\n",
    "\n",
    "print(\"\\n# female is target #\\n\")\n",
    "feda_model_LR, _, _, _ = pipeline_given_target('female', data_dict, para_grid_female, 'FEDA')"
   ]
  },
  {
   "cell_type": "code",
   "execution_count": 76,
   "metadata": {},
   "outputs": [
    {
     "name": "stdout",
     "output_type": "stream",
     "text": [
      "\n",
      "# female is target #\n",
      "\n",
      "100\n",
      "first source domain:  male\n",
      "second source domain:  mixed\n",
      "# column names: #\n",
      "['Year', 'VR1 Band', 'Ethnic group of student_1', 'Ethnic group of student_2', 'Ethnic group of student_3', 'Ethnic group of student_4', 'Ethnic group of student_5', 'Ethnic group of student_6', 'Ethnic group of student_7', 'Ethnic group of student_8', 'Ethnic group of student_9', 'Ethnic group of student_10', 'Ethnic group of student_11', 'School denomination_1', 'School denomination_2', 'School denomination_3', 'VR Band of Student_1', 'VR Band of Student_2', 'VR Band of Student_3', 'male Year', 'male VR1 Band', 'male Ethnic group of student_1', 'male Ethnic group of student_2', 'male Ethnic group of student_3', 'male Ethnic group of student_4', 'male Ethnic group of student_5', 'male Ethnic group of student_6', 'male Ethnic group of student_7', 'male Ethnic group of student_8', 'male Ethnic group of student_9', 'male Ethnic group of student_10', 'male Ethnic group of student_11', 'male School denomination_1', 'male School denomination_2', 'male School denomination_3', 'male VR Band of Student_1', 'male VR Band of Student_2', 'male VR Band of Student_3', 'mixed Year', 'mixed VR1 Band', 'mixed Ethnic group of student_1', 'mixed Ethnic group of student_2', 'mixed Ethnic group of student_3', 'mixed Ethnic group of student_4', 'mixed Ethnic group of student_5', 'mixed Ethnic group of student_6', 'mixed Ethnic group of student_7', 'mixed Ethnic group of student_8', 'mixed Ethnic group of student_9', 'mixed Ethnic group of student_10', 'mixed Ethnic group of student_11', 'mixed School denomination_1', 'mixed School denomination_2', 'mixed School denomination_3', 'mixed VR Band of Student_1', 'mixed VR Band of Student_2', 'mixed VR Band of Student_3', 'female Year', 'female VR1 Band', 'female Ethnic group of student_1', 'female Ethnic group of student_2', 'female Ethnic group of student_3', 'female Ethnic group of student_4', 'female Ethnic group of student_5', 'female Ethnic group of student_6', 'female Ethnic group of student_7', 'female Ethnic group of student_8', 'female Ethnic group of student_9', 'female Ethnic group of student_10', 'female Ethnic group of student_11', 'female School denomination_1', 'female School denomination_2', 'female School denomination_3', 'female VR Band of Student_1', 'female VR Band of Student_2', 'female VR Band of Student_3']\n",
      "Linear Regression:\n",
      "best mse:  105.33218706596398\n",
      "best parameters:  {'alpha': 76} \n",
      "\n",
      "Decision Tree:\n",
      "best mse:  166.93720937347814\n",
      "best parameters:  {'max_depth': 35, 'min_samples_split': 10, 'min_samples_leaf': 2} \n",
      "\n",
      "Linear Regression: \n",
      "Mean squared error of the final model on test data: 132.94\n",
      "Decision Tree: \n",
      "Mean squared error of the final model on test data: 161.89\n",
      "column order:  ['general', 'male', 'mixed', 'female']\n",
      "Year\n",
      "[1.58, -0.16, 0.26, 0.95]\n"
     ]
    },
    {
     "data": {
      "image/png": "[encoded data removed]",
      "text/plain": [
       "<Figure size 432x288 with 1 Axes>"
      ]
     },
     "metadata": {},
     "output_type": "display_data"
    },
    {
     "name": "stdout",
     "output_type": "stream",
     "text": [
      "VR1 Band\n",
      "[4.24, 1.32, 2.02, 0.72]\n"
     ]
    },
    {
     "data": {
      "image/png": "[encoded data removed]",
      "text/plain": [
       "<Figure size 432x288 with 1 Axes>"
      ]
     },
     "metadata": {},
     "output_type": "display_data"
    },
    {
     "name": "stdout",
     "output_type": "stream",
     "text": [
      "Ethnic group of student_1\n",
      "[-2.28, -1.32, -1.09, 0.13]\n"
     ]
    },
    {
     "data": {
      "image/png": "[encoded data removed]",
      "text/plain": [
       "<Figure size 432x288 with 1 Axes>"
      ]
     },
     "metadata": {},
     "output_type": "display_data"
    },
    {
     "name": "stdout",
     "output_type": "stream",
     "text": [
      "Ethnic group of student_2\n",
      "[-0.31, -0.45, 0.22, -0.08]\n"
     ]
    },
    {
     "data": {
      "image/png": "[encoded data removed]",
      "text/plain": [
       "<Figure size 432x288 with 1 Axes>"
      ]
     },
     "metadata": {},
     "output_type": "display_data"
    },
    {
     "name": "stdout",
     "output_type": "stream",
     "text": [
      "Ethnic group of student_3\n",
      "[-0.27, -0.38, 0.13, -0.02]\n"
     ]
    },
    {
     "data": {
      "image/png": "[encoded data removed]",
      "text/plain": [
       "<Figure size 432x288 with 1 Axes>"
      ]
     },
     "metadata": {},
     "output_type": "display_data"
    },
    {
     "name": "stdout",
     "output_type": "stream",
     "text": [
      "Ethnic group of student_4\n",
      "[0.15, 1.03, -0.88, 0.0]\n"
     ]
    },
    {
     "data": {
      "image/png": "[encoded data removed]",
      "text/plain": [
       "<Figure size 432x288 with 1 Axes>"
      ]
     },
     "metadata": {},
     "output_type": "display_data"
    },
    {
     "name": "stdout",
     "output_type": "stream",
     "text": [
      "Ethnic group of student_5\n",
      "[-2.68, -2.25, -0.82, 0.38]\n"
     ]
    },
    {
     "data": {
      "image/png": "[encoded data removed]",
      "text/plain": [
       "<Figure size 432x288 with 1 Axes>"
      ]
     },
     "metadata": {},
     "output_type": "display_data"
    },
    {
     "name": "stdout",
     "output_type": "stream",
     "text": [
      "Ethnic group of student_6\n",
      "[-0.01, 0.92, -0.93, 0.0]\n"
     ]
    },
    {
     "data": {
      "image/png": "[encoded data removed]",
      "text/plain": [
       "<Figure size 432x288 with 1 Axes>"
      ]
     },
     "metadata": {},
     "output_type": "display_data"
    },
    {
     "name": "stdout",
     "output_type": "stream",
     "text": [
      "Ethnic group of student_7\n",
      "[2.02, 0.76, 1.3, -0.04]\n"
     ]
    },
    {
     "data": {
      "image/png": "[encoded data removed]",
      "text/plain": [
       "<Figure size 432x288 with 1 Axes>"
      ]
     },
     "metadata": {},
     "output_type": "display_data"
    },
    {
     "name": "stdout",
     "output_type": "stream",
     "text": [
      "Ethnic group of student_8\n",
      "[1.83, 1.39, 0.24, 0.21]\n"
     ]
    },
    {
     "data": {
      "image/png": "[encoded data removed]",
      "text/plain": [
       "<Figure size 432x288 with 1 Axes>"
      ]
     },
     "metadata": {},
     "output_type": "display_data"
    },
    {
     "name": "stdout",
     "output_type": "stream",
     "text": [
      "Ethnic group of student_9\n",
      "[2.59, 1.1, 1.49, 0.0]\n"
     ]
    },
    {
     "data": {
      "image/png": "[encoded data removed]",
      "text/plain": [
       "<Figure size 432x288 with 1 Axes>"
      ]
     },
     "metadata": {},
     "output_type": "display_data"
    },
    {
     "name": "stdout",
     "output_type": "stream",
     "text": [
      "Ethnic group of student_10\n",
      "[-0.67, -0.32, -0.53, 0.19]\n"
     ]
    },
    {
     "data": {
      "image/png": "[encoded data removed]",
      "text/plain": [
       "<Figure size 432x288 with 1 Axes>"
      ]
     },
     "metadata": {},
     "output_type": "display_data"
    },
    {
     "name": "stdout",
     "output_type": "stream",
     "text": [
      "Ethnic group of student_11\n",
      "[-0.38, -0.48, 0.07, 0.03]\n"
     ]
    },
    {
     "data": {
      "image/png": "[encoded data removed]",
      "text/plain": [
       "<Figure size 432x288 with 1 Axes>"
      ]
     },
     "metadata": {},
     "output_type": "display_data"
    },
    {
     "name": "stdout",
     "output_type": "stream",
     "text": [
      "School denomination_1\n",
      "[-0.64, 0.13, -0.65, -0.11]\n"
     ]
    },
    {
     "data": {
      "image/png": "[encoded data removed]",
      "text/plain": [
       "<Figure size 432x288 with 1 Axes>"
      ]
     },
     "metadata": {},
     "output_type": "display_data"
    },
    {
     "name": "stdout",
     "output_type": "stream",
     "text": [
      "School denomination_2\n",
      "[0.37, 1.37, -1.26, 0.26]\n"
     ]
    },
    {
     "data": {
      "image/png": "[encoded data removed]",
      "text/plain": [
       "<Figure size 432x288 with 1 Axes>"
      ]
     },
     "metadata": {},
     "output_type": "display_data"
    },
    {
     "name": "stdout",
     "output_type": "stream",
     "text": [
      "School denomination_3\n",
      "[0.27, -1.51, 1.11, 0.67]\n"
     ]
    },
    {
     "data": {
      "image/png": "[encoded data removed]",
      "text/plain": [
       "<Figure size 432x288 with 1 Axes>"
      ]
     },
     "metadata": {},
     "output_type": "display_data"
    },
    {
     "name": "stdout",
     "output_type": "stream",
     "text": [
      "VR Band of Student_1\n",
      "[-5.81, -2.24, -2.91, -0.66]\n"
     ]
    },
    {
     "data": {
      "image/png": "[encoded data removed]",
      "text/plain": [
       "<Figure size 432x288 with 1 Axes>"
      ]
     },
     "metadata": {},
     "output_type": "display_data"
    },
    {
     "name": "stdout",
     "output_type": "stream",
     "text": [
      "VR Band of Student_2\n",
      "[6.41, 2.54, 2.86, 1.01]\n"
     ]
    },
    {
     "data": {
      "image/png": "[encoded data removed]",
      "text/plain": [
       "<Figure size 432x288 with 1 Axes>"
      ]
     },
     "metadata": {},
     "output_type": "display_data"
    },
    {
     "name": "stdout",
     "output_type": "stream",
     "text": [
      "VR Band of Student_3\n",
      "[-0.6, -0.32, -0.75, 0.46]\n"
     ]
    },
    {
     "data": {
      "image/png": "[encoded data removed]",
      "text/plain": [
       "<Figure size 432x288 with 1 Axes>"
      ]
     },
     "metadata": {},
     "output_type": "display_data"
    }
   ],
   "source": [
    "## n = all instances\n",
    "para_grid_female = {\n",
    "    \"alpha\": [76, 77, 78, 79, 80, 81, 82, 83, 84, 85, 86, 87],\n",
    "    \"max_depth\": [35],\n",
    "    \"min_samples_split\": [10],\n",
    "    \"min_samples_leaf\": [2]\n",
    "}\n",
    "\n",
    "print(\"\\n# female is target #\\n\")\n",
    "feda_model_LR, _, _, _ = pipeline_given_target('female', data_dict, para_grid_female, 'FEDA')\n",
    "\n",
    "coefs = feda_model_LR.coef_\n",
    "column_order = ['general', 'male', 'mixed', 'female']\n",
    "\n",
    "plot_coefficients_linear_regression(coefs, column_order)"
   ]
  },
  {
   "cell_type": "code",
   "execution_count": 77,
   "metadata": {},
   "outputs": [
    {
     "data": {
      "image/png": "[encoded data removed]",
      "text/plain": [
       "<Figure size 432x288 with 1 Axes>"
      ]
     },
     "metadata": {
      "needs_background": "light"
     },
     "output_type": "display_data"
    }
   ],
   "source": [
    "# x axis values \n",
    "x = [300, 500 ,800, 1000, 1500, 2000, 2500, 3527] \n",
    "# corresponding y axis values \n",
    "y = [124.98, 124.32, 122.86, 122.66, 121.56, 121.86, 121.48, 121.22] \n",
    "  \n",
    "\n",
    "plt.plot(x, y) \n",
    "plt.xlabel('number of target domain instances') \n",
    "# naming the y axis \n",
    "plt.ylabel('MSE') \n",
    "    \n",
    "# function to show the plot \n",
    "plt.show() "
   ]
  },
  {
   "cell_type": "code",
   "execution_count": null,
   "metadata": {},
   "outputs": [],
   "source": []
  },
  {
   "cell_type": "code",
   "execution_count": null,
   "metadata": {},
   "outputs": [],
   "source": []
  }
 ],
 "metadata": {
  "kernelspec": {
   "display_name": "Python 3",
   "language": "python",
   "name": "python3"
  },
  "language_info": {
   "codemirror_mode": {
    "name": "ipython",
    "version": 3
   },
   "file_extension": ".py",
   "mimetype": "text/x-python",
   "name": "python",
   "nbconvert_exporter": "python",
   "pygments_lexer": "ipython3",
   "version": "3.7.6"
  }
 },
 "nbformat": 4,
 "nbformat_minor": 4
}
